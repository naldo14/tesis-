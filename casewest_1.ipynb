{
  "nbformat": 4,
  "nbformat_minor": 0,
  "metadata": {
    "colab": {
      "provenance": [],
      "mount_file_id": "1suV5Kv8Z6KHrU6BWIh5DYb3iSQJ6pakj",
      "authorship_tag": "ABX9TyP2glJEdxBiofRcz5WKBWac",
      "include_colab_link": true
    },
    "kernelspec": {
      "name": "python3",
      "display_name": "Python 3"
    },
    "language_info": {
      "name": "python"
    }
  },
  "cells": [
    {
      "cell_type": "markdown",
      "metadata": {
        "id": "view-in-github",
        "colab_type": "text"
      },
      "source": [
        "<a href=\"https://colab.research.google.com/github/naldo14/tesis-/blob/main/casewest_1.ipynb\" target=\"_parent\"><img src=\"https://colab.research.google.com/assets/colab-badge.svg\" alt=\"Open In Colab\"/></a>"
      ]
    },
    {
      "cell_type": "code",
      "execution_count": 1,
      "metadata": {
        "id": "Np7gtRCdbSBE"
      },
      "outputs": [],
      "source": [
        "import h5py #librerua para crear archivos , h5py\n",
        "import sys\n",
        "import numpy as np\n",
        "import math\n",
        "from scipy import signal    #aqui estoy usando la libreria signal\n",
        "import scipy.io\n",
        "import os\n",
        "import pandas as pd\n",
        "import pywt\n",
        "import tensorflow_probability as tfp\n",
        "from tensorflow import keras\n",
        "tfd = tfp.distributions\n",
        "tfpl = tfp.layers\n",
        "from tensorflow.keras.callbacks import LearningRateScheduler"
      ]
    },
    {
      "cell_type": "code",
      "source": [
        "#hacer el mounted de mi cuenta drive\n",
        "from google.colab import drive\n",
        "drive.mount('/content/drive')"
      ],
      "metadata": {
        "id": "KfLVDq7beZFp",
        "colab": {
          "base_uri": "https://localhost:8080/"
        },
        "outputId": "a4de8016-ea7a-43f3-98db-248700cc8d20"
      },
      "execution_count": 2,
      "outputs": [
        {
          "output_type": "stream",
          "name": "stdout",
          "text": [
            "Drive already mounted at /content/drive; to attempt to forcibly remount, call drive.mount(\"/content/drive\", force_remount=True).\n"
          ]
        }
      ]
    },
    {
      "cell_type": "code",
      "source": [
        "#celda para crear la lista con los paths de mi data\n",
        "paths=[] #creo la lista de pahts\n",
        "names=[] #creo la lista de nombres\n",
        "output_file=[]\n",
        "paths.append('/content/drive/MyDrive/tesis USB /case west reserve university')\n",
        "names.append('casewest')\n",
        "output_file.append('/content/drive/MyDrive/tesis USB /case west reserve university/data_1')"
      ],
      "metadata": {
        "id": "qClZds_Yed5o"
      },
      "execution_count": null,
      "outputs": []
    },
    {
      "cell_type": "code",
      "source": [
        "#hago el unar del archivo\n",
        "!pip install rarfile\n",
        "\n",
        "from google.colab import drive\n",
        "import rarfile\n",
        "\n",
        "# Path to the .zip file in Google Drive\n",
        "zip_file_path =\"/content/drive/MyDrive/tesis USB /case west reserve university/data_1/data.rar\"\n",
        "\n",
        "with rarfile.RarFile(zip_file_path, 'r') as rf:\n",
        "    rf.extractall(output_file[0])"
      ],
      "metadata": {
        "colab": {
          "base_uri": "https://localhost:8080/",
          "height": 279
        },
        "id": "M2opzPJuftNi",
        "outputId": "aeacdc76-3650-4b63-9f05-fc95c626cc7d"
      },
      "execution_count": 3,
      "outputs": [
        {
          "output_type": "stream",
          "name": "stdout",
          "text": [
            "Collecting rarfile\n",
            "  Downloading rarfile-4.1-py3-none-any.whl (28 kB)\n",
            "Installing collected packages: rarfile\n",
            "Successfully installed rarfile-4.1\n"
          ]
        },
        {
          "output_type": "error",
          "ename": "NameError",
          "evalue": "ignored",
          "traceback": [
            "\u001b[0;31m---------------------------------------------------------------------------\u001b[0m",
            "\u001b[0;31mNameError\u001b[0m                                 Traceback (most recent call last)",
            "\u001b[0;32m<ipython-input-3-2e70e71b070c>\u001b[0m in \u001b[0;36m<cell line: 10>\u001b[0;34m()\u001b[0m\n\u001b[1;32m      9\u001b[0m \u001b[0;34m\u001b[0m\u001b[0m\n\u001b[1;32m     10\u001b[0m \u001b[0;32mwith\u001b[0m \u001b[0mrarfile\u001b[0m\u001b[0;34m.\u001b[0m\u001b[0mRarFile\u001b[0m\u001b[0;34m(\u001b[0m\u001b[0mzip_file_path\u001b[0m\u001b[0;34m,\u001b[0m \u001b[0;34m'r'\u001b[0m\u001b[0;34m)\u001b[0m \u001b[0;32mas\u001b[0m \u001b[0mrf\u001b[0m\u001b[0;34m:\u001b[0m\u001b[0;34m\u001b[0m\u001b[0;34m\u001b[0m\u001b[0m\n\u001b[0;32m---> 11\u001b[0;31m     \u001b[0mrf\u001b[0m\u001b[0;34m.\u001b[0m\u001b[0mextractall\u001b[0m\u001b[0;34m(\u001b[0m\u001b[0moutput_file\u001b[0m\u001b[0;34m[\u001b[0m\u001b[0;36m0\u001b[0m\u001b[0;34m]\u001b[0m\u001b[0;34m)\u001b[0m\u001b[0;34m\u001b[0m\u001b[0;34m\u001b[0m\u001b[0m\n\u001b[0m",
            "\u001b[0;31mNameError\u001b[0m: name 'output_file' is not defined"
          ]
        }
      ]
    },
    {
      "cell_type": "code",
      "source": [
        "# #creo que los h5py file vacios\n",
        "# import os\n",
        "# import h5py\n",
        "# # List of directory paths\n",
        "# directory_paths = [\n",
        "#     \"/content/drive/MyDrive/tesis USB /case west reserve university/data_1/inner\",\n",
        "#     \"/content/drive/MyDrive/tesis USB /case west reserve university/data_1/outter\",\n",
        "#     \"/content/drive/MyDrive/tesis USB /case west reserve university/data_1/outter1\",\n",
        "#     \"/content/drive/MyDrive/tesis USB /case west reserve university/data_1/normal\",\n",
        "#     \"/content/drive/MyDrive/tesis USB /case west reserve university/data_1/ball\"\n",
        "# ]\n",
        "\n",
        "# # Loop through each directory path\n",
        "# for directory_path in directory_paths:\n",
        "#     # Get the directory name (e.g., \"inner,\" \"outter,\" etc.)\n",
        "#     directory_name = os.path.basename(directory_path)\n",
        "\n",
        "#     # Create an h5py file for the directory\n",
        "#     h5py_file = h5py.File(f\"{directory_name}.h5\", \"w\")\n",
        "\n",
        "#     # List .mat files in the directory\n",
        "#     mat_files = [f for f in os.listdir(directory_path) if f.endswith(\".mat\")]\n",
        "\n",
        "#     # Add each .mat file to the h5py file as an empty dataset\n",
        "#     for mat_file in mat_files:\n",
        "#         # Create an empty dataset\n",
        "#         dataset = h5py_file.create_dataset(mat_file, shape=(0,), dtype='f4')\n",
        "\n",
        "#     # Close the h5py file\n",
        "#     h5py_file.close()\n",
        "\n",
        "file_names = [\"inner.h5\", \"outter.h5\", \"normal.h5\",\"outter1.h5\",\"ball.h5\"]\n",
        "drive_path=\"/content/drive/MyDrive/tesis USB /case west reserve university/data_1\"\n",
        "for file_name in file_names:\n",
        "    h5_file_path = os.path.join(drive_path, file_name)\n",
        "    with h5py.File(h5_file_path, 'w') as h5file:\n",
        "        # You can optionally add attributes, datasets, or groups to the file\n",
        "        # h5file.create_dataset(\"dataset_name\", data=None)\n",
        "        # h5file.create_group(\"group_name\")\n",
        "        # h5file.attrs[\"attribute_name\"] = \"attribute_value\"\n",
        "        print(\"Empty H5PY files created in Google Drive.\")\n"
      ],
      "metadata": {
        "id": "_BuWOWrPnzgG",
        "colab": {
          "base_uri": "https://localhost:8080/"
        },
        "outputId": "e4bdac86-4066-455f-b5fd-e0ac874a45c3"
      },
      "execution_count": null,
      "outputs": [
        {
          "output_type": "stream",
          "name": "stdout",
          "text": [
            "Empty H5PY files created in Google Drive.\n",
            "Empty H5PY files created in Google Drive.\n",
            "Empty H5PY files created in Google Drive.\n",
            "Empty H5PY files created in Google Drive.\n",
            "Empty H5PY files created in Google Drive.\n"
          ]
        }
      ]
    },
    {
      "cell_type": "code",
      "source": [
        "\n",
        "### function to storaged all the .mat file into the h5py's file\n",
        "def save_mat_to_h5py(mat_files_directories, h5py_file_names):\n",
        "    if len(mat_files_directories) != len(h5py_file_names):\n",
        "        print(\"Error: The number of directories and h5py file names should match.\")\n",
        "        return\n",
        "\n",
        "    for mat_files_directory, h5py_file_name in zip(mat_files_directories, h5py_file_names):\n",
        "        # Open the h5py file\n",
        "        with h5py.File(h5py_file_name, 'w') as h5file:\n",
        "            # Get the list of .mat files in the directory\n",
        "            mat_files = [f for f in os.listdir(mat_files_directory) if f.endswith(\".mat\")]\n",
        "\n",
        "            # Add each .mat file content to the h5py file\n",
        "            for mat_file in mat_files:\n",
        "                # Load the ..mat file\n",
        "                mat_data = scipy.io.loadmat(os.path.join(mat_files_directory, mat_file))\n",
        "\n",
        "                # Create datasets for each variable in the .mat file\n",
        "                for var_name, var_data in mat_data.items():\n",
        "                    h5file.create_dataset(f\"{mat_file}/{var_name}\", data=var_data)\n",
        "\n",
        "mat_files_directories = [\n",
        "    '/content/drive/MyDrive/tesis USB /case west reserve university/data_1/data/inner',\n",
        "    '/content/drive/MyDrive/tesis USB /case west reserve university/data_1/data/normal',\n",
        "    '/content/drive/MyDrive/tesis USB /case west reserve university/data_1/data/outter',\n",
        "    '/content/drive/MyDrive/tesis USB /case west reserve university/data_1/data/outter1',\n",
        "    '/content/drive/MyDrive/tesis USB /case west reserve university/data_1/data/ball'\n",
        "\n",
        "]\n",
        "h5py_file_names = [\n",
        "    '/content/drive/MyDrive/tesis USB /case west reserve university/data_1/inner.h5',\n",
        "    '/content/drive/MyDrive/tesis USB /case west reserve university/data_1/normal.h5',\n",
        "    '/content/drive/MyDrive/tesis USB /case west reserve university/data_1/outter.h5',\n",
        "    '/content/drive/MyDrive/tesis USB /case west reserve university/data_1/outter1.h5',\n",
        "    '/content/drive/MyDrive/tesis USB /case west reserve university/data_1/ball.h5'\n",
        "]\n",
        "save_mat_to_h5py(mat_files_directories, h5py_file_names)"
      ],
      "metadata": {
        "id": "HObiN8sZ6bx0"
      },
      "execution_count": null,
      "outputs": []
    },
    {
      "cell_type": "code",
      "source": [
        "# 'data' now contains a dictionary where the keys are the .mat file names\n",
        "# and the values are dictionaries containing the arrays for each .mat file\n",
        "\n",
        "def get_h5py_data(h5py_file_path):\n",
        "    data = {}\n",
        "\n",
        "    # Open the h5py file\n",
        "    with h5py.File(h5py_file_path, 'r') as h5file:\n",
        "        # List the keys (dataset names) in the h5py file\n",
        "        keys = list(h5file.keys())\n",
        "\n",
        "        for key in keys:\n",
        "            # Access the content of the .mat file (dataset)\n",
        "            mat_data = h5file[key]\n",
        "\n",
        "            # Create a dictionary to store the arrays for this .mat file\n",
        "            arrays = {}\n",
        "\n",
        "            for subkey, value in mat_data.items():\n",
        "                if isinstance(value, h5py.Group):\n",
        "                    # If it's a group (nested data), you can access its keys\n",
        "                    subkeys = list(value.keys())\n",
        "                    for subkey in subkeys:\n",
        "                        # Access the actual data (arrays) and store in the dictionary\n",
        "                        subkey_data = value[subkey][()]\n",
        "                        arrays[subkey] = subkey_data\n",
        "                else:\n",
        "                    # If it's a dataset (e.g., a variable), you can access its value\n",
        "                    # and store it in the dictionary using the original key\n",
        "                    variable_data = value[()]\n",
        "                    arrays[subkey] = variable_data\n",
        "\n",
        "            # Store the arrays for this .mat file in the data dictionary\n",
        "            data[key] = arrays\n",
        "\n",
        "    return data\n"
      ],
      "metadata": {
        "id": "09aiBY-PA6Nk"
      },
      "execution_count": 16,
      "outputs": []
    },
    {
      "cell_type": "code",
      "source": [
        "\n",
        "def band_maker(coeffs, fs, title):\n",
        "    p = len(coeffs)- 1\n",
        "    low_frequencies = [None] * len(coeffs)\n",
        "    high_frequencies = [None] * len(coeffs)\n",
        "\n",
        "    # low_frequencies[0] = 0\n",
        "    # high_frequencies[0] = fs / (2 ** (p) * 2)\n",
        "    for i in range(0, len(coeffs)):\n",
        "         high_frequencies[i] = fs / (2 ** (p+-i + 1))\n",
        "    low_frequencies[0]=0\n",
        "    low_frequencies[1:len(low_frequencies)]= high_frequencies[:len(low_frequencies) - 1]\n",
        "\n",
        "\n",
        "\n",
        "    return  high_frequencies,low_frequencies"
      ],
      "metadata": {
        "id": "6IgxjkfiEd-w"
      },
      "execution_count": 4,
      "outputs": []
    },
    {
      "cell_type": "code",
      "source": [
        "def frequencies_maker(N,fs,d,D,theta):\n",
        "  theta=(theta/180)*np.pi\n",
        "  FTF=(fs/2)*(1-d/D*np.cos(theta))\n",
        "  BPFI=(N*fs/2)*(1+d/D*np.cos(theta))\n",
        "  BPFO=(N*fs/2)*(1-d/D*np.cos(theta))\n",
        "  BSF=(D*fs/d)*(1-(d/D)**2*np.cos(theta))\n",
        "  return(FTF,BPFI,BPFO,BSF)\n"
      ],
      "metadata": {
        "id": "S2jaHAMsEiEP"
      },
      "execution_count": 5,
      "outputs": []
    },
    {
      "cell_type": "code",
      "source": [
        "FTF,BPFI,BPFO,BSF=frequencies_maker(9,50.17,7.90,38.5,0) #estos datos son para el daata set coreano\n",
        "data = {\n",
        "    'Name': ['Fundamental train frequency (FTF)', 'Ball pass frequency inner (BPFI)', 'Ball pass frequency outer (BPFO)','Ball spin frequency (BSF)'],\n",
        "    'Values (HZ)': [FTF, BPFI, BPFO,BSF]\n",
        "}\n",
        "\n",
        "# Create a dataframe from the dictionary\n",
        "df = pd.DataFrame(data)\n",
        "\n",
        "# Print the dataframe\n",
        "print(df)"
      ],
      "metadata": {
        "colab": {
          "base_uri": "https://localhost:8080/"
        },
        "id": "ZfIjXas3Eo1O",
        "outputId": "b69b697d-a8ec-4e3f-d2d2-13bf4131af97"
      },
      "execution_count": 11,
      "outputs": [
        {
          "output_type": "stream",
          "name": "stdout",
          "text": [
            "                                Name  Values (HZ)\n",
            "0  Fundamental train frequency (FTF)    19.937688\n",
            "1   Ball pass frequency inner (BPFI)   272.090805\n",
            "2   Ball pass frequency outer (BPFO)   179.439195\n",
            "3          Ball spin frequency (BSF)   234.204744\n"
          ]
        }
      ]
    },
    {
      "cell_type": "code",
      "source": [
        "def cwt_maker(dic_data, wavelet='db38', level=5):\n",
        "  w = pywt.Wavelet(wavelet)\n",
        "  coeffs = pywt.wavedec(dic_data, w, level=level)\n",
        "  print(level)\n",
        "  energies_levels = [np.sum(np.abs(coeffs)**2) for coeffs in coeffs]\n",
        "  array_dwt = energies_levels\n",
        "\n",
        "  return (np.array(array_dwt))\n"
      ],
      "metadata": {
        "id": "_5Lyi0-6imwc"
      },
      "execution_count": 7,
      "outputs": []
    },
    {
      "cell_type": "code",
      "source": [
        "#aqui solo normalizo los niveles energeticos\n",
        "\n",
        "def normalization_from_coeffs(coeffs):\n",
        "\n",
        "    mean_energy = np.mean(coeffs)\n",
        "    std_energy = np.std(coeffs)\n",
        "\n",
        "    # Calculate Z-scores\n",
        "    z_scores = [(energy - mean_energy) / std_energy for energy in coeffs]\n",
        "\n",
        "    return z_scores"
      ],
      "metadata": {
        "id": "W-ur5HEHEk-o"
      },
      "execution_count": 8,
      "outputs": []
    },
    {
      "cell_type": "code",
      "source": [
        "## almacenamiento de la data inner\n",
        "file_path = '/content/drive/MyDrive/tesis USB /case west reserve university/data_1/inner.h5'\n",
        "data_inner = get_h5py_data(file_path)"
      ],
      "metadata": {
        "id": "scVPx_mPBebJ"
      },
      "execution_count": null,
      "outputs": []
    },
    {
      "cell_type": "code",
      "source": [
        "data_inner.keys()"
      ],
      "metadata": {
        "colab": {
          "base_uri": "https://localhost:8080/"
        },
        "id": "P3oiOvRagzyt",
        "outputId": "69c76e7c-43e9-4b4c-98f2-993b5dcb3575"
      },
      "execution_count": null,
      "outputs": [
        {
          "output_type": "execute_result",
          "data": {
            "text/plain": [
              "dict_keys(['109.mat', '110.mat', '111.mat', '112.mat', '174.mat', '175.mat', '176.mat', '177.mat', '213.mat', '214.mat', '215.mat', '217.mat'])"
            ]
          },
          "metadata": {},
          "execution_count": 21
        }
      ]
    },
    {
      "cell_type": "code",
      "source": [
        "## almacenamiento de la data outter\n",
        "file_path = '/content/drive/MyDrive/tesis USB /case west reserve university/data_1/outter.h5'\n",
        "data_outter = get_h5py_data(file_path)"
      ],
      "metadata": {
        "id": "mfChS3fUhSWS"
      },
      "execution_count": null,
      "outputs": []
    },
    {
      "cell_type": "code",
      "source": [
        "data_outter.keys()"
      ],
      "metadata": {
        "colab": {
          "base_uri": "https://localhost:8080/"
        },
        "id": "tz7JoSbchTXg",
        "outputId": "5a1e8964-dacd-48dd-9bd6-6e9e0b5f869c"
      },
      "execution_count": null,
      "outputs": [
        {
          "output_type": "execute_result",
          "data": {
            "text/plain": [
              "dict_keys(['135.mat', '136.mat', '137.mat', '138.mat', '190.mat', '191.mat', '192.mat', '201.mat', '202.mat', '204.mat', '226.mat', '227.mat', '228.mat', '238.mat', '239.mat', '240.mat', '241.mat'])"
            ]
          },
          "metadata": {},
          "execution_count": 26
        }
      ]
    },
    {
      "cell_type": "code",
      "source": [
        "## almacenamiento de la data outter\n",
        "file_path = '/content/drive/MyDrive/tesis USB /case west reserve university/data_1/outter1.h5'\n",
        "data_outter_1 = get_h5py_data(file_path)"
      ],
      "metadata": {
        "id": "lnZaU6yIhqg2"
      },
      "execution_count": null,
      "outputs": []
    },
    {
      "cell_type": "code",
      "source": [
        "data_outter_1.keys()"
      ],
      "metadata": {
        "colab": {
          "base_uri": "https://localhost:8080/"
        },
        "id": "OX_pUZS4h3AU",
        "outputId": "f6d84260-598d-4267-c6d6-fcc7ac3a6945"
      },
      "execution_count": null,
      "outputs": [
        {
          "output_type": "execute_result",
          "data": {
            "text/plain": [
              "dict_keys(['161.mat', '162.mat', '163.mat', '164.mat', '262.mat', '263.mat', '264.mat'])"
            ]
          },
          "metadata": {},
          "execution_count": 30
        }
      ]
    },
    {
      "cell_type": "code",
      "source": [
        "## almacenamiento de la data normal\n",
        "file_path = \"/content/drive/MyDrive/tesis USB /case west reserve university/data_1/normal.h5\"\n",
        "data_normal = get_h5py_data(file_path)"
      ],
      "metadata": {
        "id": "Upuyyyi_D8cL"
      },
      "execution_count": 20,
      "outputs": []
    },
    {
      "cell_type": "code",
      "source": [
        "data_normal.keys()"
      ],
      "metadata": {
        "colab": {
          "base_uri": "https://localhost:8080/"
        },
        "id": "8IowTBBMiImd",
        "outputId": "d1d2459a-06a9-4d92-ce4a-609220d305bf"
      },
      "execution_count": null,
      "outputs": [
        {
          "output_type": "execute_result",
          "data": {
            "text/plain": [
              "dict_keys(['100.mat', '97.mat', '98.mat', '99.mat'])"
            ]
          },
          "metadata": {},
          "execution_count": 36
        }
      ]
    },
    {
      "cell_type": "code",
      "source": [
        "## almacenamiento de la data ball\n",
        "file_path = \"/content/drive/MyDrive/tesis USB /case west reserve university/data_1/ball.h5\"\n",
        "data_ball = get_h5py_data(file_path)"
      ],
      "metadata": {
        "id": "HlSuAdKijVGi"
      },
      "execution_count": null,
      "outputs": []
    },
    {
      "cell_type": "code",
      "source": [
        "data_ball.keys()"
      ],
      "metadata": {
        "colab": {
          "base_uri": "https://localhost:8080/"
        },
        "id": "ngozX6GWjaL0",
        "outputId": "534ffefb-c13c-4ab4-b030-f3cf1d84ce83"
      },
      "execution_count": null,
      "outputs": [
        {
          "output_type": "execute_result",
          "data": {
            "text/plain": [
              "dict_keys(['122.mat', '123.mat', '124.mat', '125.mat', '189.mat', '190.mat', '191.mat', '192.mat', '226.mat', '227.mat', '228.mat', '229.mat'])"
            ]
          },
          "metadata": {},
          "execution_count": 40
        }
      ]
    },
    {
      "cell_type": "code",
      "source": [
        "## calculo el nivel del banco de filtro:\n",
        "fs=math.ceil(FTF) #frecuencia natural , se usa la del train frequencie\n",
        "fe=25.6e3 # frecuencia de sampleo\n",
        "n = math.ceil(math.log(fe / fs) / math.log(2)) +2\n",
        "level = n"
      ],
      "metadata": {
        "id": "AYjEB684F0bM"
      },
      "execution_count": 12,
      "outputs": []
    },
    {
      "cell_type": "code",
      "source": [
        "pywt.wavelist(family=None, kind='discrete')"
      ],
      "metadata": {
        "id": "KY30RgD6l-na"
      },
      "execution_count": null,
      "outputs": []
    },
    {
      "cell_type": "code",
      "source": [
        "\n",
        " list(data_ball.keys())\n",
        "# data_outter['190.mat'].keys()\n",
        "# # data_outter['135.mat']['X135_DE_time']"
      ],
      "metadata": {
        "id": "4SqzO9GRGMF1",
        "colab": {
          "base_uri": "https://localhost:8080/"
        },
        "outputId": "f45b9437-d95f-47d0-9b44-f311476d40fb"
      },
      "execution_count": null,
      "outputs": [
        {
          "output_type": "execute_result",
          "data": {
            "text/plain": [
              "['122.mat',\n",
              " '123.mat',\n",
              " '124.mat',\n",
              " '125.mat',\n",
              " '189.mat',\n",
              " '190.mat',\n",
              " '191.mat',\n",
              " '192.mat',\n",
              " '226.mat',\n",
              " '227.mat',\n",
              " '228.mat',\n",
              " '229.mat']"
            ]
          },
          "metadata": {},
          "execution_count": 118
        }
      ]
    },
    {
      "cell_type": "code",
      "source": [
        "reshaped_array_healty = data_normal['99.mat']['X099_FE_time'].reshape((data_normal['99.mat']['X099_FE_time'].shape[0],))\n",
        "reshaped_array_faulty=data_ball['189.mat']['X189_FE_time'].reshape((data_ball['189.mat']['X189_FE_time'].shape[0]))"
      ],
      "metadata": {
        "id": "cUuOhZRhbJn3"
      },
      "execution_count": null,
      "outputs": []
    },
    {
      "cell_type": "code",
      "source": [
        "coeff_1=cwt_maker(reshaped_array_healty , 'db38', level=level)\n",
        "coeff_2=cwt_maker(reshaped_array_faulty , 'db38', level=level)"
      ],
      "metadata": {
        "colab": {
          "base_uri": "https://localhost:8080/"
        },
        "id": "XLrqsXiZhFDw",
        "outputId": "20816c8a-501c-4be4-a740-dfa3424979f5"
      },
      "execution_count": null,
      "outputs": [
        {
          "output_type": "stream",
          "name": "stdout",
          "text": [
            "13\n",
            "13\n"
          ]
        },
        {
          "output_type": "stream",
          "name": "stderr",
          "text": [
            "/usr/local/lib/python3.10/dist-packages/pywt/_multilevel.py:43: UserWarning: Level value of 13 is too high: all coefficients will experience boundary effects.\n",
            "  warnings.warn(\n"
          ]
        }
      ]
    },
    {
      "cell_type": "code",
      "source": [
        "# Calculate mean and standard deviation\n",
        "\n",
        "mean_energy = np.mean(coeff_2)\n",
        "std_energy = np.std(coeff_2)\n",
        "# Calculate Z-scores\n",
        "z_scores = [(energy - mean_energy) / std_energy for energy in coeff_2]\n",
        "\n",
        "# Normalize the energies_faulty array\n",
        "normalized_energies_faulty = z_scores"
      ],
      "metadata": {
        "id": "NgksNGRBS4-y"
      },
      "execution_count": null,
      "outputs": []
    },
    {
      "cell_type": "code",
      "source": [
        "\n",
        "mean_energy = np.mean(coeff_1)\n",
        "std_energy = np.std(coeff_1)\n",
        "\n",
        "# Calculate Z-scores\n",
        "z_scores = [(energy - mean_energy) / std_energy for energy in coeff_1]\n",
        "\n",
        "# Normalize the energies_healty array\n",
        "normalized_energies_healty = z_scores\n"
      ],
      "metadata": {
        "id": "e4xjFZ3-tuvz"
      },
      "execution_count": null,
      "outputs": []
    },
    {
      "cell_type": "code",
      "source": [
        "df = pd.DataFrame({'Nivel de energia rodamiento sano normalizado ':  normalized_energies_healty, 'Nivel de energia rodamiento bajo falla normalziado': normalized_energies_faulty})\n",
        "df"
      ],
      "metadata": {
        "colab": {
          "base_uri": "https://localhost:8080/",
          "height": 488
        },
        "id": "yMH2Y8LQuR9L",
        "outputId": "1a40f845-1eb7-430d-db80-d05a97d6a24d"
      },
      "execution_count": null,
      "outputs": [
        {
          "output_type": "execute_result",
          "data": {
            "text/plain": [
              "    Nivel de energia rodamiento sano normalizado   \\\n",
              "0                                        3.191918   \n",
              "1                                       -0.594733   \n",
              "2                                       -0.594912   \n",
              "3                                       -0.595068   \n",
              "4                                       -0.594879   \n",
              "5                                       -0.595088   \n",
              "6                                       -0.532109   \n",
              "7                                       -0.086996   \n",
              "8                                        0.011301   \n",
              "9                                       -0.054528   \n",
              "10                                      -0.409647   \n",
              "11                                       1.049743   \n",
              "12                                       0.381728   \n",
              "13                                      -0.576729   \n",
              "\n",
              "    Nivel de energia rodamiento bajo falla normalziado  \n",
              "0                                            1.815429   \n",
              "1                                           -0.577481   \n",
              "2                                           -0.577651   \n",
              "3                                           -0.577693   \n",
              "4                                           -0.577989   \n",
              "5                                           -0.578018   \n",
              "6                                           -0.543833   \n",
              "7                                           -0.490392   \n",
              "8                                           -0.223258   \n",
              "9                                           -0.300397   \n",
              "10                                           2.431487   \n",
              "11                                           1.340254   \n",
              "12                                          -0.563299   \n",
              "13                                          -0.577158   "
            ],
            "text/html": [
              "\n",
              "  <div id=\"df-99e4e35a-1abd-4a69-81f4-c517bfd22e71\" class=\"colab-df-container\">\n",
              "    <div>\n",
              "<style scoped>\n",
              "    .dataframe tbody tr th:only-of-type {\n",
              "        vertical-align: middle;\n",
              "    }\n",
              "\n",
              "    .dataframe tbody tr th {\n",
              "        vertical-align: top;\n",
              "    }\n",
              "\n",
              "    .dataframe thead th {\n",
              "        text-align: right;\n",
              "    }\n",
              "</style>\n",
              "<table border=\"1\" class=\"dataframe\">\n",
              "  <thead>\n",
              "    <tr style=\"text-align: right;\">\n",
              "      <th></th>\n",
              "      <th>Nivel de energia rodamiento sano normalizado</th>\n",
              "      <th>Nivel de energia rodamiento bajo falla normalziado</th>\n",
              "    </tr>\n",
              "  </thead>\n",
              "  <tbody>\n",
              "    <tr>\n",
              "      <th>0</th>\n",
              "      <td>3.191918</td>\n",
              "      <td>1.815429</td>\n",
              "    </tr>\n",
              "    <tr>\n",
              "      <th>1</th>\n",
              "      <td>-0.594733</td>\n",
              "      <td>-0.577481</td>\n",
              "    </tr>\n",
              "    <tr>\n",
              "      <th>2</th>\n",
              "      <td>-0.594912</td>\n",
              "      <td>-0.577651</td>\n",
              "    </tr>\n",
              "    <tr>\n",
              "      <th>3</th>\n",
              "      <td>-0.595068</td>\n",
              "      <td>-0.577693</td>\n",
              "    </tr>\n",
              "    <tr>\n",
              "      <th>4</th>\n",
              "      <td>-0.594879</td>\n",
              "      <td>-0.577989</td>\n",
              "    </tr>\n",
              "    <tr>\n",
              "      <th>5</th>\n",
              "      <td>-0.595088</td>\n",
              "      <td>-0.578018</td>\n",
              "    </tr>\n",
              "    <tr>\n",
              "      <th>6</th>\n",
              "      <td>-0.532109</td>\n",
              "      <td>-0.543833</td>\n",
              "    </tr>\n",
              "    <tr>\n",
              "      <th>7</th>\n",
              "      <td>-0.086996</td>\n",
              "      <td>-0.490392</td>\n",
              "    </tr>\n",
              "    <tr>\n",
              "      <th>8</th>\n",
              "      <td>0.011301</td>\n",
              "      <td>-0.223258</td>\n",
              "    </tr>\n",
              "    <tr>\n",
              "      <th>9</th>\n",
              "      <td>-0.054528</td>\n",
              "      <td>-0.300397</td>\n",
              "    </tr>\n",
              "    <tr>\n",
              "      <th>10</th>\n",
              "      <td>-0.409647</td>\n",
              "      <td>2.431487</td>\n",
              "    </tr>\n",
              "    <tr>\n",
              "      <th>11</th>\n",
              "      <td>1.049743</td>\n",
              "      <td>1.340254</td>\n",
              "    </tr>\n",
              "    <tr>\n",
              "      <th>12</th>\n",
              "      <td>0.381728</td>\n",
              "      <td>-0.563299</td>\n",
              "    </tr>\n",
              "    <tr>\n",
              "      <th>13</th>\n",
              "      <td>-0.576729</td>\n",
              "      <td>-0.577158</td>\n",
              "    </tr>\n",
              "  </tbody>\n",
              "</table>\n",
              "</div>\n",
              "    <div class=\"colab-df-buttons\">\n",
              "\n",
              "  <div class=\"colab-df-container\">\n",
              "    <button class=\"colab-df-convert\" onclick=\"convertToInteractive('df-99e4e35a-1abd-4a69-81f4-c517bfd22e71')\"\n",
              "            title=\"Convert this dataframe to an interactive table.\"\n",
              "            style=\"display:none;\">\n",
              "\n",
              "  <svg xmlns=\"http://www.w3.org/2000/svg\" height=\"24px\" viewBox=\"0 -960 960 960\">\n",
              "    <path d=\"M120-120v-720h720v720H120Zm60-500h600v-160H180v160Zm220 220h160v-160H400v160Zm0 220h160v-160H400v160ZM180-400h160v-160H180v160Zm440 0h160v-160H620v160ZM180-180h160v-160H180v160Zm440 0h160v-160H620v160Z\"/>\n",
              "  </svg>\n",
              "    </button>\n",
              "\n",
              "  <style>\n",
              "    .colab-df-container {\n",
              "      display:flex;\n",
              "      gap: 12px;\n",
              "    }\n",
              "\n",
              "    .colab-df-convert {\n",
              "      background-color: #E8F0FE;\n",
              "      border: none;\n",
              "      border-radius: 50%;\n",
              "      cursor: pointer;\n",
              "      display: none;\n",
              "      fill: #1967D2;\n",
              "      height: 32px;\n",
              "      padding: 0 0 0 0;\n",
              "      width: 32px;\n",
              "    }\n",
              "\n",
              "    .colab-df-convert:hover {\n",
              "      background-color: #E2EBFA;\n",
              "      box-shadow: 0px 1px 2px rgba(60, 64, 67, 0.3), 0px 1px 3px 1px rgba(60, 64, 67, 0.15);\n",
              "      fill: #174EA6;\n",
              "    }\n",
              "\n",
              "    .colab-df-buttons div {\n",
              "      margin-bottom: 4px;\n",
              "    }\n",
              "\n",
              "    [theme=dark] .colab-df-convert {\n",
              "      background-color: #3B4455;\n",
              "      fill: #D2E3FC;\n",
              "    }\n",
              "\n",
              "    [theme=dark] .colab-df-convert:hover {\n",
              "      background-color: #434B5C;\n",
              "      box-shadow: 0px 1px 3px 1px rgba(0, 0, 0, 0.15);\n",
              "      filter: drop-shadow(0px 1px 2px rgba(0, 0, 0, 0.3));\n",
              "      fill: #FFFFFF;\n",
              "    }\n",
              "  </style>\n",
              "\n",
              "    <script>\n",
              "      const buttonEl =\n",
              "        document.querySelector('#df-99e4e35a-1abd-4a69-81f4-c517bfd22e71 button.colab-df-convert');\n",
              "      buttonEl.style.display =\n",
              "        google.colab.kernel.accessAllowed ? 'block' : 'none';\n",
              "\n",
              "      async function convertToInteractive(key) {\n",
              "        const element = document.querySelector('#df-99e4e35a-1abd-4a69-81f4-c517bfd22e71');\n",
              "        const dataTable =\n",
              "          await google.colab.kernel.invokeFunction('convertToInteractive',\n",
              "                                                    [key], {});\n",
              "        if (!dataTable) return;\n",
              "\n",
              "        const docLinkHtml = 'Like what you see? Visit the ' +\n",
              "          '<a target=\"_blank\" href=https://colab.research.google.com/notebooks/data_table.ipynb>data table notebook</a>'\n",
              "          + ' to learn more about interactive tables.';\n",
              "        element.innerHTML = '';\n",
              "        dataTable['output_type'] = 'display_data';\n",
              "        await google.colab.output.renderOutput(dataTable, element);\n",
              "        const docLink = document.createElement('div');\n",
              "        docLink.innerHTML = docLinkHtml;\n",
              "        element.appendChild(docLink);\n",
              "      }\n",
              "    </script>\n",
              "  </div>\n",
              "\n",
              "\n",
              "<div id=\"df-ca715a79-1729-46b6-bcb3-09f8dda95bb4\">\n",
              "  <button class=\"colab-df-quickchart\" onclick=\"quickchart('df-ca715a79-1729-46b6-bcb3-09f8dda95bb4')\"\n",
              "            title=\"Suggest charts.\"\n",
              "            style=\"display:none;\">\n",
              "\n",
              "<svg xmlns=\"http://www.w3.org/2000/svg\" height=\"24px\"viewBox=\"0 0 24 24\"\n",
              "     width=\"24px\">\n",
              "    <g>\n",
              "        <path d=\"M19 3H5c-1.1 0-2 .9-2 2v14c0 1.1.9 2 2 2h14c1.1 0 2-.9 2-2V5c0-1.1-.9-2-2-2zM9 17H7v-7h2v7zm4 0h-2V7h2v10zm4 0h-2v-4h2v4z\"/>\n",
              "    </g>\n",
              "</svg>\n",
              "  </button>\n",
              "\n",
              "<style>\n",
              "  .colab-df-quickchart {\n",
              "      --bg-color: #E8F0FE;\n",
              "      --fill-color: #1967D2;\n",
              "      --hover-bg-color: #E2EBFA;\n",
              "      --hover-fill-color: #174EA6;\n",
              "      --disabled-fill-color: #AAA;\n",
              "      --disabled-bg-color: #DDD;\n",
              "  }\n",
              "\n",
              "  [theme=dark] .colab-df-quickchart {\n",
              "      --bg-color: #3B4455;\n",
              "      --fill-color: #D2E3FC;\n",
              "      --hover-bg-color: #434B5C;\n",
              "      --hover-fill-color: #FFFFFF;\n",
              "      --disabled-bg-color: #3B4455;\n",
              "      --disabled-fill-color: #666;\n",
              "  }\n",
              "\n",
              "  .colab-df-quickchart {\n",
              "    background-color: var(--bg-color);\n",
              "    border: none;\n",
              "    border-radius: 50%;\n",
              "    cursor: pointer;\n",
              "    display: none;\n",
              "    fill: var(--fill-color);\n",
              "    height: 32px;\n",
              "    padding: 0;\n",
              "    width: 32px;\n",
              "  }\n",
              "\n",
              "  .colab-df-quickchart:hover {\n",
              "    background-color: var(--hover-bg-color);\n",
              "    box-shadow: 0 1px 2px rgba(60, 64, 67, 0.3), 0 1px 3px 1px rgba(60, 64, 67, 0.15);\n",
              "    fill: var(--button-hover-fill-color);\n",
              "  }\n",
              "\n",
              "  .colab-df-quickchart-complete:disabled,\n",
              "  .colab-df-quickchart-complete:disabled:hover {\n",
              "    background-color: var(--disabled-bg-color);\n",
              "    fill: var(--disabled-fill-color);\n",
              "    box-shadow: none;\n",
              "  }\n",
              "\n",
              "  .colab-df-spinner {\n",
              "    border: 2px solid var(--fill-color);\n",
              "    border-color: transparent;\n",
              "    border-bottom-color: var(--fill-color);\n",
              "    animation:\n",
              "      spin 1s steps(1) infinite;\n",
              "  }\n",
              "\n",
              "  @keyframes spin {\n",
              "    0% {\n",
              "      border-color: transparent;\n",
              "      border-bottom-color: var(--fill-color);\n",
              "      border-left-color: var(--fill-color);\n",
              "    }\n",
              "    20% {\n",
              "      border-color: transparent;\n",
              "      border-left-color: var(--fill-color);\n",
              "      border-top-color: var(--fill-color);\n",
              "    }\n",
              "    30% {\n",
              "      border-color: transparent;\n",
              "      border-left-color: var(--fill-color);\n",
              "      border-top-color: var(--fill-color);\n",
              "      border-right-color: var(--fill-color);\n",
              "    }\n",
              "    40% {\n",
              "      border-color: transparent;\n",
              "      border-right-color: var(--fill-color);\n",
              "      border-top-color: var(--fill-color);\n",
              "    }\n",
              "    60% {\n",
              "      border-color: transparent;\n",
              "      border-right-color: var(--fill-color);\n",
              "    }\n",
              "    80% {\n",
              "      border-color: transparent;\n",
              "      border-right-color: var(--fill-color);\n",
              "      border-bottom-color: var(--fill-color);\n",
              "    }\n",
              "    90% {\n",
              "      border-color: transparent;\n",
              "      border-bottom-color: var(--fill-color);\n",
              "    }\n",
              "  }\n",
              "</style>\n",
              "\n",
              "  <script>\n",
              "    async function quickchart(key) {\n",
              "      const quickchartButtonEl =\n",
              "        document.querySelector('#' + key + ' button');\n",
              "      quickchartButtonEl.disabled = true;  // To prevent multiple clicks.\n",
              "      quickchartButtonEl.classList.add('colab-df-spinner');\n",
              "      try {\n",
              "        const charts = await google.colab.kernel.invokeFunction(\n",
              "            'suggestCharts', [key], {});\n",
              "      } catch (error) {\n",
              "        console.error('Error during call to suggestCharts:', error);\n",
              "      }\n",
              "      quickchartButtonEl.classList.remove('colab-df-spinner');\n",
              "      quickchartButtonEl.classList.add('colab-df-quickchart-complete');\n",
              "    }\n",
              "    (() => {\n",
              "      let quickchartButtonEl =\n",
              "        document.querySelector('#df-ca715a79-1729-46b6-bcb3-09f8dda95bb4 button');\n",
              "      quickchartButtonEl.style.display =\n",
              "        google.colab.kernel.accessAllowed ? 'block' : 'none';\n",
              "    })();\n",
              "  </script>\n",
              "</div>\n",
              "    </div>\n",
              "  </div>\n"
            ]
          },
          "metadata": {},
          "execution_count": 130
        }
      ]
    },
    {
      "cell_type": "code",
      "source": [
        "def get_data(file_path, wavelet, level, exclude_keys=None):\n",
        "    # Get the data from the H5PY file\n",
        "    data = get_h5py_data(file_path)\n",
        "\n",
        "    # Get the order of experiments (sorted keys)\n",
        "    experiment_order = sorted(data.keys())\n",
        "\n",
        "    # Create an empty list to store the coefficients\n",
        "    coefficients_list_DE = []\n",
        "    coefficients_list_FE = []\n",
        "\n",
        "    # Process each experiment and calculate coefficients\n",
        "    for experiment in experiment_order:\n",
        "        if exclude_keys and experiment in exclude_keys:\n",
        "            continue  # Skip this experiment\n",
        "\n",
        "        # Reshape the data for the current experiment\n",
        "        reshaped_data_DE = data[experiment][list(data[experiment].keys())[1]].reshape(-1) #drive end data\n",
        "        reshaped_data_FE = data[experiment][list(data[experiment].keys())[2]].reshape(-1) #fan end data\n",
        "\n",
        "        # Calculate CWT coefficients for the experiment using drive end data\n",
        "        coefficients_DE = cwt_maker(reshaped_data_DE, wavelet, level)\n",
        "        coefficientes_normalized_DE = normalization_from_coeffs(coefficients_DE)\n",
        "\n",
        "        # Calculate CWT coefficients for the experiment using FAN end data\n",
        "        coefficients_FE = cwt_maker(reshaped_data_FE, wavelet, level)\n",
        "        coefficientes_normalized_FE = normalization_from_coeffs(coefficients_FE)\n",
        "\n",
        "        # Append the coefficients to the list\n",
        "        coefficients_list_DE.append(coefficientes_normalized_DE)\n",
        "        coefficients_list_FE.append(coefficientes_normalized_FE)\n",
        "\n",
        "    return coefficients_list_DE, coefficients_list_FE"
      ],
      "metadata": {
        "id": "jrroLlDW-_-G"
      },
      "execution_count": 14,
      "outputs": []
    },
    {
      "cell_type": "markdown",
      "source": [
        "Calculo de los niveles energeticos normalazidos para falla en el anillo externo"
      ],
      "metadata": {
        "id": "EW2nUVoC0KCW"
      }
    },
    {
      "cell_type": "code",
      "source": [
        "file_path= '/content/drive/MyDrive/tesis USB /case west reserve university/data_1/outter.h5'\n",
        "normalized_outter_DE,normalized_outter_FE= get_data(file_path, 'db38', level)"
      ],
      "metadata": {
        "colab": {
          "base_uri": "https://localhost:8080/"
        },
        "id": "Ud0_nOrbkBhz",
        "outputId": "7231bbc5-4403-4a12-d875-45e0e1744ecd"
      },
      "execution_count": 17,
      "outputs": [
        {
          "output_type": "stream",
          "name": "stderr",
          "text": [
            "/usr/local/lib/python3.10/dist-packages/pywt/_multilevel.py:43: UserWarning: Level value of 13 is too high: all coefficients will experience boundary effects.\n",
            "  warnings.warn(\n"
          ]
        },
        {
          "output_type": "stream",
          "name": "stdout",
          "text": [
            "13\n",
            "13\n",
            "13\n",
            "13\n",
            "13\n",
            "13\n",
            "13\n",
            "13\n",
            "13\n",
            "13\n",
            "13\n",
            "13\n",
            "13\n",
            "13\n",
            "13\n",
            "13\n",
            "13\n",
            "13\n",
            "13\n",
            "13\n",
            "13\n",
            "13\n",
            "13\n",
            "13\n",
            "13\n",
            "13\n",
            "13\n",
            "13\n",
            "13\n",
            "13\n",
            "13\n",
            "13\n",
            "13\n",
            "13\n"
          ]
        }
      ]
    },
    {
      "cell_type": "code",
      "source": [
        "normalized_outter_FE[0]==df['Nivel de energia rodamiento bajo falla normalziado']"
      ],
      "metadata": {
        "colab": {
          "base_uri": "https://localhost:8080/"
        },
        "id": "oWIOABcsHuhR",
        "outputId": "7993e7ee-63e5-4d4b-f968-8b4baaa42dc2"
      },
      "execution_count": null,
      "outputs": [
        {
          "output_type": "execute_result",
          "data": {
            "text/plain": [
              "0     True\n",
              "1     True\n",
              "2     True\n",
              "3     True\n",
              "4     True\n",
              "5     True\n",
              "6     True\n",
              "7     True\n",
              "8     True\n",
              "9     True\n",
              "10    True\n",
              "11    True\n",
              "12    True\n",
              "13    True\n",
              "Name: Nivel de energia rodamiento bajo falla normalziado, dtype: bool"
            ]
          },
          "metadata": {},
          "execution_count": 52
        }
      ]
    },
    {
      "cell_type": "code",
      "source": [
        "normalized_outter_DE[0]==df['Nivel de energia rodamiento bajo falla normalziado']"
      ],
      "metadata": {
        "colab": {
          "base_uri": "https://localhost:8080/"
        },
        "id": "rOU7SoYNqvxY",
        "outputId": "dfb7fb2a-e021-4c27-b24f-3b7860d38599"
      },
      "execution_count": null,
      "outputs": [
        {
          "output_type": "execute_result",
          "data": {
            "text/plain": [
              "0     True\n",
              "1     True\n",
              "2     True\n",
              "3     True\n",
              "4     True\n",
              "5     True\n",
              "6     True\n",
              "7     True\n",
              "8     True\n",
              "9     True\n",
              "10    True\n",
              "11    True\n",
              "12    True\n",
              "13    True\n",
              "Name: Nivel de energia rodamiento bajo falla normalziado, dtype: bool"
            ]
          },
          "metadata": {},
          "execution_count": 58
        }
      ]
    },
    {
      "cell_type": "markdown",
      "source": [
        "Calculo los niveles normalizados asociados a la condicion sana"
      ],
      "metadata": {
        "id": "yEah3YQY6hvl"
      }
    },
    {
      "cell_type": "code",
      "source": [
        "exclude_keys = {'99.mat', '98.mat'}\n",
        "file_path=   \"/content/drive/MyDrive/tesis USB /case west reserve university/data_1/normal.h5\"\n",
        "normalized_normal_DE,normalized_normal_FE= get_data(file_path, 'db38', level,exclude_keys )"
      ],
      "metadata": {
        "colab": {
          "base_uri": "https://localhost:8080/"
        },
        "id": "e33zyyxMvK5t",
        "outputId": "f8b84b07-b233-492a-eb4f-15f69fd7bacf"
      },
      "execution_count": 18,
      "outputs": [
        {
          "output_type": "stream",
          "name": "stdout",
          "text": [
            "13\n",
            "13\n",
            "13\n",
            "13\n"
          ]
        }
      ]
    },
    {
      "cell_type": "code",
      "source": [
        "### calculo del experimento 98\n",
        "reshaped_array_healty_FE_98 = data_normal['98.mat']['X098_FE_time'].reshape((data_normal['98.mat']['X098_FE_time'].shape[0],))\n",
        "reshaped_array_healty_DE_98 = data_normal['98.mat']['X098_DE_time'].reshape((data_normal['98.mat']['X098_DE_time'].shape[0],))\n",
        "coeff_FE_98=cwt_maker(reshaped_array_healty_FE_98  , 'db38', level=level)\n",
        "coeff_DE_98=cwt_maker(reshaped_array_healty_DE_98 , 'db38', level=level)\n",
        "\n",
        "## calculo de los coeficientes normalizados para el  FAN END\n",
        "mean_energy = np.mean(coeff_FE_98)\n",
        "std_energy = np.std(coeff_FE_98)\n",
        "# Calculate Z-scores\n",
        "z_scores = [(energy - mean_energy) / std_energy for energy in coeff_FE_98]\n",
        "\n",
        "# Normalize the energies_faulty array\n",
        "normalized_energies_FE_98= z_scores\n",
        "del z_scores\n",
        "## calculo de los coeficientes normalizados para el  DRIVE EN\n",
        "mean_energy = np.mean(coeff_DE_98)\n",
        "std_energy = np.std(coeff_DE_98)\n",
        "# Calculate Z-scores\n",
        "z_scores = [(energy - mean_energy) / std_energy for energy in coeff_DE_98]\n",
        "\n",
        "# Normalize the energies_faulty array\n",
        "normalized_energies_DE_98= z_scores\n"
      ],
      "metadata": {
        "colab": {
          "base_uri": "https://localhost:8080/"
        },
        "id": "C3azTF9j6v3u",
        "outputId": "456a90b1-e086-4344-8605-2a5409f18fca"
      },
      "execution_count": 21,
      "outputs": [
        {
          "output_type": "stream",
          "name": "stdout",
          "text": [
            "13\n",
            "13\n"
          ]
        }
      ]
    },
    {
      "cell_type": "code",
      "source": [
        "### calculo del experimento 99\n",
        "reshaped_array_healty_FE_99 = data_normal['99.mat']['X099_FE_time'].reshape((data_normal['99.mat']['X099_FE_time'].shape[0],))\n",
        "reshaped_array_healty_DE_99 = data_normal['99.mat']['X099_DE_time'].reshape((data_normal['99.mat']['X099_DE_time'].shape[0],))\n",
        "coeff_FE_99=cwt_maker(reshaped_array_healty_FE_99 , 'db38', level=level)\n",
        "coeff_DE_99=cwt_maker(reshaped_array_healty_DE_99 , 'db38', level=level)\n",
        "\n",
        "## calculo de los coeficientes normalizados para el  FAN END\n",
        "mean_energy = np.mean(coeff_FE_99)\n",
        "std_energy = np.std(coeff_FE_99)\n",
        "# Calculate Z-scores\n",
        "z_scores = [(energy - mean_energy) / std_energy for energy in coeff_FE_99]\n",
        "\n",
        "# Normalize the energies_faulty array\n",
        "normalized_energies_FE_99= z_scores\n",
        "del z_scores\n",
        "## calculo de los coeficientes normalizados para el  DRIVE EN\n",
        "mean_energy = np.mean(coeff_DE_99)\n",
        "std_energy = np.std(coeff_DE_99)\n",
        "# Calculate Z-scores\n",
        "z_scores = [(energy - mean_energy) / std_energy for energy in coeff_DE_99]\n",
        "\n",
        "# Normalize the energies_faulty array\n",
        "normalized_energies_DE_99= z_scores"
      ],
      "metadata": {
        "colab": {
          "base_uri": "https://localhost:8080/"
        },
        "id": "DJPxJoJC95xJ",
        "outputId": "54ac6f0e-48ff-4f27-cce9-9497c32fa4da"
      },
      "execution_count": 22,
      "outputs": [
        {
          "output_type": "stream",
          "name": "stdout",
          "text": [
            "13\n",
            "13\n"
          ]
        }
      ]
    },
    {
      "cell_type": "code",
      "source": [
        "del normalized_normal_FE,normalized_normal_DE"
      ],
      "metadata": {
        "id": "j6hr4eJVmAlc"
      },
      "execution_count": null,
      "outputs": []
    },
    {
      "cell_type": "code",
      "source": [
        "#añado los experimentos a la lista general\n",
        "normalized_normal_FE.extend([normalized_energies_FE_98,normalized_energies_FE_99])\n",
        "normalized_normal_DE.extend([normalized_energies_DE_98,normalized_energies_DE_99])"
      ],
      "metadata": {
        "id": "8HY4jioSAVpd"
      },
      "execution_count": 23,
      "outputs": []
    },
    {
      "cell_type": "code",
      "source": [
        "normalized_normal_DE[3]==df['Nivel de energia rodamiento sano normalizado ']"
      ],
      "metadata": {
        "colab": {
          "base_uri": "https://localhost:8080/"
        },
        "id": "trndNpoPBRL8",
        "outputId": "0fcd6a49-ec45-4962-a723-9364c5dd7e44"
      },
      "execution_count": null,
      "outputs": [
        {
          "output_type": "execute_result",
          "data": {
            "text/plain": [
              "0     True\n",
              "1     True\n",
              "2     True\n",
              "3     True\n",
              "4     True\n",
              "5     True\n",
              "6     True\n",
              "7     True\n",
              "8     True\n",
              "9     True\n",
              "10    True\n",
              "11    True\n",
              "12    True\n",
              "13    True\n",
              "Name: Nivel de energia rodamiento sano normalizado , dtype: bool"
            ]
          },
          "metadata": {},
          "execution_count": 65
        }
      ]
    },
    {
      "cell_type": "code",
      "source": [
        "normalized_normal_FE[3]==df['Nivel de energia rodamiento sano normalizado ']"
      ],
      "metadata": {
        "colab": {
          "base_uri": "https://localhost:8080/"
        },
        "id": "zapmrfvZk2y2",
        "outputId": "10497634-c893-4286-a007-f9c8b3f4f392"
      },
      "execution_count": null,
      "outputs": [
        {
          "output_type": "execute_result",
          "data": {
            "text/plain": [
              "0     True\n",
              "1     True\n",
              "2     True\n",
              "3     True\n",
              "4     True\n",
              "5     True\n",
              "6     True\n",
              "7     True\n",
              "8     True\n",
              "9     True\n",
              "10    True\n",
              "11    True\n",
              "12    True\n",
              "13    True\n",
              "Name: Nivel de energia rodamiento sano normalizado , dtype: bool"
            ]
          },
          "metadata": {},
          "execution_count": 87
        }
      ]
    },
    {
      "cell_type": "markdown",
      "source": [
        "Calculo de los niveles energeticos para falla en el anillo externo pero con el acelerometro a las 6"
      ],
      "metadata": {
        "id": "jnTZ5Dpv0YYr"
      }
    },
    {
      "cell_type": "code",
      "source": [
        "file_path=  \"/content/drive/MyDrive/tesis USB /case west reserve university/data_1/outter1.h5\"\n",
        "normalized_outter_1_DE,normalized_outter_1_FE= get_data(file_path, 'db38', level)"
      ],
      "metadata": {
        "colab": {
          "base_uri": "https://localhost:8080/"
        },
        "id": "2qMz_TSHyqp3",
        "outputId": "7e8e8a49-2aee-4364-840c-dee70f7e5ce4"
      },
      "execution_count": 24,
      "outputs": [
        {
          "output_type": "stream",
          "name": "stdout",
          "text": [
            "13\n",
            "13\n",
            "13\n",
            "13\n",
            "13\n",
            "13\n",
            "13\n",
            "13\n",
            "13\n",
            "13\n",
            "13\n",
            "13\n",
            "13\n",
            "13\n"
          ]
        }
      ]
    },
    {
      "cell_type": "code",
      "source": [
        "normalized_outter_1_FE[0]==df['Nivel de energia rodamiento bajo falla normalziado']"
      ],
      "metadata": {
        "colab": {
          "base_uri": "https://localhost:8080/"
        },
        "id": "XsfCpDPLzq6X",
        "outputId": "c698e899-39e6-4fca-b29d-ca44d9aa4c01"
      },
      "execution_count": null,
      "outputs": [
        {
          "output_type": "execute_result",
          "data": {
            "text/plain": [
              "0     True\n",
              "1     True\n",
              "2     True\n",
              "3     True\n",
              "4     True\n",
              "5     True\n",
              "6     True\n",
              "7     True\n",
              "8     True\n",
              "9     True\n",
              "10    True\n",
              "11    True\n",
              "12    True\n",
              "13    True\n",
              "Name: Nivel de energia rodamiento bajo falla normalziado, dtype: bool"
            ]
          },
          "metadata": {},
          "execution_count": 102
        }
      ]
    },
    {
      "cell_type": "code",
      "source": [
        "normalized_outter_1_DE[0]==df['Nivel de energia rodamiento bajo falla normalziado']"
      ],
      "metadata": {
        "colab": {
          "base_uri": "https://localhost:8080/"
        },
        "id": "7iS3haZgz6-L",
        "outputId": "32026b65-3dbb-488d-c43b-77e5b5ea9b4c"
      },
      "execution_count": null,
      "outputs": [
        {
          "output_type": "execute_result",
          "data": {
            "text/plain": [
              "0     True\n",
              "1     True\n",
              "2     True\n",
              "3     True\n",
              "4     True\n",
              "5     True\n",
              "6     True\n",
              "7     True\n",
              "8     True\n",
              "9     True\n",
              "10    True\n",
              "11    True\n",
              "12    True\n",
              "13    True\n",
              "Name: Nivel de energia rodamiento bajo falla normalziado, dtype: bool"
            ]
          },
          "metadata": {},
          "execution_count": 96
        }
      ]
    },
    {
      "cell_type": "markdown",
      "source": [
        "Calculo de los niveles energeticos para falla en el anillo interno"
      ],
      "metadata": {
        "id": "rFHrfTRK1nlr"
      }
    },
    {
      "cell_type": "code",
      "source": [
        "file_path=   \"/content/drive/MyDrive/tesis USB /case west reserve university/data_1/inner.h5\"\n",
        "normalized_inner_DE,normalized_inner_FE= get_data(file_path, 'db38', level)"
      ],
      "metadata": {
        "colab": {
          "base_uri": "https://localhost:8080/"
        },
        "id": "QkAzEGUJ0FPd",
        "outputId": "132238f8-78c6-46c0-90e8-ff98db7460c3"
      },
      "execution_count": 25,
      "outputs": [
        {
          "output_type": "stream",
          "name": "stdout",
          "text": [
            "13\n",
            "13\n",
            "13\n",
            "13\n",
            "13\n",
            "13\n",
            "13\n",
            "13\n",
            "13\n",
            "13\n",
            "13\n",
            "13\n",
            "13\n",
            "13\n",
            "13\n",
            "13\n",
            "13\n",
            "13\n",
            "13\n",
            "13\n",
            "13\n",
            "13\n",
            "13\n",
            "13\n"
          ]
        }
      ]
    },
    {
      "cell_type": "code",
      "source": [
        "normalized_inner_DE[0]==df['Nivel de energia rodamiento bajo falla normalziado']"
      ],
      "metadata": {
        "colab": {
          "base_uri": "https://localhost:8080/"
        },
        "id": "t-Pn3so31Q4K",
        "outputId": "c5f306b2-48f2-4f6c-c533-8857c35bd4db"
      },
      "execution_count": null,
      "outputs": [
        {
          "output_type": "execute_result",
          "data": {
            "text/plain": [
              "0     True\n",
              "1     True\n",
              "2     True\n",
              "3     True\n",
              "4     True\n",
              "5     True\n",
              "6     True\n",
              "7     True\n",
              "8     True\n",
              "9     True\n",
              "10    True\n",
              "11    True\n",
              "12    True\n",
              "13    True\n",
              "Name: Nivel de energia rodamiento bajo falla normalziado, dtype: bool"
            ]
          },
          "metadata": {},
          "execution_count": 116
        }
      ]
    },
    {
      "cell_type": "code",
      "source": [
        "normalized_inner_FE[0]==df['Nivel de energia rodamiento bajo falla normalziado']"
      ],
      "metadata": {
        "colab": {
          "base_uri": "https://localhost:8080/"
        },
        "id": "os3pVm4q1WCh",
        "outputId": "371654a7-82a6-43cb-a6b2-020b028a9d2d"
      },
      "execution_count": null,
      "outputs": [
        {
          "output_type": "execute_result",
          "data": {
            "text/plain": [
              "0     True\n",
              "1     True\n",
              "2     True\n",
              "3     True\n",
              "4     True\n",
              "5     True\n",
              "6     True\n",
              "7     True\n",
              "8     True\n",
              "9     True\n",
              "10    True\n",
              "11    True\n",
              "12    True\n",
              "13    True\n",
              "Name: Nivel de energia rodamiento bajo falla normalziado, dtype: bool"
            ]
          },
          "metadata": {},
          "execution_count": 110
        }
      ]
    },
    {
      "cell_type": "markdown",
      "source": [
        "Calculo de los niveles energeticos para falla en el elemento rodante"
      ],
      "metadata": {
        "id": "GhvJgLJmnb0o"
      }
    },
    {
      "cell_type": "code",
      "source": [
        "file_path=\"/content/drive/MyDrive/tesis USB /case west reserve university/data_1/ball.h5\"\n",
        "normalized_ball_DE,normalized_ball_FE= get_data(file_path, 'db38', level)"
      ],
      "metadata": {
        "colab": {
          "base_uri": "https://localhost:8080/"
        },
        "id": "XjXZjoMZn24j",
        "outputId": "40720d31-d07d-4679-a1da-063e2a8442ab"
      },
      "execution_count": 26,
      "outputs": [
        {
          "output_type": "stream",
          "name": "stdout",
          "text": [
            "13\n",
            "13\n",
            "13\n",
            "13\n",
            "13\n",
            "13\n",
            "13\n",
            "13\n",
            "13\n",
            "13\n",
            "13\n",
            "13\n",
            "13\n",
            "13\n",
            "13\n",
            "13\n",
            "13\n",
            "13\n",
            "13\n",
            "13\n",
            "13\n",
            "13\n",
            "13\n",
            "13\n"
          ]
        }
      ]
    },
    {
      "cell_type": "code",
      "source": [
        "normalized_ball_DE[4]==df['Nivel de energia rodamiento bajo falla normalziado']"
      ],
      "metadata": {
        "colab": {
          "base_uri": "https://localhost:8080/"
        },
        "id": "Xae0v3KgoRu3",
        "outputId": "c5055789-8812-4346-bac7-6b06698704b5"
      },
      "execution_count": null,
      "outputs": [
        {
          "output_type": "execute_result",
          "data": {
            "text/plain": [
              "0     True\n",
              "1     True\n",
              "2     True\n",
              "3     True\n",
              "4     True\n",
              "5     True\n",
              "6     True\n",
              "7     True\n",
              "8     True\n",
              "9     True\n",
              "10    True\n",
              "11    True\n",
              "12    True\n",
              "13    True\n",
              "Name: Nivel de energia rodamiento bajo falla normalziado, dtype: bool"
            ]
          },
          "metadata": {},
          "execution_count": 125
        }
      ]
    },
    {
      "cell_type": "code",
      "source": [
        "normalized_ball_FE[4]==df['Nivel de energia rodamiento bajo falla normalziado']"
      ],
      "metadata": {
        "colab": {
          "base_uri": "https://localhost:8080/"
        },
        "id": "QtJSIibqoq9U",
        "outputId": "15abb122-fb89-470f-e00f-624c8e99be37"
      },
      "execution_count": null,
      "outputs": [
        {
          "output_type": "execute_result",
          "data": {
            "text/plain": [
              "0     True\n",
              "1     True\n",
              "2     True\n",
              "3     True\n",
              "4     True\n",
              "5     True\n",
              "6     True\n",
              "7     True\n",
              "8     True\n",
              "9     True\n",
              "10    True\n",
              "11    True\n",
              "12    True\n",
              "13    True\n",
              "Name: Nivel de energia rodamiento bajo falla normalziado, dtype: bool"
            ]
          },
          "metadata": {},
          "execution_count": 131
        }
      ]
    },
    {
      "cell_type": "code",
      "source": [
        "# Find the maximum length (number of columns)\n",
        "max_length = max(len(sublist) for sublist in normalized_ball_DE)\n",
        "\n",
        "# Create an empty array filled with a placeholder (e.g., np.nan)\n",
        "array_1 = np.full((len(normalized_ball_DE), max_length), np.nan)\n",
        "\n",
        "# Fill the array with the elements from your lists\n",
        "for i, sublist in enumerate(normalized_ball_DE):\n",
        "    array_1[i, :len(sublist)] = sublist\n",
        "\n",
        "    # Find the maximum length (number of columns)\n",
        "max_length = max(len(sublist) for sublist in normalized_ball_FE)\n",
        "\n",
        "# Create an empty array filled with a placeholder (e.g., np.nan)\n",
        "array_2 = np.full((len(normalized_ball_FE), max_length), np.nan)\n",
        "\n",
        "# Fill the array with the elements from your lists\n",
        "for i, sublist in enumerate(normalized_ball_FE):\n",
        "    array_2[i, :len(sublist)] = sublist"
      ],
      "metadata": {
        "id": "3waPxe0gGssh"
      },
      "execution_count": null,
      "outputs": []
    },
    {
      "cell_type": "code",
      "source": [
        "\n",
        "\n",
        "# Assuming you have array_2 and array_1\n",
        "array_3 = np.concatenate((array_2, array_1), axis=0)\n",
        "array_3.shape"
      ],
      "metadata": {
        "colab": {
          "base_uri": "https://localhost:8080/"
        },
        "id": "-rpD5u7zaMgQ",
        "outputId": "097d9269-db69-462d-f45b-21b5ab44811b"
      },
      "execution_count": null,
      "outputs": [
        {
          "output_type": "execute_result",
          "data": {
            "text/plain": [
              "(24, 14)"
            ]
          },
          "metadata": {},
          "execution_count": 133
        }
      ]
    },
    {
      "cell_type": "markdown",
      "source": [
        "### creacion y concatenacion de los arrays asociados a la condicion normal"
      ],
      "metadata": {
        "id": "N4CML45vcjDZ"
      }
    },
    {
      "cell_type": "code",
      "source": [
        "### creacion y concatenacion de los arrays asociados a la condicion normal\n",
        "# Assuming normalized_normal_FE and normalized_normal_DE are lists\n",
        "array_normal_FE = np.array(normalized_normal_FE)\n",
        "array_normal_DE = np.array(normalized_normal_DE)\n",
        "\n",
        "# Concatenate the arrays along axis 0 (stack them vertically)\n",
        "array_normal = np.concatenate([array_normal_FE, array_normal_DE], axis=0)\n",
        "array_normal.shape"
      ],
      "metadata": {
        "colab": {
          "base_uri": "https://localhost:8080/"
        },
        "id": "ObOwbnzdRzDa",
        "outputId": "3ce2e819-dffe-4d54-cee6-85e302ce0cd7"
      },
      "execution_count": 27,
      "outputs": [
        {
          "output_type": "execute_result",
          "data": {
            "text/plain": [
              "(8, 14)"
            ]
          },
          "metadata": {},
          "execution_count": 27
        }
      ]
    },
    {
      "cell_type": "code",
      "source": [
        "are_equal = np.array_equal(array_3,array_normal)\n",
        "\n",
        "if are_equal:\n",
        "    print(\"The arrays are equal.\")\n",
        "else:\n",
        "    print(\"The arrays are not equal.\")"
      ],
      "metadata": {
        "colab": {
          "base_uri": "https://localhost:8080/"
        },
        "id": "NxjMKDwUXEAa",
        "outputId": "b4867405-1e9a-4ef9-fd24-244495e18845"
      },
      "execution_count": null,
      "outputs": [
        {
          "output_type": "stream",
          "name": "stdout",
          "text": [
            "The arrays are equal.\n"
          ]
        }
      ]
    },
    {
      "cell_type": "markdown",
      "source": [
        "### creacion y concatenacion de los arrays asociados a la condicion de falla externa"
      ],
      "metadata": {
        "id": "TCNWW3KXcpVM"
      }
    },
    {
      "cell_type": "code",
      "source": [
        "### creacion y concatenacion de los arrays asociados a la condicion de falla externa\n",
        "array_outter_FE = np.array(normalized_outter_FE)\n",
        "array_outter_DE = np.array(normalized_outter_DE)\n",
        "\n",
        "# Concatenate the arrays along axis 0 (stack them vertically)\n",
        "array_outter = np.concatenate([array_outter_FE, array_outter_DE ], axis=0)\n",
        "array_outter.shape"
      ],
      "metadata": {
        "colab": {
          "base_uri": "https://localhost:8080/"
        },
        "id": "NbX2vxNwbhcn",
        "outputId": "5424b271-f136-4be8-874e-e8905415b523"
      },
      "execution_count": 28,
      "outputs": [
        {
          "output_type": "execute_result",
          "data": {
            "text/plain": [
              "(34, 14)"
            ]
          },
          "metadata": {},
          "execution_count": 28
        }
      ]
    },
    {
      "cell_type": "code",
      "source": [
        "are_equal = np.array_equal(array_3, array_outter )\n",
        "\n",
        "if are_equal:\n",
        "    print(\"The arrays are equal.\")\n",
        "else:\n",
        "    print(\"The arrays are not equal.\")"
      ],
      "metadata": {
        "colab": {
          "base_uri": "https://localhost:8080/"
        },
        "id": "9WRJL_cAb9dX",
        "outputId": "0c367e9f-6e7e-4b40-bb73-927e8ace384a"
      },
      "execution_count": null,
      "outputs": [
        {
          "output_type": "stream",
          "name": "stdout",
          "text": [
            "The arrays are equal.\n"
          ]
        }
      ]
    },
    {
      "cell_type": "markdown",
      "source": [
        "### creacion y concatenacion de los arrays asociados a la condicion de falla externo pero con el acelerometro en otra disposicion"
      ],
      "metadata": {
        "id": "-BdlgTGucv3D"
      }
    },
    {
      "cell_type": "code",
      "source": [
        "### creacion y concatenacion de los arrays asociados a la condicion de falla externa\n",
        "array_outter_1_FE = np.array(normalized_outter_1_FE)\n",
        "array_outter_1_DE = np.array(normalized_outter_1_DE)\n",
        "\n",
        "# Concatenate the arrays along axis 0 (stack them vertically)\n",
        "array_outter_1 = np.concatenate([array_outter_1_FE, array_outter_1_DE ], axis=0)\n",
        "array_outter_1.shape"
      ],
      "metadata": {
        "colab": {
          "base_uri": "https://localhost:8080/"
        },
        "id": "K3GaS_YLfBjH",
        "outputId": "a90b14bd-8428-42e2-d4bb-1d4c8ecef5b8"
      },
      "execution_count": 29,
      "outputs": [
        {
          "output_type": "execute_result",
          "data": {
            "text/plain": [
              "(14, 14)"
            ]
          },
          "metadata": {},
          "execution_count": 29
        }
      ]
    },
    {
      "cell_type": "code",
      "source": [
        "are_equal = np.array_equal(array_3, array_outter_1)\n",
        "\n",
        "if are_equal:\n",
        "    print(\"The arrays are equal.\")\n",
        "else:\n",
        "    print(\"The arrays are not equal.\")"
      ],
      "metadata": {
        "colab": {
          "base_uri": "https://localhost:8080/"
        },
        "id": "gFlXa8mZgEiE",
        "outputId": "8e26166a-cb2b-4d1d-890f-2dac270fe89a"
      },
      "execution_count": null,
      "outputs": [
        {
          "output_type": "stream",
          "name": "stdout",
          "text": [
            "The arrays are equal.\n"
          ]
        }
      ]
    },
    {
      "cell_type": "markdown",
      "source": [
        "### creacion y concatenacion de los arrays asociados a la condicion de falla interna"
      ],
      "metadata": {
        "id": "7GBOzx0agVt-"
      }
    },
    {
      "cell_type": "code",
      "source": [
        "### creacion y concatenacion de los arrays asociados a la condicion de falla interna\n",
        "array_inner_FE = np.array(normalized_inner_FE)\n",
        "array_inner_DE = np.array(normalized_inner_DE)\n",
        "\n",
        "# Concatenate the arrays along axis 0 (stack them vertically)\n",
        "array_inner = np.concatenate([array_inner_FE, array_inner_DE ], axis=0)\n",
        "array_inner.shape"
      ],
      "metadata": {
        "colab": {
          "base_uri": "https://localhost:8080/"
        },
        "id": "o4-by_hggZuE",
        "outputId": "7503deda-2cf3-4eae-9fa5-d80d8a53f1f9"
      },
      "execution_count": 30,
      "outputs": [
        {
          "output_type": "execute_result",
          "data": {
            "text/plain": [
              "(24, 14)"
            ]
          },
          "metadata": {},
          "execution_count": 30
        }
      ]
    },
    {
      "cell_type": "code",
      "source": [
        "len(array_inner)"
      ],
      "metadata": {
        "colab": {
          "base_uri": "https://localhost:8080/"
        },
        "id": "csgqfntmn_pz",
        "outputId": "f7d7a42e-a1ec-4d52-fa30-5f5c3cc5ecc3"
      },
      "execution_count": null,
      "outputs": [
        {
          "output_type": "execute_result",
          "data": {
            "text/plain": [
              "24"
            ]
          },
          "metadata": {},
          "execution_count": 127
        }
      ]
    },
    {
      "cell_type": "code",
      "source": [
        "are_equal = np.array_equal(array_3, array_inner)\n",
        "\n",
        "if are_equal:\n",
        "    print(\"The arrays are equal.\")\n",
        "else:\n",
        "    print(\"The arrays are not equal.\")"
      ],
      "metadata": {
        "colab": {
          "base_uri": "https://localhost:8080/"
        },
        "id": "b681dKChgvq9",
        "outputId": "fff6ab8b-52ae-45a1-af70-4da4217dc360"
      },
      "execution_count": null,
      "outputs": [
        {
          "output_type": "stream",
          "name": "stdout",
          "text": [
            "The arrays are equal.\n"
          ]
        }
      ]
    },
    {
      "cell_type": "markdown",
      "source": [
        "### creacion y concatenacion de los arrays asociados a la condicion de falla en el elemento rodante"
      ],
      "metadata": {
        "id": "4WRGViZso7ZN"
      }
    },
    {
      "cell_type": "code",
      "source": [
        "### creacion y concatenacion de los arrays asociados a la condicion de falla interna\n",
        "array_ball_FE = np.array(normalized_ball_FE)\n",
        "array_ball_DE = np.array(normalized_ball_DE)\n",
        "\n",
        "# Concatenate the arrays along axis 0 (stack them vertically)\n",
        "array_ball = np.concatenate([array_ball_FE, array_ball_DE ], axis=0)\n",
        "array_ball.shape"
      ],
      "metadata": {
        "colab": {
          "base_uri": "https://localhost:8080/"
        },
        "id": "q7RQ7mVNpIml",
        "outputId": "eaceba3d-4282-4afa-f5b5-241295eeec71"
      },
      "execution_count": 31,
      "outputs": [
        {
          "output_type": "execute_result",
          "data": {
            "text/plain": [
              "(24, 14)"
            ]
          },
          "metadata": {},
          "execution_count": 31
        }
      ]
    },
    {
      "cell_type": "code",
      "source": [
        "are_equal = np.array_equal(array_3, array_ball)\n",
        "\n",
        "if are_equal:\n",
        "    print(\"The arrays are equal.\")\n",
        "else:\n",
        "    print(\"The arrays are not equal.\")"
      ],
      "metadata": {
        "colab": {
          "base_uri": "https://localhost:8080/"
        },
        "id": "wUDIZnvCpRuV",
        "outputId": "d53d7695-8248-417a-8cfe-e26b599dfead"
      },
      "execution_count": null,
      "outputs": [
        {
          "output_type": "stream",
          "name": "stdout",
          "text": [
            "The arrays are equal.\n"
          ]
        }
      ]
    },
    {
      "cell_type": "markdown",
      "source": [
        "### creacion de los targets"
      ],
      "metadata": {
        "id": "CROYyn-xhhF6"
      }
    },
    {
      "cell_type": "code",
      "source": [
        "def create_mask_array(variable, variable_name, substring):\n",
        "    # Create an array to store the mask values\n",
        "    if substring in variable_name:\n",
        "        mask_array = np.zeros((len(variable), 1))\n",
        "    else:\n",
        "        mask_array = np.ones((len(variable), 1))\n",
        "    return mask_array"
      ],
      "metadata": {
        "id": "BfEnxeVihmvb"
      },
      "execution_count": 32,
      "outputs": []
    },
    {
      "cell_type": "code",
      "source": [
        "normal_targets=create_mask_array(array_normal, \"array_normal\", \"normal\")"
      ],
      "metadata": {
        "id": "bQH0kOXGnYXN"
      },
      "execution_count": 33,
      "outputs": []
    },
    {
      "cell_type": "code",
      "source": [
        "normal_targets.shape"
      ],
      "metadata": {
        "colab": {
          "base_uri": "https://localhost:8080/"
        },
        "id": "fcj329pTqmRe",
        "outputId": "398ac27d-c9ec-4729-e77c-c2d2b43010fd"
      },
      "execution_count": null,
      "outputs": [
        {
          "output_type": "execute_result",
          "data": {
            "text/plain": [
              "(8, 1)"
            ]
          },
          "metadata": {},
          "execution_count": 155
        }
      ]
    },
    {
      "cell_type": "code",
      "source": [
        "outter_targets=create_mask_array(array_outter, \"array_outter\", \"normal\")"
      ],
      "metadata": {
        "id": "v76bqMJSqtWz"
      },
      "execution_count": 34,
      "outputs": []
    },
    {
      "cell_type": "code",
      "source": [
        "outter_targets"
      ],
      "metadata": {
        "colab": {
          "base_uri": "https://localhost:8080/"
        },
        "id": "UsorM7N9qxYU",
        "outputId": "f23ac5d7-2bdd-4645-fe10-701fa4913706"
      },
      "execution_count": null,
      "outputs": [
        {
          "output_type": "execute_result",
          "data": {
            "text/plain": [
              "array([[1.],\n",
              "       [1.],\n",
              "       [1.],\n",
              "       [1.],\n",
              "       [1.],\n",
              "       [1.],\n",
              "       [1.],\n",
              "       [1.],\n",
              "       [1.],\n",
              "       [1.],\n",
              "       [1.],\n",
              "       [1.],\n",
              "       [1.],\n",
              "       [1.],\n",
              "       [1.],\n",
              "       [1.],\n",
              "       [1.],\n",
              "       [1.],\n",
              "       [1.],\n",
              "       [1.],\n",
              "       [1.],\n",
              "       [1.],\n",
              "       [1.],\n",
              "       [1.],\n",
              "       [1.],\n",
              "       [1.],\n",
              "       [1.],\n",
              "       [1.],\n",
              "       [1.],\n",
              "       [1.],\n",
              "       [1.],\n",
              "       [1.],\n",
              "       [1.],\n",
              "       [1.]])"
            ]
          },
          "metadata": {},
          "execution_count": 157
        }
      ]
    },
    {
      "cell_type": "code",
      "source": [
        "outter_targets_1=create_mask_array(array_outter_1, \"array_outter_1\", \"normal\")"
      ],
      "metadata": {
        "id": "vNpkcDjqqzCG"
      },
      "execution_count": 35,
      "outputs": []
    },
    {
      "cell_type": "code",
      "source": [
        "outter_targets_1"
      ],
      "metadata": {
        "colab": {
          "base_uri": "https://localhost:8080/"
        },
        "id": "r1-IIQfFrNL8",
        "outputId": "3caac0e3-b745-47ed-f22e-5c78c58c9e33"
      },
      "execution_count": null,
      "outputs": [
        {
          "output_type": "execute_result",
          "data": {
            "text/plain": [
              "array([[1.],\n",
              "       [1.],\n",
              "       [1.],\n",
              "       [1.],\n",
              "       [1.],\n",
              "       [1.],\n",
              "       [1.],\n",
              "       [1.],\n",
              "       [1.],\n",
              "       [1.],\n",
              "       [1.],\n",
              "       [1.],\n",
              "       [1.],\n",
              "       [1.]])"
            ]
          },
          "metadata": {},
          "execution_count": 159
        }
      ]
    },
    {
      "cell_type": "code",
      "source": [
        "inner_targets=create_mask_array(array_inner, \"array_inner\", \"normal\")"
      ],
      "metadata": {
        "id": "3O5vemeorPei"
      },
      "execution_count": 36,
      "outputs": []
    },
    {
      "cell_type": "code",
      "source": [
        "inner_targets.shape"
      ],
      "metadata": {
        "colab": {
          "base_uri": "https://localhost:8080/"
        },
        "id": "Cy6rC2iXrPhc",
        "outputId": "645b47a1-bdbb-4606-c455-f46ff61b22d9"
      },
      "execution_count": null,
      "outputs": [
        {
          "output_type": "execute_result",
          "data": {
            "text/plain": [
              "(24, 1)"
            ]
          },
          "metadata": {},
          "execution_count": 161
        }
      ]
    },
    {
      "cell_type": "code",
      "source": [
        "ball_targets=create_mask_array(array_ball, \"array_ball\", \"normal\")"
      ],
      "metadata": {
        "id": "YMM0MGDYp6ta"
      },
      "execution_count": 37,
      "outputs": []
    },
    {
      "cell_type": "code",
      "source": [
        "ball_targets"
      ],
      "metadata": {
        "colab": {
          "base_uri": "https://localhost:8080/"
        },
        "id": "sj2Rl_xtqBvs",
        "outputId": "ff599443-8e81-4874-ff31-9c7cf95d3fc7"
      },
      "execution_count": null,
      "outputs": [
        {
          "output_type": "execute_result",
          "data": {
            "text/plain": [
              "array([[1.],\n",
              "       [1.],\n",
              "       [1.],\n",
              "       [1.],\n",
              "       [1.],\n",
              "       [1.],\n",
              "       [1.],\n",
              "       [1.],\n",
              "       [1.],\n",
              "       [1.],\n",
              "       [1.],\n",
              "       [1.],\n",
              "       [1.],\n",
              "       [1.],\n",
              "       [1.],\n",
              "       [1.],\n",
              "       [1.],\n",
              "       [1.],\n",
              "       [1.],\n",
              "       [1.],\n",
              "       [1.],\n",
              "       [1.],\n",
              "       [1.],\n",
              "       [1.]])"
            ]
          },
          "metadata": {},
          "execution_count": 174
        }
      ]
    },
    {
      "cell_type": "markdown",
      "source": [
        "### concatenacion de los targets"
      ],
      "metadata": {
        "id": "JeFIfLhEsILs"
      }
    },
    {
      "cell_type": "code",
      "source": [
        "y_targets = np.concatenate((normal_targets, outter_targets, outter_targets_1, inner_targets,ball_targets))"
      ],
      "metadata": {
        "id": "_89wyymusDWl"
      },
      "execution_count": 38,
      "outputs": []
    },
    {
      "cell_type": "code",
      "source": [
        "y_targets.shape"
      ],
      "metadata": {
        "colab": {
          "base_uri": "https://localhost:8080/"
        },
        "id": "B8-glMpzsm2-",
        "outputId": "ab2803c2-6c26-4ed7-f59b-2a5a636998e5"
      },
      "execution_count": 39,
      "outputs": [
        {
          "output_type": "execute_result",
          "data": {
            "text/plain": [
              "(104, 1)"
            ]
          },
          "metadata": {},
          "execution_count": 39
        }
      ]
    },
    {
      "cell_type": "markdown",
      "source": [
        "### concatenacion de los features"
      ],
      "metadata": {
        "id": "bSLlA2SXs3Ki"
      }
    },
    {
      "cell_type": "code",
      "source": [
        "x_features=np.concatenate((array_normal, array_outter, array_outter_1, array_inner,array_ball))"
      ],
      "metadata": {
        "id": "9_1gZ3F1s5fr"
      },
      "execution_count": 45,
      "outputs": []
    },
    {
      "cell_type": "code",
      "source": [
        "x_features.shape"
      ],
      "metadata": {
        "colab": {
          "base_uri": "https://localhost:8080/"
        },
        "id": "8OVZTMtxD_VD",
        "outputId": "4e9dd17b-4c72-4840-9794-81b6caabaf75"
      },
      "execution_count": 46,
      "outputs": [
        {
          "output_type": "execute_result",
          "data": {
            "text/plain": [
              "(104, 14)"
            ]
          },
          "metadata": {},
          "execution_count": 46
        }
      ]
    },
    {
      "cell_type": "markdown",
      "source": [
        "#### Almaceno la nueva data en google drive\n",
        "\n",
        "\n",
        "\n"
      ],
      "metadata": {
        "id": "ahbN0SqeECi5"
      }
    },
    {
      "cell_type": "code",
      "source": [
        "#creo el h5py de las features\n",
        "data=x_features\n",
        "path_features=\"/content/drive/MyDrive/tesis USB /case west reserve university/data_1/features\"\n",
        "hdf5_file_path = path_features\n",
        "# with h5py.File(hdf5_file_path, 'w') as hf:\n",
        "#     hf.create_dataset('features', data=data)\n",
        "with h5py.File(hdf5_file_path, 'r') as hf:\n",
        "    x_features_1 = hf['features'][:]\n"
      ],
      "metadata": {
        "id": "9ts1kUPLEND2"
      },
      "execution_count": 49,
      "outputs": []
    },
    {
      "cell_type": "code",
      "source": [
        "are_equal = np.array_equal(x_features, x_features_1)\n",
        "\n",
        "if are_equal:\n",
        "    print(\"The arrays are equal.\")\n",
        "else:\n",
        "    print(\"The arrays are not equal.\")"
      ],
      "metadata": {
        "colab": {
          "base_uri": "https://localhost:8080/"
        },
        "id": "6LBzi-bbEquP",
        "outputId": "a4909956-07ec-4ab5-be09-deb7f34c36df"
      },
      "execution_count": 51,
      "outputs": [
        {
          "output_type": "stream",
          "name": "stdout",
          "text": [
            "The arrays are equal.\n"
          ]
        }
      ]
    },
    {
      "cell_type": "code",
      "source": [
        "#creo el h5py de las features\n",
        "data=y_targets\n",
        "path_features=\"/content/drive/MyDrive/tesis USB /case west reserve university/data_1/targets\"\n",
        "hdf5_file_path = path_features\n",
        "# with h5py.File(hdf5_file_path, 'w') as hf:\n",
        "#     hf.create_dataset('targets', data=data)\n",
        "with h5py.File(hdf5_file_path, 'r') as hf:\n",
        "    y_targets_1 = hf['targets'][:]\n"
      ],
      "metadata": {
        "id": "hWE6i8reGlL2"
      },
      "execution_count": 52,
      "outputs": []
    },
    {
      "cell_type": "code",
      "source": [
        "are_equal = np.array_equal(y_targets, y_targets_1)\n",
        "\n",
        "if are_equal:\n",
        "    print(\"The arrays are equal.\")\n",
        "else:\n",
        "    print(\"The arrays are not equal.\")"
      ],
      "metadata": {
        "colab": {
          "base_uri": "https://localhost:8080/"
        },
        "id": "KdXgXJBuHNui",
        "outputId": "489bd444-fae8-485f-ae6b-3946efc8ecd9"
      },
      "execution_count": 54,
      "outputs": [
        {
          "output_type": "stream",
          "name": "stdout",
          "text": [
            "The arrays are equal.\n"
          ]
        }
      ]
    }
  ]
}