{
  "nbformat": 4,
  "nbformat_minor": 0,
  "metadata": {
    "colab": {
      "provenance": [],
      "mount_file_id": "1suV5Kv8Z6KHrU6BWIh5DYb3iSQJ6pakj",
      "authorship_tag": "ABX9TyNGo/ouvbsOgt18/NNlykvb",
      "include_colab_link": true
    },
    "kernelspec": {
      "name": "python3",
      "display_name": "Python 3"
    },
    "language_info": {
      "name": "python"
    }
  },
  "cells": [
    {
      "cell_type": "markdown",
      "metadata": {
        "id": "view-in-github",
        "colab_type": "text"
      },
      "source": [
        "<a href=\"https://colab.research.google.com/github/naldo14/tesis-/blob/main/casewest_1.ipynb\" target=\"_parent\"><img src=\"https://colab.research.google.com/assets/colab-badge.svg\" alt=\"Open In Colab\"/></a>"
      ]
    },
    {
      "cell_type": "code",
      "execution_count": 1,
      "metadata": {
        "id": "Np7gtRCdbSBE"
      },
      "outputs": [],
      "source": [
        "import h5py #librerua para crear archivos , h5py\n",
        "import sys\n",
        "import numpy as np\n",
        "import math\n",
        "from scipy import signal    #aqui estoy usando la libreria signal\n",
        "import scipy.io\n",
        "import os\n",
        "import pandas as pd\n",
        "import pywt"
      ]
    },
    {
      "cell_type": "code",
      "source": [
        "#hacer el mounted de mi cuenta drive\n",
        "from google.colab import drive\n",
        "drive.mount('/content/drive')"
      ],
      "metadata": {
        "colab": {
          "base_uri": "https://localhost:8080/"
        },
        "id": "KfLVDq7beZFp",
        "outputId": "37b374e5-7fef-49ab-d962-fd79bd28fbc9"
      },
      "execution_count": 2,
      "outputs": [
        {
          "output_type": "stream",
          "name": "stdout",
          "text": [
            "Drive already mounted at /content/drive; to attempt to forcibly remount, call drive.mount(\"/content/drive\", force_remount=True).\n"
          ]
        }
      ]
    },
    {
      "cell_type": "code",
      "source": [
        "#celda para crear la lista con los paths de mi data\n",
        "paths=[] #creo la lista de pahts\n",
        "names=[] #creo la lista de nombres\n",
        "output_file=[]\n",
        "paths.append('/content/drive/MyDrive/tesis USB /case west reserve university')\n",
        "names.append('casewest')\n",
        "output_file.append('/content/drive/MyDrive/tesis USB /case west reserve university/data')"
      ],
      "metadata": {
        "id": "qClZds_Yed5o"
      },
      "execution_count": null,
      "outputs": []
    },
    {
      "cell_type": "code",
      "source": [
        "# #hago el unar del archivo\n",
        "# !pip install rarfile\n",
        "\n",
        "# from google.colab import drive\n",
        "# import rarfile\n",
        "\n",
        "# # Path to the .zip file in Google Drive\n",
        "# zip_file_path = paths[0]+'/'+names[0]+\".rar\"\n",
        "\n",
        "# with rarfile.RarFile(zip_file_path, 'r') as rf:\n",
        "#     rf.extractall(output_file[0])"
      ],
      "metadata": {
        "colab": {
          "base_uri": "https://localhost:8080/"
        },
        "id": "M2opzPJuftNi",
        "outputId": "5ea5e83d-29de-4e4e-84a0-e3878f549621"
      },
      "execution_count": null,
      "outputs": [
        {
          "output_type": "stream",
          "name": "stdout",
          "text": [
            "Requirement already satisfied: rarfile in /usr/local/lib/python3.10/dist-packages (4.1)\n"
          ]
        }
      ]
    },
    {
      "cell_type": "code",
      "source": [
        "# #creo que los h5py file vacios\n",
        "# import os\n",
        "# import h5py\n",
        "\n",
        "# # List of directory paths\n",
        "# directory_paths = [\n",
        "#     \"/content/drive/MyDrive/tesis USB /case west reserve university/data/inner\",\n",
        "#     \"/content/drive/MyDrive/tesis USB /case west reserve university/data/outter\",\n",
        "#     \"/content/drive/MyDrive/tesis USB /case west reserve university/data/outter1\",\n",
        "#     \"/content/drive/MyDrive/tesis USB /case west reserve university/data/normal\"\n",
        "# ]\n",
        "\n",
        "# # Loop through each directory path\n",
        "# for directory_path in directory_paths:\n",
        "#     # Get the directory name (e.g., \"inner,\" \"outter,\" etc.)\n",
        "#     directory_name = os.path.basename(directory_path)\n",
        "\n",
        "#     # Create an h5py file for the directory\n",
        "#     h5py_file = h5py.File(f\"{directory_name}.h5\", \"w\")\n",
        "\n",
        "#     # List .mat files in the directory\n",
        "#     mat_files = [f for f in os.listdir(directory_path) if f.endswith(\".mat\")]\n",
        "\n",
        "#     # Add each .mat file to the h5py file as an empty dataset\n",
        "#     for mat_file in mat_files:\n",
        "#         # Create an empty dataset\n",
        "#         dataset = h5py_file.create_dataset(mat_file, shape=(0,), dtype='f4')\n",
        "\n",
        "#     # Close the h5py file\n",
        "#     h5py_file.close()\n",
        "\n",
        "# Now you have separate h5py files for each directory with empty datasets"
      ],
      "metadata": {
        "id": "_BuWOWrPnzgG"
      },
      "execution_count": null,
      "outputs": []
    },
    {
      "cell_type": "code",
      "source": [
        "\n",
        "# ### function to storaged all the .mat file into the h5py's file\n",
        "# def save_mat_to_h5py(mat_files_directories, h5py_file_names):\n",
        "#     if len(mat_files_directories) != len(h5py_file_names):\n",
        "#         print(\"Error: The number of directories and h5py file names should match.\")\n",
        "#         return\n",
        "\n",
        "#     for mat_files_directory, h5py_file_name in zip(mat_files_directories, h5py_file_names):\n",
        "#         # Open the h5py file\n",
        "#         with h5py.File(h5py_file_name, 'w') as h5file:\n",
        "#             # Get the list of .mat files in the directory\n",
        "#             mat_files = [f for f in os.listdir(mat_files_directory) if f.endswith(\".mat\")]\n",
        "\n",
        "#             # Add each .mat file content to the h5py file\n",
        "#             for mat_file in mat_files:\n",
        "#                 # Load the ..mat file\n",
        "#                 mat_data = scipy.io.loadmat(os.path.join(mat_files_directory, mat_file))\n",
        "\n",
        "#                 # Create datasets for each variable in the .mat file\n",
        "#                 for var_name, var_data in mat_data.items():\n",
        "#                     h5file.create_dataset(f\"{mat_file}/{var_name}\", data=var_data)\n",
        "\n",
        "# mat_files_directories = [\n",
        "#     '/content/drive/MyDrive/tesis USB /case west reserve university/data/inner',\n",
        "#     '/content/drive/MyDrive/tesis USB /case west reserve university/data/normal',\n",
        "#     '/content/drive/MyDrive/tesis USB /case west reserve university/data/outter',\n",
        "#     '/content/drive/MyDrive/tesis USB /case west reserve university/data/outter1'\n",
        "\n",
        "# ]\n",
        "# h5py_file_names = [\n",
        "#     '/content/drive/MyDrive/tesis USB /case west reserve university/inner.h5',\n",
        "#     '/content/drive/MyDrive/tesis USB /case west reserve university/normal.h5',\n",
        "#     '/content/drive/MyDrive/tesis USB /case west reserve university/outter.h5',\n",
        "#     '/content/drive/MyDrive/tesis USB /case west reserve university/outter1.h5'\n",
        "# ]\n",
        "# save_mat_to_h5py(mat_files_directories, h5py_file_names)"
      ],
      "metadata": {
        "id": "HObiN8sZ6bx0"
      },
      "execution_count": null,
      "outputs": []
    },
    {
      "cell_type": "code",
      "source": [
        "# 'data' now contains a dictionary where the keys are the .mat file names\n",
        "# and the values are dictionaries containing the arrays for each .mat file\n",
        "\n",
        "def get_h5py_data(h5py_file_path):\n",
        "    data = {}\n",
        "\n",
        "    # Open the h5py file\n",
        "    with h5py.File(h5py_file_path, 'r') as h5file:\n",
        "        # List the keys (dataset names) in the h5py file\n",
        "        keys = list(h5file.keys())\n",
        "\n",
        "        for key in keys:\n",
        "            # Access the content of the .mat file (dataset)\n",
        "            mat_data = h5file[key]\n",
        "\n",
        "            # Create a dictionary to store the arrays for this .mat file\n",
        "            arrays = {}\n",
        "\n",
        "            for subkey, value in mat_data.items():\n",
        "                if isinstance(value, h5py.Group):\n",
        "                    # If it's a group (nested data), you can access its keys\n",
        "                    subkeys = list(value.keys())\n",
        "                    for subkey in subkeys:\n",
        "                        # Access the actual data (arrays) and store in the dictionary\n",
        "                        subkey_data = value[subkey][()]\n",
        "                        arrays[subkey] = subkey_data\n",
        "                else:\n",
        "                    # If it's a dataset (e.g., a variable), you can access its value\n",
        "                    # and store it in the dictionary using the original key\n",
        "                    variable_data = value[()]\n",
        "                    arrays[subkey] = variable_data\n",
        "\n",
        "            # Store the arrays for this .mat file in the data dictionary\n",
        "            data[key] = arrays\n",
        "\n",
        "    return data\n"
      ],
      "metadata": {
        "id": "09aiBY-PA6Nk"
      },
      "execution_count": 10,
      "outputs": []
    },
    {
      "cell_type": "code",
      "source": [
        "\n",
        "def band_maker(coeffs, fs, title):\n",
        "    p = len(coeffs)- 1\n",
        "    low_frequencies = [None] * len(coeffs)\n",
        "    high_frequencies = [None] * len(coeffs)\n",
        "\n",
        "    # low_frequencies[0] = 0\n",
        "    # high_frequencies[0] = fs / (2 ** (p) * 2)\n",
        "    for i in range(0, len(coeffs)):\n",
        "         high_frequencies[i] = fs / (2 ** (p+-i + 1))\n",
        "    low_frequencies[0]=0\n",
        "    low_frequencies[1:len(low_frequencies)]= high_frequencies[:len(low_frequencies) - 1]\n",
        "\n",
        "\n",
        "\n",
        "    return  high_frequencies,low_frequencies"
      ],
      "metadata": {
        "id": "6IgxjkfiEd-w"
      },
      "execution_count": 11,
      "outputs": []
    },
    {
      "cell_type": "code",
      "source": [
        "def frequencies_maker(N,fs,d,D,theta):\n",
        "  theta=(theta/180)*np.pi\n",
        "  FTF=(fs/2)*(1-d/D*np.cos(theta))\n",
        "  BPFI=(N*fs/2)*(1+d/D*np.cos(theta))\n",
        "  BPFO=(N*fs/2)*(1-d/D*np.cos(theta))\n",
        "  BSF=(D*fs/d)*(1-(d/D)**2*np.cos(theta))\n",
        "  return(FTF,BPFI,BPFO,BSF)\n"
      ],
      "metadata": {
        "id": "S2jaHAMsEiEP"
      },
      "execution_count": 4,
      "outputs": []
    },
    {
      "cell_type": "code",
      "source": [
        "FTF,BPFI,BPFO,BSF=frequencies_maker(9,50.17,7.90,38.5,0) #estos datos son para el daata set coreano\n",
        "data = {\n",
        "    'Name': ['Fundamental train frequency (FTF)', 'Ball pass frequency inner (BPFI)', 'Ball pass frequency outer (BPFO)','Ball spin frequency (BSF)'],\n",
        "    'Values (HZ)': [FTF, BPFI, BPFO,BSF]\n",
        "}\n",
        "\n",
        "# Create a dataframe from the dictionary\n",
        "df = pd.DataFrame(data)\n",
        "\n",
        "# Print the dataframe\n",
        "print(df)"
      ],
      "metadata": {
        "colab": {
          "base_uri": "https://localhost:8080/"
        },
        "id": "ZfIjXas3Eo1O",
        "outputId": "9a3a663c-6008-457b-86ab-daed7cac2411"
      },
      "execution_count": 5,
      "outputs": [
        {
          "output_type": "stream",
          "name": "stdout",
          "text": [
            "                                Name  Values (HZ)\n",
            "0  Fundamental train frequency (FTF)    19.937688\n",
            "1   Ball pass frequency inner (BPFI)   272.090805\n",
            "2   Ball pass frequency outer (BPFO)   179.439195\n",
            "3          Ball spin frequency (BSF)   234.204744\n"
          ]
        }
      ]
    },
    {
      "cell_type": "code",
      "source": [
        "def cwt_maker(dic_data, wavelet='db38', level=5):\n",
        "  w = pywt.Wavelet(wavelet)\n",
        "  coeffs = pywt.wavedec(dic_data, w, level=level)\n",
        "  print(level)\n",
        "  energies_levels = [np.sum(np.abs(coeffs)**2) for coeffs in coeffs]\n",
        "  array_dwt = energies_levels\n",
        "\n",
        "  return (np.array(array_dwt))\n"
      ],
      "metadata": {
        "id": "_5Lyi0-6imwc"
      },
      "execution_count": 6,
      "outputs": []
    },
    {
      "cell_type": "code",
      "source": [
        "#aqui solo normalizo los niveles energeticos\n",
        "\n",
        "def normalization_from_coeffs(coeffs):\n",
        "\n",
        "    mean_energy = np.mean(coeffs)\n",
        "    std_energy = np.std(coeffs)\n",
        "\n",
        "    # Calculate Z-scores\n",
        "    z_scores = [(energy - mean_energy) / std_energy for energy in coeffs]\n",
        "\n",
        "    return z_scores"
      ],
      "metadata": {
        "id": "W-ur5HEHEk-o"
      },
      "execution_count": 43,
      "outputs": []
    },
    {
      "cell_type": "code",
      "source": [
        "## almacenamiento de la data inner\n",
        "file_path = \"/content/drive/MyDrive/tesis USB /case west reserve university/outter1.h5\"\n",
        "data_inner = get_h5py_data(file_path)"
      ],
      "metadata": {
        "id": "scVPx_mPBebJ"
      },
      "execution_count": 12,
      "outputs": []
    },
    {
      "cell_type": "code",
      "source": [
        "## almacenamiento de la data outter\n",
        "file_path = \"/content/drive/MyDrive/tesis USB /case west reserve university/outter.h5\"\n",
        "data_outter = get_h5py_data(file_path)"
      ],
      "metadata": {
        "id": "YhK__C2TDyRb"
      },
      "execution_count": 13,
      "outputs": []
    },
    {
      "cell_type": "code",
      "source": [
        "## almacenamiento de la data outter\n",
        "file_path = \"/content/drive/MyDrive/tesis USB /case west reserve university/outter1.h5\"\n",
        "data_outter_1 = get_h5py_data(file_path)"
      ],
      "metadata": {
        "id": "S6n0oQOED3hZ"
      },
      "execution_count": 14,
      "outputs": []
    },
    {
      "cell_type": "code",
      "source": [
        "## almacenamiento de la data normal\n",
        "file_path = \"/content/drive/MyDrive/tesis USB /case west reserve university/normal.h5\"\n",
        "data_normal = get_h5py_data(file_path)"
      ],
      "metadata": {
        "id": "Upuyyyi_D8cL"
      },
      "execution_count": 15,
      "outputs": []
    },
    {
      "cell_type": "code",
      "source": [
        "## calculo el nivel del banco de filtro:\n",
        "fs=math.ceil(FTF) #frecuencia natural , se usa la del train frequencie\n",
        "fe=25.6e3 # frecuencia de sampleo\n",
        "n = math.ceil(math.log(fe / fs) / math.log(2)) +2\n",
        "level = n"
      ],
      "metadata": {
        "id": "AYjEB684F0bM"
      },
      "execution_count": 16,
      "outputs": []
    },
    {
      "cell_type": "code",
      "source": [
        "pywt.wavelist(family=None, kind='discrete')"
      ],
      "metadata": {
        "colab": {
          "base_uri": "https://localhost:8080/"
        },
        "id": "KY30RgD6l-na",
        "outputId": "e8117d95-407b-449c-d08e-25d67c881f9b"
      },
      "execution_count": null,
      "outputs": [
        {
          "output_type": "execute_result",
          "data": {
            "text/plain": [
              "['bior1.1',\n",
              " 'bior1.3',\n",
              " 'bior1.5',\n",
              " 'bior2.2',\n",
              " 'bior2.4',\n",
              " 'bior2.6',\n",
              " 'bior2.8',\n",
              " 'bior3.1',\n",
              " 'bior3.3',\n",
              " 'bior3.5',\n",
              " 'bior3.7',\n",
              " 'bior3.9',\n",
              " 'bior4.4',\n",
              " 'bior5.5',\n",
              " 'bior6.8',\n",
              " 'coif1',\n",
              " 'coif2',\n",
              " 'coif3',\n",
              " 'coif4',\n",
              " 'coif5',\n",
              " 'coif6',\n",
              " 'coif7',\n",
              " 'coif8',\n",
              " 'coif9',\n",
              " 'coif10',\n",
              " 'coif11',\n",
              " 'coif12',\n",
              " 'coif13',\n",
              " 'coif14',\n",
              " 'coif15',\n",
              " 'coif16',\n",
              " 'coif17',\n",
              " 'db1',\n",
              " 'db2',\n",
              " 'db3',\n",
              " 'db4',\n",
              " 'db5',\n",
              " 'db6',\n",
              " 'db7',\n",
              " 'db8',\n",
              " 'db9',\n",
              " 'db10',\n",
              " 'db11',\n",
              " 'db12',\n",
              " 'db13',\n",
              " 'db14',\n",
              " 'db15',\n",
              " 'db16',\n",
              " 'db17',\n",
              " 'db18',\n",
              " 'db19',\n",
              " 'db20',\n",
              " 'db21',\n",
              " 'db22',\n",
              " 'db23',\n",
              " 'db24',\n",
              " 'db25',\n",
              " 'db26',\n",
              " 'db27',\n",
              " 'db28',\n",
              " 'db29',\n",
              " 'db30',\n",
              " 'db31',\n",
              " 'db32',\n",
              " 'db33',\n",
              " 'db34',\n",
              " 'db35',\n",
              " 'db36',\n",
              " 'db37',\n",
              " 'db38',\n",
              " 'dmey',\n",
              " 'haar',\n",
              " 'rbio1.1',\n",
              " 'rbio1.3',\n",
              " 'rbio1.5',\n",
              " 'rbio2.2',\n",
              " 'rbio2.4',\n",
              " 'rbio2.6',\n",
              " 'rbio2.8',\n",
              " 'rbio3.1',\n",
              " 'rbio3.3',\n",
              " 'rbio3.5',\n",
              " 'rbio3.7',\n",
              " 'rbio3.9',\n",
              " 'rbio4.4',\n",
              " 'rbio5.5',\n",
              " 'rbio6.8',\n",
              " 'sym2',\n",
              " 'sym3',\n",
              " 'sym4',\n",
              " 'sym5',\n",
              " 'sym6',\n",
              " 'sym7',\n",
              " 'sym8',\n",
              " 'sym9',\n",
              " 'sym10',\n",
              " 'sym11',\n",
              " 'sym12',\n",
              " 'sym13',\n",
              " 'sym14',\n",
              " 'sym15',\n",
              " 'sym16',\n",
              " 'sym17',\n",
              " 'sym18',\n",
              " 'sym19',\n",
              " 'sym20']"
            ]
          },
          "metadata": {},
          "execution_count": 23
        }
      ]
    },
    {
      "cell_type": "code",
      "source": [
        "\n",
        "# list(data_outter.keys())\n",
        "data_outter['190.mat'].keys()\n",
        "# data_outter['135.mat']['X135_DE_time']"
      ],
      "metadata": {
        "id": "4SqzO9GRGMF1",
        "colab": {
          "base_uri": "https://localhost:8080/"
        },
        "outputId": "c833c16a-a104-471f-e8a9-f0861718cd89"
      },
      "execution_count": null,
      "outputs": [
        {
          "output_type": "execute_result",
          "data": {
            "text/plain": [
              "dict_keys(['X190RPM', 'X190_DE_time', 'X190_FE_time', '__globals__', '__header__', '__version__'])"
            ]
          },
          "metadata": {},
          "execution_count": 45
        }
      ]
    },
    {
      "cell_type": "code",
      "source": [
        "reshaped_array_healty = data_normal['100.mat']['X100_DE_time'].reshape((data_normal['100.mat']['X100_DE_time'].shape[0],))\n",
        "reshaped_array_faulty=data_outter['190.mat']['X190_DE_time'].reshape((data_outter['190.mat']['X190_DE_time'].shape[0]))"
      ],
      "metadata": {
        "id": "cUuOhZRhbJn3"
      },
      "execution_count": 17,
      "outputs": []
    },
    {
      "cell_type": "code",
      "source": [
        "coeff_1=cwt_maker(reshaped_array_healty , 'db38', level=level)\n",
        "coeff_2=cwt_maker(reshaped_array_faulty , 'db38', level=level)"
      ],
      "metadata": {
        "colab": {
          "base_uri": "https://localhost:8080/"
        },
        "id": "XLrqsXiZhFDw",
        "outputId": "f65db6b4-5bbb-41eb-81eb-681b160e4452"
      },
      "execution_count": 18,
      "outputs": [
        {
          "output_type": "stream",
          "name": "stdout",
          "text": [
            "13\n",
            "13\n"
          ]
        },
        {
          "output_type": "stream",
          "name": "stderr",
          "text": [
            "/usr/local/lib/python3.10/dist-packages/pywt/_multilevel.py:43: UserWarning: Level value of 13 is too high: all coefficients will experience boundary effects.\n",
            "  warnings.warn(\n"
          ]
        }
      ]
    },
    {
      "cell_type": "code",
      "source": [
        "df = pd.DataFrame({'Nivel de energia rodamiento sano ':  coeff_1, 'Nivel de energia rodamiento bajo falla ': coeff_2})\n",
        "df"
      ],
      "metadata": {
        "colab": {
          "base_uri": "https://localhost:8080/",
          "height": 488
        },
        "id": "t0bRhjkgoA6z",
        "outputId": "77b87765-7575-4b58-9ff7-1e3e0d6cd8e8"
      },
      "execution_count": null,
      "outputs": [
        {
          "output_type": "execute_result",
          "data": {
            "text/plain": [
              "    Nivel de energia rodamiento sano   Nivel de energia rodamiento bajo falla \n",
              "0                          174.566402                              1292.554268\n",
              "1                            0.256229                                12.897994\n",
              "2                            0.134699                                 7.226738\n",
              "3                            0.073371                                 3.452078\n",
              "4                            0.087824                                 1.262455\n",
              "5                            0.157908                                 2.540037\n",
              "6                           41.353035                                46.224431\n",
              "7                          191.671217                               727.711137\n",
              "8                          319.882363                               788.217601\n",
              "9                          212.629328                               275.950575\n",
              "10                         202.346871                              6236.981424\n",
              "11                         600.483111                              2531.847806\n",
              "12                         474.347942                                45.125616\n",
              "13                           3.888581                                 1.708404"
            ],
            "text/html": [
              "\n",
              "  <div id=\"df-b9c7d8d1-0c3e-4f1c-9660-777415958a65\" class=\"colab-df-container\">\n",
              "    <div>\n",
              "<style scoped>\n",
              "    .dataframe tbody tr th:only-of-type {\n",
              "        vertical-align: middle;\n",
              "    }\n",
              "\n",
              "    .dataframe tbody tr th {\n",
              "        vertical-align: top;\n",
              "    }\n",
              "\n",
              "    .dataframe thead th {\n",
              "        text-align: right;\n",
              "    }\n",
              "</style>\n",
              "<table border=\"1\" class=\"dataframe\">\n",
              "  <thead>\n",
              "    <tr style=\"text-align: right;\">\n",
              "      <th></th>\n",
              "      <th>Nivel de energia rodamiento sano</th>\n",
              "      <th>Nivel de energia rodamiento bajo falla</th>\n",
              "    </tr>\n",
              "  </thead>\n",
              "  <tbody>\n",
              "    <tr>\n",
              "      <th>0</th>\n",
              "      <td>174.566402</td>\n",
              "      <td>1292.554268</td>\n",
              "    </tr>\n",
              "    <tr>\n",
              "      <th>1</th>\n",
              "      <td>0.256229</td>\n",
              "      <td>12.897994</td>\n",
              "    </tr>\n",
              "    <tr>\n",
              "      <th>2</th>\n",
              "      <td>0.134699</td>\n",
              "      <td>7.226738</td>\n",
              "    </tr>\n",
              "    <tr>\n",
              "      <th>3</th>\n",
              "      <td>0.073371</td>\n",
              "      <td>3.452078</td>\n",
              "    </tr>\n",
              "    <tr>\n",
              "      <th>4</th>\n",
              "      <td>0.087824</td>\n",
              "      <td>1.262455</td>\n",
              "    </tr>\n",
              "    <tr>\n",
              "      <th>5</th>\n",
              "      <td>0.157908</td>\n",
              "      <td>2.540037</td>\n",
              "    </tr>\n",
              "    <tr>\n",
              "      <th>6</th>\n",
              "      <td>41.353035</td>\n",
              "      <td>46.224431</td>\n",
              "    </tr>\n",
              "    <tr>\n",
              "      <th>7</th>\n",
              "      <td>191.671217</td>\n",
              "      <td>727.711137</td>\n",
              "    </tr>\n",
              "    <tr>\n",
              "      <th>8</th>\n",
              "      <td>319.882363</td>\n",
              "      <td>788.217601</td>\n",
              "    </tr>\n",
              "    <tr>\n",
              "      <th>9</th>\n",
              "      <td>212.629328</td>\n",
              "      <td>275.950575</td>\n",
              "    </tr>\n",
              "    <tr>\n",
              "      <th>10</th>\n",
              "      <td>202.346871</td>\n",
              "      <td>6236.981424</td>\n",
              "    </tr>\n",
              "    <tr>\n",
              "      <th>11</th>\n",
              "      <td>600.483111</td>\n",
              "      <td>2531.847806</td>\n",
              "    </tr>\n",
              "    <tr>\n",
              "      <th>12</th>\n",
              "      <td>474.347942</td>\n",
              "      <td>45.125616</td>\n",
              "    </tr>\n",
              "    <tr>\n",
              "      <th>13</th>\n",
              "      <td>3.888581</td>\n",
              "      <td>1.708404</td>\n",
              "    </tr>\n",
              "  </tbody>\n",
              "</table>\n",
              "</div>\n",
              "    <div class=\"colab-df-buttons\">\n",
              "\n",
              "  <div class=\"colab-df-container\">\n",
              "    <button class=\"colab-df-convert\" onclick=\"convertToInteractive('df-b9c7d8d1-0c3e-4f1c-9660-777415958a65')\"\n",
              "            title=\"Convert this dataframe to an interactive table.\"\n",
              "            style=\"display:none;\">\n",
              "\n",
              "  <svg xmlns=\"http://www.w3.org/2000/svg\" height=\"24px\" viewBox=\"0 -960 960 960\">\n",
              "    <path d=\"M120-120v-720h720v720H120Zm60-500h600v-160H180v160Zm220 220h160v-160H400v160Zm0 220h160v-160H400v160ZM180-400h160v-160H180v160Zm440 0h160v-160H620v160ZM180-180h160v-160H180v160Zm440 0h160v-160H620v160Z\"/>\n",
              "  </svg>\n",
              "    </button>\n",
              "\n",
              "  <style>\n",
              "    .colab-df-container {\n",
              "      display:flex;\n",
              "      gap: 12px;\n",
              "    }\n",
              "\n",
              "    .colab-df-convert {\n",
              "      background-color: #E8F0FE;\n",
              "      border: none;\n",
              "      border-radius: 50%;\n",
              "      cursor: pointer;\n",
              "      display: none;\n",
              "      fill: #1967D2;\n",
              "      height: 32px;\n",
              "      padding: 0 0 0 0;\n",
              "      width: 32px;\n",
              "    }\n",
              "\n",
              "    .colab-df-convert:hover {\n",
              "      background-color: #E2EBFA;\n",
              "      box-shadow: 0px 1px 2px rgba(60, 64, 67, 0.3), 0px 1px 3px 1px rgba(60, 64, 67, 0.15);\n",
              "      fill: #174EA6;\n",
              "    }\n",
              "\n",
              "    .colab-df-buttons div {\n",
              "      margin-bottom: 4px;\n",
              "    }\n",
              "\n",
              "    [theme=dark] .colab-df-convert {\n",
              "      background-color: #3B4455;\n",
              "      fill: #D2E3FC;\n",
              "    }\n",
              "\n",
              "    [theme=dark] .colab-df-convert:hover {\n",
              "      background-color: #434B5C;\n",
              "      box-shadow: 0px 1px 3px 1px rgba(0, 0, 0, 0.15);\n",
              "      filter: drop-shadow(0px 1px 2px rgba(0, 0, 0, 0.3));\n",
              "      fill: #FFFFFF;\n",
              "    }\n",
              "  </style>\n",
              "\n",
              "    <script>\n",
              "      const buttonEl =\n",
              "        document.querySelector('#df-b9c7d8d1-0c3e-4f1c-9660-777415958a65 button.colab-df-convert');\n",
              "      buttonEl.style.display =\n",
              "        google.colab.kernel.accessAllowed ? 'block' : 'none';\n",
              "\n",
              "      async function convertToInteractive(key) {\n",
              "        const element = document.querySelector('#df-b9c7d8d1-0c3e-4f1c-9660-777415958a65');\n",
              "        const dataTable =\n",
              "          await google.colab.kernel.invokeFunction('convertToInteractive',\n",
              "                                                    [key], {});\n",
              "        if (!dataTable) return;\n",
              "\n",
              "        const docLinkHtml = 'Like what you see? Visit the ' +\n",
              "          '<a target=\"_blank\" href=https://colab.research.google.com/notebooks/data_table.ipynb>data table notebook</a>'\n",
              "          + ' to learn more about interactive tables.';\n",
              "        element.innerHTML = '';\n",
              "        dataTable['output_type'] = 'display_data';\n",
              "        await google.colab.output.renderOutput(dataTable, element);\n",
              "        const docLink = document.createElement('div');\n",
              "        docLink.innerHTML = docLinkHtml;\n",
              "        element.appendChild(docLink);\n",
              "      }\n",
              "    </script>\n",
              "  </div>\n",
              "\n",
              "\n",
              "<div id=\"df-70f83d42-4fa1-4320-840f-329d4e90f2f0\">\n",
              "  <button class=\"colab-df-quickchart\" onclick=\"quickchart('df-70f83d42-4fa1-4320-840f-329d4e90f2f0')\"\n",
              "            title=\"Suggest charts.\"\n",
              "            style=\"display:none;\">\n",
              "\n",
              "<svg xmlns=\"http://www.w3.org/2000/svg\" height=\"24px\"viewBox=\"0 0 24 24\"\n",
              "     width=\"24px\">\n",
              "    <g>\n",
              "        <path d=\"M19 3H5c-1.1 0-2 .9-2 2v14c0 1.1.9 2 2 2h14c1.1 0 2-.9 2-2V5c0-1.1-.9-2-2-2zM9 17H7v-7h2v7zm4 0h-2V7h2v10zm4 0h-2v-4h2v4z\"/>\n",
              "    </g>\n",
              "</svg>\n",
              "  </button>\n",
              "\n",
              "<style>\n",
              "  .colab-df-quickchart {\n",
              "      --bg-color: #E8F0FE;\n",
              "      --fill-color: #1967D2;\n",
              "      --hover-bg-color: #E2EBFA;\n",
              "      --hover-fill-color: #174EA6;\n",
              "      --disabled-fill-color: #AAA;\n",
              "      --disabled-bg-color: #DDD;\n",
              "  }\n",
              "\n",
              "  [theme=dark] .colab-df-quickchart {\n",
              "      --bg-color: #3B4455;\n",
              "      --fill-color: #D2E3FC;\n",
              "      --hover-bg-color: #434B5C;\n",
              "      --hover-fill-color: #FFFFFF;\n",
              "      --disabled-bg-color: #3B4455;\n",
              "      --disabled-fill-color: #666;\n",
              "  }\n",
              "\n",
              "  .colab-df-quickchart {\n",
              "    background-color: var(--bg-color);\n",
              "    border: none;\n",
              "    border-radius: 50%;\n",
              "    cursor: pointer;\n",
              "    display: none;\n",
              "    fill: var(--fill-color);\n",
              "    height: 32px;\n",
              "    padding: 0;\n",
              "    width: 32px;\n",
              "  }\n",
              "\n",
              "  .colab-df-quickchart:hover {\n",
              "    background-color: var(--hover-bg-color);\n",
              "    box-shadow: 0 1px 2px rgba(60, 64, 67, 0.3), 0 1px 3px 1px rgba(60, 64, 67, 0.15);\n",
              "    fill: var(--button-hover-fill-color);\n",
              "  }\n",
              "\n",
              "  .colab-df-quickchart-complete:disabled,\n",
              "  .colab-df-quickchart-complete:disabled:hover {\n",
              "    background-color: var(--disabled-bg-color);\n",
              "    fill: var(--disabled-fill-color);\n",
              "    box-shadow: none;\n",
              "  }\n",
              "\n",
              "  .colab-df-spinner {\n",
              "    border: 2px solid var(--fill-color);\n",
              "    border-color: transparent;\n",
              "    border-bottom-color: var(--fill-color);\n",
              "    animation:\n",
              "      spin 1s steps(1) infinite;\n",
              "  }\n",
              "\n",
              "  @keyframes spin {\n",
              "    0% {\n",
              "      border-color: transparent;\n",
              "      border-bottom-color: var(--fill-color);\n",
              "      border-left-color: var(--fill-color);\n",
              "    }\n",
              "    20% {\n",
              "      border-color: transparent;\n",
              "      border-left-color: var(--fill-color);\n",
              "      border-top-color: var(--fill-color);\n",
              "    }\n",
              "    30% {\n",
              "      border-color: transparent;\n",
              "      border-left-color: var(--fill-color);\n",
              "      border-top-color: var(--fill-color);\n",
              "      border-right-color: var(--fill-color);\n",
              "    }\n",
              "    40% {\n",
              "      border-color: transparent;\n",
              "      border-right-color: var(--fill-color);\n",
              "      border-top-color: var(--fill-color);\n",
              "    }\n",
              "    60% {\n",
              "      border-color: transparent;\n",
              "      border-right-color: var(--fill-color);\n",
              "    }\n",
              "    80% {\n",
              "      border-color: transparent;\n",
              "      border-right-color: var(--fill-color);\n",
              "      border-bottom-color: var(--fill-color);\n",
              "    }\n",
              "    90% {\n",
              "      border-color: transparent;\n",
              "      border-bottom-color: var(--fill-color);\n",
              "    }\n",
              "  }\n",
              "</style>\n",
              "\n",
              "  <script>\n",
              "    async function quickchart(key) {\n",
              "      const quickchartButtonEl =\n",
              "        document.querySelector('#' + key + ' button');\n",
              "      quickchartButtonEl.disabled = true;  // To prevent multiple clicks.\n",
              "      quickchartButtonEl.classList.add('colab-df-spinner');\n",
              "      try {\n",
              "        const charts = await google.colab.kernel.invokeFunction(\n",
              "            'suggestCharts', [key], {});\n",
              "      } catch (error) {\n",
              "        console.error('Error during call to suggestCharts:', error);\n",
              "      }\n",
              "      quickchartButtonEl.classList.remove('colab-df-spinner');\n",
              "      quickchartButtonEl.classList.add('colab-df-quickchart-complete');\n",
              "    }\n",
              "    (() => {\n",
              "      let quickchartButtonEl =\n",
              "        document.querySelector('#df-70f83d42-4fa1-4320-840f-329d4e90f2f0 button');\n",
              "      quickchartButtonEl.style.display =\n",
              "        google.colab.kernel.accessAllowed ? 'block' : 'none';\n",
              "    })();\n",
              "  </script>\n",
              "</div>\n",
              "    </div>\n",
              "  </div>\n"
            ]
          },
          "metadata": {},
          "execution_count": 50
        }
      ]
    },
    {
      "cell_type": "code",
      "source": [
        "# Calculate mean and standard deviation\n",
        "\n",
        "mean_energy = np.mean(coeff_2)\n",
        "std_energy = np.std(coeff_2)\n",
        "# Calculate Z-scores\n",
        "z_scores = [(energy - mean_energy) / std_energy for energy in coeff_2]\n",
        "\n",
        "# Normalize the energies_faulty array\n",
        "normalized_energies_faulty = z_scores"
      ],
      "metadata": {
        "id": "NgksNGRBS4-y"
      },
      "execution_count": 20,
      "outputs": []
    },
    {
      "cell_type": "code",
      "source": [
        "\n",
        "mean_energy = np.mean(coeff_1)\n",
        "std_energy = np.std(coeff_1)\n",
        "\n",
        "# Calculate Z-scores\n",
        "z_scores = [(energy - mean_energy) / std_energy for energy in coeff_1]\n",
        "\n",
        "# Normalize the energies_healty array\n",
        "normalized_energies_healty = z_scores\n"
      ],
      "metadata": {
        "id": "e4xjFZ3-tuvz"
      },
      "execution_count": 21,
      "outputs": []
    },
    {
      "cell_type": "code",
      "source": [
        "coeff_1"
      ],
      "metadata": {
        "colab": {
          "base_uri": "https://localhost:8080/"
        },
        "id": "alvT32MUFthM",
        "outputId": "3354164a-645e-4cf2-a738-f06d194d79ab"
      },
      "execution_count": 41,
      "outputs": [
        {
          "output_type": "execute_result",
          "data": {
            "text/plain": [
              "array([1.74566402e+02, 2.56229295e-01, 1.34699222e-01, 7.33712765e-02,\n",
              "       8.78242847e-02, 1.57907642e-01, 4.13530350e+01, 1.91671217e+02,\n",
              "       3.19882363e+02, 2.12629328e+02, 2.02346871e+02, 6.00483111e+02,\n",
              "       4.74347942e+02, 3.88858148e+00])"
            ]
          },
          "metadata": {},
          "execution_count": 41
        }
      ]
    },
    {
      "cell_type": "code",
      "source": [
        "df = pd.DataFrame({'Nivel de energia rodamiento sano normalizado ':  normalized_energies_healty, 'Nivel de energia rodamiento bajo falla normalziado': normalized_energies_faulty})\n",
        "df"
      ],
      "metadata": {
        "colab": {
          "base_uri": "https://localhost:8080/",
          "height": 488
        },
        "id": "yMH2Y8LQuR9L",
        "outputId": "daa67570-7082-4d94-bba2-1d53d284c22e"
      },
      "execution_count": 22,
      "outputs": [
        {
          "output_type": "execute_result",
          "data": {
            "text/plain": [
              "    Nivel de energia rodamiento sano normalizado   \\\n",
              "0                                        0.084747   \n",
              "1                                       -0.846621   \n",
              "2                                       -0.847271   \n",
              "3                                       -0.847598   \n",
              "4                                       -0.847521   \n",
              "5                                       -0.847147   \n",
              "6                                       -0.627034   \n",
              "7                                        0.176141   \n",
              "8                                        0.861194   \n",
              "9                                        0.288123   \n",
              "10                                       0.233182   \n",
              "11                                       2.360490   \n",
              "12                                       1.686529   \n",
              "13                                      -0.827213   \n",
              "\n",
              "    Nivel de energia rodamiento bajo falla normalziado  \n",
              "0                                            0.265524   \n",
              "1                                           -0.511488   \n",
              "2                                           -0.514932   \n",
              "3                                           -0.517224   \n",
              "4                                           -0.518553   \n",
              "5                                           -0.517777   \n",
              "6                                           -0.491252   \n",
              "7                                           -0.077451   \n",
              "8                                           -0.040711   \n",
              "9                                           -0.351761   \n",
              "10                                           3.267799   \n",
              "11                                           1.018028   \n",
              "12                                          -0.491919   \n",
              "13                                          -0.518282   "
            ],
            "text/html": [
              "\n",
              "  <div id=\"df-3558ec59-4bf8-4d3b-a6ad-a03836512c35\" class=\"colab-df-container\">\n",
              "    <div>\n",
              "<style scoped>\n",
              "    .dataframe tbody tr th:only-of-type {\n",
              "        vertical-align: middle;\n",
              "    }\n",
              "\n",
              "    .dataframe tbody tr th {\n",
              "        vertical-align: top;\n",
              "    }\n",
              "\n",
              "    .dataframe thead th {\n",
              "        text-align: right;\n",
              "    }\n",
              "</style>\n",
              "<table border=\"1\" class=\"dataframe\">\n",
              "  <thead>\n",
              "    <tr style=\"text-align: right;\">\n",
              "      <th></th>\n",
              "      <th>Nivel de energia rodamiento sano normalizado</th>\n",
              "      <th>Nivel de energia rodamiento bajo falla normalziado</th>\n",
              "    </tr>\n",
              "  </thead>\n",
              "  <tbody>\n",
              "    <tr>\n",
              "      <th>0</th>\n",
              "      <td>0.084747</td>\n",
              "      <td>0.265524</td>\n",
              "    </tr>\n",
              "    <tr>\n",
              "      <th>1</th>\n",
              "      <td>-0.846621</td>\n",
              "      <td>-0.511488</td>\n",
              "    </tr>\n",
              "    <tr>\n",
              "      <th>2</th>\n",
              "      <td>-0.847271</td>\n",
              "      <td>-0.514932</td>\n",
              "    </tr>\n",
              "    <tr>\n",
              "      <th>3</th>\n",
              "      <td>-0.847598</td>\n",
              "      <td>-0.517224</td>\n",
              "    </tr>\n",
              "    <tr>\n",
              "      <th>4</th>\n",
              "      <td>-0.847521</td>\n",
              "      <td>-0.518553</td>\n",
              "    </tr>\n",
              "    <tr>\n",
              "      <th>5</th>\n",
              "      <td>-0.847147</td>\n",
              "      <td>-0.517777</td>\n",
              "    </tr>\n",
              "    <tr>\n",
              "      <th>6</th>\n",
              "      <td>-0.627034</td>\n",
              "      <td>-0.491252</td>\n",
              "    </tr>\n",
              "    <tr>\n",
              "      <th>7</th>\n",
              "      <td>0.176141</td>\n",
              "      <td>-0.077451</td>\n",
              "    </tr>\n",
              "    <tr>\n",
              "      <th>8</th>\n",
              "      <td>0.861194</td>\n",
              "      <td>-0.040711</td>\n",
              "    </tr>\n",
              "    <tr>\n",
              "      <th>9</th>\n",
              "      <td>0.288123</td>\n",
              "      <td>-0.351761</td>\n",
              "    </tr>\n",
              "    <tr>\n",
              "      <th>10</th>\n",
              "      <td>0.233182</td>\n",
              "      <td>3.267799</td>\n",
              "    </tr>\n",
              "    <tr>\n",
              "      <th>11</th>\n",
              "      <td>2.360490</td>\n",
              "      <td>1.018028</td>\n",
              "    </tr>\n",
              "    <tr>\n",
              "      <th>12</th>\n",
              "      <td>1.686529</td>\n",
              "      <td>-0.491919</td>\n",
              "    </tr>\n",
              "    <tr>\n",
              "      <th>13</th>\n",
              "      <td>-0.827213</td>\n",
              "      <td>-0.518282</td>\n",
              "    </tr>\n",
              "  </tbody>\n",
              "</table>\n",
              "</div>\n",
              "    <div class=\"colab-df-buttons\">\n",
              "\n",
              "  <div class=\"colab-df-container\">\n",
              "    <button class=\"colab-df-convert\" onclick=\"convertToInteractive('df-3558ec59-4bf8-4d3b-a6ad-a03836512c35')\"\n",
              "            title=\"Convert this dataframe to an interactive table.\"\n",
              "            style=\"display:none;\">\n",
              "\n",
              "  <svg xmlns=\"http://www.w3.org/2000/svg\" height=\"24px\" viewBox=\"0 -960 960 960\">\n",
              "    <path d=\"M120-120v-720h720v720H120Zm60-500h600v-160H180v160Zm220 220h160v-160H400v160Zm0 220h160v-160H400v160ZM180-400h160v-160H180v160Zm440 0h160v-160H620v160ZM180-180h160v-160H180v160Zm440 0h160v-160H620v160Z\"/>\n",
              "  </svg>\n",
              "    </button>\n",
              "\n",
              "  <style>\n",
              "    .colab-df-container {\n",
              "      display:flex;\n",
              "      gap: 12px;\n",
              "    }\n",
              "\n",
              "    .colab-df-convert {\n",
              "      background-color: #E8F0FE;\n",
              "      border: none;\n",
              "      border-radius: 50%;\n",
              "      cursor: pointer;\n",
              "      display: none;\n",
              "      fill: #1967D2;\n",
              "      height: 32px;\n",
              "      padding: 0 0 0 0;\n",
              "      width: 32px;\n",
              "    }\n",
              "\n",
              "    .colab-df-convert:hover {\n",
              "      background-color: #E2EBFA;\n",
              "      box-shadow: 0px 1px 2px rgba(60, 64, 67, 0.3), 0px 1px 3px 1px rgba(60, 64, 67, 0.15);\n",
              "      fill: #174EA6;\n",
              "    }\n",
              "\n",
              "    .colab-df-buttons div {\n",
              "      margin-bottom: 4px;\n",
              "    }\n",
              "\n",
              "    [theme=dark] .colab-df-convert {\n",
              "      background-color: #3B4455;\n",
              "      fill: #D2E3FC;\n",
              "    }\n",
              "\n",
              "    [theme=dark] .colab-df-convert:hover {\n",
              "      background-color: #434B5C;\n",
              "      box-shadow: 0px 1px 3px 1px rgba(0, 0, 0, 0.15);\n",
              "      filter: drop-shadow(0px 1px 2px rgba(0, 0, 0, 0.3));\n",
              "      fill: #FFFFFF;\n",
              "    }\n",
              "  </style>\n",
              "\n",
              "    <script>\n",
              "      const buttonEl =\n",
              "        document.querySelector('#df-3558ec59-4bf8-4d3b-a6ad-a03836512c35 button.colab-df-convert');\n",
              "      buttonEl.style.display =\n",
              "        google.colab.kernel.accessAllowed ? 'block' : 'none';\n",
              "\n",
              "      async function convertToInteractive(key) {\n",
              "        const element = document.querySelector('#df-3558ec59-4bf8-4d3b-a6ad-a03836512c35');\n",
              "        const dataTable =\n",
              "          await google.colab.kernel.invokeFunction('convertToInteractive',\n",
              "                                                    [key], {});\n",
              "        if (!dataTable) return;\n",
              "\n",
              "        const docLinkHtml = 'Like what you see? Visit the ' +\n",
              "          '<a target=\"_blank\" href=https://colab.research.google.com/notebooks/data_table.ipynb>data table notebook</a>'\n",
              "          + ' to learn more about interactive tables.';\n",
              "        element.innerHTML = '';\n",
              "        dataTable['output_type'] = 'display_data';\n",
              "        await google.colab.output.renderOutput(dataTable, element);\n",
              "        const docLink = document.createElement('div');\n",
              "        docLink.innerHTML = docLinkHtml;\n",
              "        element.appendChild(docLink);\n",
              "      }\n",
              "    </script>\n",
              "  </div>\n",
              "\n",
              "\n",
              "<div id=\"df-66b74316-3bb8-425d-95db-5c46812477e5\">\n",
              "  <button class=\"colab-df-quickchart\" onclick=\"quickchart('df-66b74316-3bb8-425d-95db-5c46812477e5')\"\n",
              "            title=\"Suggest charts.\"\n",
              "            style=\"display:none;\">\n",
              "\n",
              "<svg xmlns=\"http://www.w3.org/2000/svg\" height=\"24px\"viewBox=\"0 0 24 24\"\n",
              "     width=\"24px\">\n",
              "    <g>\n",
              "        <path d=\"M19 3H5c-1.1 0-2 .9-2 2v14c0 1.1.9 2 2 2h14c1.1 0 2-.9 2-2V5c0-1.1-.9-2-2-2zM9 17H7v-7h2v7zm4 0h-2V7h2v10zm4 0h-2v-4h2v4z\"/>\n",
              "    </g>\n",
              "</svg>\n",
              "  </button>\n",
              "\n",
              "<style>\n",
              "  .colab-df-quickchart {\n",
              "      --bg-color: #E8F0FE;\n",
              "      --fill-color: #1967D2;\n",
              "      --hover-bg-color: #E2EBFA;\n",
              "      --hover-fill-color: #174EA6;\n",
              "      --disabled-fill-color: #AAA;\n",
              "      --disabled-bg-color: #DDD;\n",
              "  }\n",
              "\n",
              "  [theme=dark] .colab-df-quickchart {\n",
              "      --bg-color: #3B4455;\n",
              "      --fill-color: #D2E3FC;\n",
              "      --hover-bg-color: #434B5C;\n",
              "      --hover-fill-color: #FFFFFF;\n",
              "      --disabled-bg-color: #3B4455;\n",
              "      --disabled-fill-color: #666;\n",
              "  }\n",
              "\n",
              "  .colab-df-quickchart {\n",
              "    background-color: var(--bg-color);\n",
              "    border: none;\n",
              "    border-radius: 50%;\n",
              "    cursor: pointer;\n",
              "    display: none;\n",
              "    fill: var(--fill-color);\n",
              "    height: 32px;\n",
              "    padding: 0;\n",
              "    width: 32px;\n",
              "  }\n",
              "\n",
              "  .colab-df-quickchart:hover {\n",
              "    background-color: var(--hover-bg-color);\n",
              "    box-shadow: 0 1px 2px rgba(60, 64, 67, 0.3), 0 1px 3px 1px rgba(60, 64, 67, 0.15);\n",
              "    fill: var(--button-hover-fill-color);\n",
              "  }\n",
              "\n",
              "  .colab-df-quickchart-complete:disabled,\n",
              "  .colab-df-quickchart-complete:disabled:hover {\n",
              "    background-color: var(--disabled-bg-color);\n",
              "    fill: var(--disabled-fill-color);\n",
              "    box-shadow: none;\n",
              "  }\n",
              "\n",
              "  .colab-df-spinner {\n",
              "    border: 2px solid var(--fill-color);\n",
              "    border-color: transparent;\n",
              "    border-bottom-color: var(--fill-color);\n",
              "    animation:\n",
              "      spin 1s steps(1) infinite;\n",
              "  }\n",
              "\n",
              "  @keyframes spin {\n",
              "    0% {\n",
              "      border-color: transparent;\n",
              "      border-bottom-color: var(--fill-color);\n",
              "      border-left-color: var(--fill-color);\n",
              "    }\n",
              "    20% {\n",
              "      border-color: transparent;\n",
              "      border-left-color: var(--fill-color);\n",
              "      border-top-color: var(--fill-color);\n",
              "    }\n",
              "    30% {\n",
              "      border-color: transparent;\n",
              "      border-left-color: var(--fill-color);\n",
              "      border-top-color: var(--fill-color);\n",
              "      border-right-color: var(--fill-color);\n",
              "    }\n",
              "    40% {\n",
              "      border-color: transparent;\n",
              "      border-right-color: var(--fill-color);\n",
              "      border-top-color: var(--fill-color);\n",
              "    }\n",
              "    60% {\n",
              "      border-color: transparent;\n",
              "      border-right-color: var(--fill-color);\n",
              "    }\n",
              "    80% {\n",
              "      border-color: transparent;\n",
              "      border-right-color: var(--fill-color);\n",
              "      border-bottom-color: var(--fill-color);\n",
              "    }\n",
              "    90% {\n",
              "      border-color: transparent;\n",
              "      border-bottom-color: var(--fill-color);\n",
              "    }\n",
              "  }\n",
              "</style>\n",
              "\n",
              "  <script>\n",
              "    async function quickchart(key) {\n",
              "      const quickchartButtonEl =\n",
              "        document.querySelector('#' + key + ' button');\n",
              "      quickchartButtonEl.disabled = true;  // To prevent multiple clicks.\n",
              "      quickchartButtonEl.classList.add('colab-df-spinner');\n",
              "      try {\n",
              "        const charts = await google.colab.kernel.invokeFunction(\n",
              "            'suggestCharts', [key], {});\n",
              "      } catch (error) {\n",
              "        console.error('Error during call to suggestCharts:', error);\n",
              "      }\n",
              "      quickchartButtonEl.classList.remove('colab-df-spinner');\n",
              "      quickchartButtonEl.classList.add('colab-df-quickchart-complete');\n",
              "    }\n",
              "    (() => {\n",
              "      let quickchartButtonEl =\n",
              "        document.querySelector('#df-66b74316-3bb8-425d-95db-5c46812477e5 button');\n",
              "      quickchartButtonEl.style.display =\n",
              "        google.colab.kernel.accessAllowed ? 'block' : 'none';\n",
              "    })();\n",
              "  </script>\n",
              "</div>\n",
              "    </div>\n",
              "  </div>\n"
            ]
          },
          "metadata": {},
          "execution_count": 22
        }
      ]
    },
    {
      "cell_type": "code",
      "source": [
        "## funcion para calcular los coeficientes normalizados de todo un set\n",
        "def get_data(file_path, wavelet, level):\n",
        "    # Get the data from the H5PY file\n",
        "    data = get_h5py_data(file_path)\n",
        "\n",
        "    # Get the order of experiments (sorted keys)\n",
        "    experiment_order = sorted(data.keys())\n",
        "\n",
        "    # Create an empty list to store the coefficients\n",
        "    coefficients_list = []\n",
        "\n",
        "    # Process each experiment and calculate coefficients\n",
        "    for experiment in experiment_order:\n",
        "        # Reshape the data for the current experiment\n",
        "        reshaped_data = data[experiment][list(data[experiment].keys())[1]].reshape(-1)\n",
        "\n",
        "        # Calculate CWT coefficients for the experiment\n",
        "        coefficients = cwt_maker(reshaped_data, wavelet, level)\n",
        "        coefficientes_normalized=normalization_from_coeffs(coefficients)\n",
        "        # Append the coefficients to the list\n",
        "        coefficients_list.append(coefficientes_normalized)\n",
        "\n",
        "    return coefficients_list"
      ],
      "metadata": {
        "id": "jrroLlDW-_-G"
      },
      "execution_count": 46,
      "outputs": []
    },
    {
      "cell_type": "code",
      "source": [
        "len(data_outter.keys())"
      ],
      "metadata": {
        "colab": {
          "base_uri": "https://localhost:8080/"
        },
        "id": "JO0vCPll_C6V",
        "outputId": "389c7aec-e283-4c18-d8e9-7008ebffc0f1"
      },
      "execution_count": 50,
      "outputs": [
        {
          "output_type": "execute_result",
          "data": {
            "text/plain": [
              "17"
            ]
          },
          "metadata": {},
          "execution_count": 50
        }
      ]
    },
    {
      "cell_type": "code",
      "source": [
        " experiment_order = sorted(data_outter.keys())\n",
        " experiment_order"
      ],
      "metadata": {
        "colab": {
          "base_uri": "https://localhost:8080/"
        },
        "id": "zvPTLQezBn1Q",
        "outputId": "30fc9ab3-792e-4d1b-87a0-812727a3ee9b"
      },
      "execution_count": 52,
      "outputs": [
        {
          "output_type": "execute_result",
          "data": {
            "text/plain": [
              "['135.mat',\n",
              " '136.mat',\n",
              " '137.mat',\n",
              " '138.mat',\n",
              " '190.mat',\n",
              " '191.mat',\n",
              " '192.mat',\n",
              " '201.mat',\n",
              " '202.mat',\n",
              " '204.mat',\n",
              " '226.mat',\n",
              " '227.mat',\n",
              " '228.mat',\n",
              " '238.mat',\n",
              " '239.mat',\n",
              " '240.mat',\n",
              " '241.mat']"
            ]
          },
          "metadata": {},
          "execution_count": 52
        }
      ]
    },
    {
      "cell_type": "code",
      "source": [
        " data_outter[experiment_order[0]][list(data_outter[experiment_order[0]].keys())[1]]"
      ],
      "metadata": {
        "colab": {
          "base_uri": "https://localhost:8080/"
        },
        "id": "XcFG1j10Bqhm",
        "outputId": "56f3b3ea-24d6-435f-d050-6968ee7bbe5b"
      },
      "execution_count": 37,
      "outputs": [
        {
          "output_type": "execute_result",
          "data": {
            "text/plain": [
              "array([[ 0.89351067],\n",
              "       [ 0.58844   ],\n",
              "       [ 0.15441333],\n",
              "       ...,\n",
              "       [-0.07094667],\n",
              "       [-0.117688  ],\n",
              "       [-0.14439733]])"
            ]
          },
          "metadata": {},
          "execution_count": 37
        }
      ]
    },
    {
      "cell_type": "code",
      "source": [
        "data_outter[experiment_order[0]]['X135_DE_time']"
      ],
      "metadata": {
        "colab": {
          "base_uri": "https://localhost:8080/"
        },
        "id": "cTdf5p7yDSyZ",
        "outputId": "1f434cfd-fd70-4f84-9cc0-7b797a26667e"
      },
      "execution_count": 35,
      "outputs": [
        {
          "output_type": "execute_result",
          "data": {
            "text/plain": [
              "array([[ 0.89351067],\n",
              "       [ 0.58844   ],\n",
              "       [ 0.15441333],\n",
              "       ...,\n",
              "       [-0.07094667],\n",
              "       [-0.117688  ],\n",
              "       [-0.14439733]])"
            ]
          },
          "metadata": {},
          "execution_count": 35
        }
      ]
    },
    {
      "cell_type": "code",
      "source": [
        "file_path= \"/content/drive/MyDrive/tesis USB /case west reserve university/outter.h5\"\n",
        "normalized_outter= get_data(file_path, 'db38', level)"
      ],
      "metadata": {
        "colab": {
          "base_uri": "https://localhost:8080/"
        },
        "id": "DO8v-NqcHHCZ",
        "outputId": "803ef3e3-002a-4ef1-d632-3139092c0652"
      },
      "execution_count": 48,
      "outputs": [
        {
          "output_type": "stream",
          "name": "stderr",
          "text": [
            "/usr/local/lib/python3.10/dist-packages/pywt/_multilevel.py:43: UserWarning: Level value of 13 is too high: all coefficients will experience boundary effects.\n",
            "  warnings.warn(\n"
          ]
        },
        {
          "output_type": "stream",
          "name": "stdout",
          "text": [
            "13\n",
            "13\n",
            "13\n",
            "13\n",
            "13\n",
            "13\n",
            "13\n",
            "13\n",
            "13\n",
            "13\n",
            "13\n",
            "13\n",
            "13\n",
            "13\n",
            "13\n",
            "13\n",
            "13\n"
          ]
        }
      ]
    },
    {
      "cell_type": "code",
      "source": [
        "normalized_outter[4]==df['Nivel de energia rodamiento bajo falla normalziado']"
      ],
      "metadata": {
        "colab": {
          "base_uri": "https://localhost:8080/"
        },
        "id": "oWIOABcsHuhR",
        "outputId": "b8fff9ef-df99-47e0-97e3-34480e07ae9f"
      },
      "execution_count": 54,
      "outputs": [
        {
          "output_type": "execute_result",
          "data": {
            "text/plain": [
              "0     True\n",
              "1     True\n",
              "2     True\n",
              "3     True\n",
              "4     True\n",
              "5     True\n",
              "6     True\n",
              "7     True\n",
              "8     True\n",
              "9     True\n",
              "10    True\n",
              "11    True\n",
              "12    True\n",
              "13    True\n",
              "Name: Nivel de energia rodamiento bajo falla normalziado, dtype: bool"
            ]
          },
          "metadata": {},
          "execution_count": 54
        }
      ]
    }
  ]
}