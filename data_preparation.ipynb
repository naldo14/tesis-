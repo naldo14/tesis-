{
  "cells": [
    {
      "cell_type": "markdown",
      "metadata": {
        "id": "view-in-github",
        "colab_type": "text"
      },
      "source": [
        "<a href=\"https://colab.research.google.com/github/naldo14/tesis-/blob/main/data_preparation.ipynb\" target=\"_parent\"><img src=\"https://colab.research.google.com/assets/colab-badge.svg\" alt=\"Open In Colab\"/></a>"
      ]
    },
    {
      "cell_type": "code",
      "execution_count": 1,
      "id": "34945ccd-5325-4038-8d26-5bd2e2a85d7d",
      "metadata": {
        "id": "34945ccd-5325-4038-8d26-5bd2e2a85d7d"
      },
      "outputs": [],
      "source": [
        "import h5py #librerua para crear archivos , h5py \n",
        "import sys"
      ]
    },
    {
      "cell_type": "code",
      "source": [
        "#funcion para obtener las keys de los archivos .h5py \n",
        "\n",
        "def print_h5py_keys(file_path):\n",
        "    with h5py.File(file_path, 'r') as h5_file:\n",
        "        print(\"Keys in the h5py file:\")\n",
        "        for key in h5_file.keys():\n",
        "            print(key)\n",
        "\n"
      ],
      "metadata": {
        "id": "uqMECOwYUQIT"
      },
      "id": "uqMECOwYUQIT",
      "execution_count": 2,
      "outputs": []
    },
    {
      "cell_type": "code",
      "source": [
        "#hacer el mounted de mi cuenta drive \n",
        "from google.colab import drive\n",
        "drive.mount('/content/drive') "
      ],
      "metadata": {
        "colab": {
          "base_uri": "https://localhost:8080/"
        },
        "id": "d0NqtyJs3e_n",
        "outputId": "ba221f46-1251-40b1-e73c-114e4be5fa03"
      },
      "id": "d0NqtyJs3e_n",
      "execution_count": 3,
      "outputs": [
        {
          "output_type": "stream",
          "name": "stdout",
          "text": [
            "Mounted at /content/drive\n"
          ]
        }
      ]
    },
    {
      "cell_type": "code",
      "source": [
        "sys.path.insert(0,\"/content/drive/My Drive/Colab Notebooks\")\n",
        "import unzipmodule\n",
        "import graficador"
      ],
      "metadata": {
        "id": "Yst40w9VI8A0"
      },
      "id": "Yst40w9VI8A0",
      "execution_count": 4,
      "outputs": []
    },
    {
      "cell_type": "code",
      "source": [
        "#celda para crear la lista con los paths de mi data \n",
        "paths=[] #creo la lista de pahts \n",
        "names=[] #creo la lista de nombres \n",
        "output_file=[]\n",
        "paths.append('/content/drive/MyDrive/tesis USB /Vibration, acoustic, temperature, and motor current dataset of rotating machine under varying operating conditions for fault diagnosis (korea)/vibration_1')\n",
        "paths.append('/content/drive/MyDrive/tesis USB /Vibration, acoustic, temperature, and motor current dataset of rotating machine under varying operating conditions for fault diagnosis (korea)/part1')\n",
        "paths.append('/content/drive/MyDrive/tesis USB /Vibration, acoustic, temperature, and motor current dataset of rotating machine under varying operating conditions for fault diagnosis (korea)/part2')\n",
        "paths.append('/content/drive/MyDrive/tesis USB /Vibration, acoustic, temperature, and motor current dataset of rotating machine under varying operating conditions for fault diagnosis (korea)/part3')\n",
        "names.append('vibration')\n",
        "names.append('part1')\n",
        "names.append('part2')\n",
        "names.append('part3')\n",
        "output_file.append('/content/drive/MyDrive/tesis USB /Vibration, acoustic, temperature, and motor current dataset of rotating machine under varying operating conditions for fault diagnosis (korea)/vibration_1/vibration')\n",
        "output_file.append('/content/drive/MyDrive/tesis USB /Vibration, acoustic, temperature, and motor current dataset of rotating machine under varying operating conditions for fault diagnosis (korea)/part1/part1')\n",
        "output_file.append('/content/drive/MyDrive/tesis USB /Vibration, acoustic, temperature, and motor current dataset of rotating machine under varying operating conditions for fault diagnosis (korea)/part2/part2')\n",
        "output_file.append('/content/drive/MyDrive/tesis USB /Vibration, acoustic, temperature, and motor current dataset of rotating machine under varying operating conditions for fault diagnosis (korea)/part3/part3')\n"
      ],
      "metadata": {
        "id": "-ToCAeE_1hll"
      },
      "id": "-ToCAeE_1hll",
      "execution_count": 5,
      "outputs": []
    },
    {
      "cell_type": "markdown",
      "source": [
        "Trabajo con la data almacenada en .vibration, la cual es data a carga variable y velocidad constante "
      ],
      "metadata": {
        "id": "A8DJCb0qUWOg"
      },
      "id": "A8DJCb0qUWOg"
    },
    {
      "cell_type": "code",
      "source": [
        "# unizp de vibration_1 (colocar los unzip de todas la data juntos )\n",
        "unzipmodule.unzip_1(paths[0],names[0]+\".zip\")\n",
        "#creacion de los h5py de vibration 1 \n",
        "unzipmodule.zip_a(paths[0] ,output_file[0])\n",
        "#eliminacion de los .mat para ahorrar espacio \n",
        "unzipmodule.delete_files(paths[0] ,'.mat')"
      ],
      "metadata": {
        "id": "XoxletWGsz3Q"
      },
      "id": "XoxletWGsz3Q",
      "execution_count": null,
      "outputs": []
    },
    {
      "cell_type": "markdown",
      "source": [
        "Trabajo con la data almacenada en .part1, la cual es data a velocidad variable (alguna fue sampleada con un vector de tiempo distinto , recordar)"
      ],
      "metadata": {
        "id": "whflD3c5UxjT"
      },
      "id": "whflD3c5UxjT"
    },
    {
      "cell_type": "code",
      "source": [
        "# unizp de part1  (colocar los unzip de todas la data juntos )\n",
        "unzipmodule.unzip_1(paths[1],names[1]+\".zip\")\n",
        "#creacion de los h5py de part1   \n",
        "unzipmodule.zip_a(paths[1] ,output_file[1])\n",
        "unzipmodule.delete_files(paths[1] ,'.csv')"
      ],
      "metadata": {
        "id": "-BeON8AO0LGq"
      },
      "id": "-BeON8AO0LGq",
      "execution_count": null,
      "outputs": []
    },
    {
      "cell_type": "markdown",
      "source": [
        "Trabajo con la data almacenada en .part2, la cual es data a velocidad variable (alguna fue sampleada con un vector de tiempo distinto , recordar"
      ],
      "metadata": {
        "id": "suZN_KTsnIvY"
      },
      "id": "suZN_KTsnIvY"
    },
    {
      "cell_type": "code",
      "source": [
        "# unizp de part2  (colocar los unzip de todas la data juntos )\n",
        "unzipmodule.unzip_1(paths[2],names[2]+\".zip\")\n",
        "#creacion de los h5py de part2  \n",
        "unzipmodule.zip_a(paths[2] ,output_file[2])\n",
        "unzipmodule.delete_files(paths[2] ,'.csv')"
      ],
      "metadata": {
        "id": "ihSTJHi4nChr"
      },
      "id": "ihSTJHi4nChr",
      "execution_count": null,
      "outputs": []
    },
    {
      "cell_type": "markdown",
      "source": [
        "Trabajo con la data almacenada en .part3, la cual es data a velocidad variable (alguna fue sampleada con un vector de tiempo distinto , recordar"
      ],
      "metadata": {
        "id": "0WCaUzpOnU1G"
      },
      "id": "0WCaUzpOnU1G"
    },
    {
      "cell_type": "code",
      "source": [
        "# unizp de part3  (colocar los unzip de todas la data juntos )\n",
        "unzipmodule.unzip_1(paths[3],names[3]+\".zip\")\n",
        "#creacion de los h5py de part3\n",
        "unzipmodule.zip_a(paths[3] ,output_file[3])\n",
        "unzipmodule.delete_files(paths[3] ,'.csv')"
      ],
      "metadata": {
        "id": "VPuD6nAGnW4i"
      },
      "id": "VPuD6nAGnW4i",
      "execution_count": null,
      "outputs": []
    },
    {
      "cell_type": "code",
      "source": [
        "\n",
        "# graficos  a carga variable \n",
        "h5py_file =output_file[0] \n",
        "graficador.plot_data_from_h5py(h5py_file)"
      ],
      "metadata": {
        "id": "YDsHPAgf5h51"
      },
      "id": "YDsHPAgf5h51",
      "execution_count": null,
      "outputs": []
    },
    {
      "cell_type": "code",
      "source": [
        "# graficos  a velocidad variab;e \n",
        "h5py_file =output_file[1] \n",
        "graficador.plot_data_from_h5py(h5py_file)\n",
        "# print_h5py_keys(h5py_file)\n"
      ],
      "metadata": {
        "id": "q4rFjkAj7o5L"
      },
      "id": "q4rFjkAj7o5L",
      "execution_count": null,
      "outputs": []
    }
  ],
  "metadata": {
    "kernelspec": {
      "display_name": "Python 3 (ipykernel)",
      "language": "python",
      "name": "python3"
    },
    "language_info": {
      "codemirror_mode": {
        "name": "ipython",
        "version": 3
      },
      "file_extension": ".py",
      "mimetype": "text/x-python",
      "name": "python",
      "nbconvert_exporter": "python",
      "pygments_lexer": "ipython3",
      "version": "3.10.11"
    },
    "colab": {
      "provenance": [],
      "include_colab_link": true
    }
  },
  "nbformat": 4,
  "nbformat_minor": 5
}