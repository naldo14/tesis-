{
  "cells": [
    {
      "cell_type": "markdown",
      "metadata": {
        "id": "view-in-github",
        "colab_type": "text"
      },
      "source": [
        "<a href=\"https://colab.research.google.com/github/naldo14/tesis-/blob/main/data_preparation.ipynb\" target=\"_parent\"><img src=\"https://colab.research.google.com/assets/colab-badge.svg\" alt=\"Open In Colab\"/></a>"
      ]
    },
    {
      "cell_type": "code",
      "execution_count": 1,
      "id": "34945ccd-5325-4038-8d26-5bd2e2a85d7d",
      "metadata": {
        "id": "34945ccd-5325-4038-8d26-5bd2e2a85d7d"
      },
      "outputs": [],
      "source": [
        "import pandas as pd #libreria pandas para hacer los dataframe\n",
        "# import numpy as np\n",
        "# from scipy.io import loadmat  #libreria para cargar los archivos .mat \n",
        "import matplotlib.pyplot as plt\n",
        "# import os  #libreria para obtener los path \n",
        "# from functools import reduce\n",
        "import plotly.graph_objects as go\n",
        "import h5py #librerua para crear archivos , h5py \n",
        "# import zipfile #libreria para hacer los unzip \n",
        "import sys"
      ]
    },
    {
      "cell_type": "code",
      "source": [
        "#funcion para obtener las keys de los archivos .h5py \n",
        "\n",
        "def print_h5py_keys(file_path):\n",
        "    with h5py.File(file_path, 'r') as h5_file:\n",
        "        print(\"Keys in the h5py file:\")\n",
        "        for key in h5_file.keys():\n",
        "            print(key)\n",
        "\n"
      ],
      "metadata": {
        "id": "uqMECOwYUQIT"
      },
      "id": "uqMECOwYUQIT",
      "execution_count": 13,
      "outputs": []
    },
    {
      "cell_type": "code",
      "source": [
        "\n",
        "def plot_data_from_h5py(h5py_file):\n",
        "    global selected_data, selected_key\n",
        "\n",
        "    with h5py.File(h5py_file, 'r') as h5_file:\n",
        "        # Get the keys (file names) stored in the h5py file\n",
        "        keys = list(h5_file.keys())\n",
        "\n",
        "        # Display the available files to the user\n",
        "        print(\"Available files:\")\n",
        "        for i, key in enumerate(keys):\n",
        "            print(f\"{i+1}. {key}\")\n",
        "\n",
        "        # Ask the user for the file they want to plot\n",
        "        file_index = int(input(\"Enter the index of the file you want to plot: \")) - 1\n",
        "        if file_index < 0 or file_index >= len(keys):\n",
        "            print(\"Invalid file index.\")\n",
        "            return\n",
        "\n",
        "        selected_key = keys[file_index]\n",
        "        selected_data = h5_file[selected_key][:]  # Get the data associated with the selected key\n",
        "\n",
        "        # Ask the user if they want an interactive graph\n",
        "        interactive = input(\"Do you want an interactive graph? (yes/no): \").lower()\n",
        "        \n",
        "        if interactive == 'yes':\n",
        "            print(\"Te odio Eduardo\")\n",
        "\n",
        "            \n",
        "        else:\n",
        "            # Plot the data in separate non-interactive graphs\n",
        "            fig, ax = plt.subplots(4, 1, figsize=(10, 10), sharex=True)\n",
        "\n",
        "            ax[0].plot(selected_data[:, 4], selected_data[:, 0])\n",
        "            ax[0].set_ylabel('g')\n",
        "            ax[0].set_title('Amplitud de las vibraciones en el eje x (housing A) ' + selected_key)\n",
        "\n",
        "            ax[1].plot(selected_data[:, 4], selected_data[:, 1])\n",
        "            ax[1].set_ylabel('g')\n",
        "            ax[1].set_title('Amplitud de las vibraciones en el eje y (housing A) ' + selected_key)\n",
        "\n",
        "            ax[2].plot(selected_data[:, 4], selected_data[:, 2])\n",
        "            ax[2].set_ylabel('g')\n",
        "            ax[2].set_title('Amplitud de las vibraciones en el eje x (housing B) ' + selected_key)\n",
        "\n",
        "            ax[3].plot(selected_data[:, 4], selected_data[:, 3])\n",
        "            ax[3].set_ylabel('g')\n",
        "            ax[3].set_xlabel('[s]')\n",
        "            ax[3].set_title('Amplitud de las vibraciones en el eje y (housing B) ' + selected_key)\n",
        "\n",
        "            plt.tight_layout()\n",
        "            plt.show()\n",
        "\n"
      ],
      "metadata": {
        "id": "KBHOOTIx8Qt8"
      },
      "id": "KBHOOTIx8Qt8",
      "execution_count": 40,
      "outputs": []
    },
    {
      "cell_type": "code",
      "source": [
        "# # funcion para graficar los .mat \n",
        "# def plot_data_from_h5py(h5py_file):\n",
        "#     global selected_data , selected_key\n",
        "\n",
        "#     with h5py.File(h5py_file, 'r') as h5_file:\n",
        "#         # Get the keys (file names) stored in the h5py file\n",
        "#         keys = list(h5_file.keys())\n",
        "\n",
        "#         # Display the available files to the user\n",
        "#         print(\"Available files:\")\n",
        "#         for i, key in enumerate(keys):\n",
        "#             print(f\"{i+1}. {key}\")\n",
        "\n",
        "#         # Ask the user for the file they want to plot\n",
        "#         file_index = int(input(\"Enter the index of the file you want to plot: \")) - 1\n",
        "#         if file_index < 0 or file_index >= len(keys):\n",
        "#             print(\"Invalid file index.\")\n",
        "#             return\n",
        "\n",
        "#         selected_key = keys[file_index]\n",
        "#         selected_data = h5_file[selected_key][:]  # Get the data associated with the selected key\n",
        "# ##############33 graficas \n",
        "#         fig, ax = plt.subplots()\n",
        "#         ax.grid(True)\n",
        "#         line=ax.plot(selected_data[:,4],selected_data[:,0])\n",
        "#         plt.ylabel('g ')\n",
        "#         plt.xlabel('[s]')\n",
        "#         title='Amplitud de las vibraciones en el eje x (housing A)'+selected_key\n",
        "#         ax.set_title(title)\n",
        "#         plt.show()\n",
        "\n",
        "#         fig, ax = plt.subplots()\n",
        "#         ax.grid(True)\n",
        "#         line=ax.plot(selected_data[:,4],selected_data[:,1])\n",
        "#         plt.ylabel('g ')\n",
        "#         plt.xlabel('[s]')\n",
        "#         title='Amplitud de las vibraciones en el eje y (housing A)'+selected_key\n",
        "#         ax.set_title(title)\n",
        "#         plt.show()\n",
        "\n",
        "        \n",
        "#         fig, ax = plt.subplots()\n",
        "#         ax.grid(True)\n",
        "#         line=ax.plot(selected_data[:,4],selected_data[:,2])\n",
        "#         plt.ylabel('g ')\n",
        "#         plt.xlabel('[s]')\n",
        "#         title='Amplitud de las vibraciones en el eje x (housing B)'+selected_key\n",
        "#         ax.set_title(title)\n",
        "#         plt.show()\n",
        "\n",
        "#         fig, ax = plt.subplots()\n",
        "#         ax.grid(True)\n",
        "#         line=ax.plot(selected_data[:,4],selected_data[:,3])\n",
        "#         plt.ylabel('g ')\n",
        "#         plt.xlabel('[s]')\n",
        "#         title='Amplitud de las vibraciones en el eje y (housing B)'+selected_key\n",
        "#         ax.set_title(title)\n",
        "#         plt.show()"
      ],
      "metadata": {
        "id": "V3AX1JNW6AiI"
      },
      "execution_count": 39,
      "outputs": [],
      "id": "V3AX1JNW6AiI"
    },
    {
      "cell_type": "code",
      "source": [
        "#hacer el mounted de mi cuenta drive \n",
        "from google.colab import drive\n",
        "drive.mount('/content/drive') "
      ],
      "metadata": {
        "colab": {
          "base_uri": "https://localhost:8080/"
        },
        "id": "d0NqtyJs3e_n",
        "outputId": "345293ab-d961-419a-a231-16b0d15fb9eb"
      },
      "id": "d0NqtyJs3e_n",
      "execution_count": 11,
      "outputs": [
        {
          "output_type": "stream",
          "name": "stdout",
          "text": [
            "Drive already mounted at /content/drive; to attempt to forcibly remount, call drive.mount(\"/content/drive\", force_remount=True).\n"
          ]
        }
      ]
    },
    {
      "cell_type": "code",
      "source": [
        "sys.path.insert(0,\"/content/drive/My Drive/Colab Notebooks\")\n",
        "import unzipmodule"
      ],
      "metadata": {
        "id": "Yst40w9VI8A0"
      },
      "id": "Yst40w9VI8A0",
      "execution_count": 5,
      "outputs": []
    },
    {
      "cell_type": "code",
      "source": [
        "#celda para crear la lista con los paths de mi data \n",
        "paths=[] #creo la lista de pahts \n",
        "names=[] #creo la lista de nombres \n",
        "output_file=[]\n",
        "paths.append('/content/drive/MyDrive/tesis USB /Vibration, acoustic, temperature, and motor current dataset of rotating machine under varying operating conditions for fault diagnosis (korea)/vibration_1')\n",
        "paths.append('/content/drive/MyDrive/tesis USB /Vibration, acoustic, temperature, and motor current dataset of rotating machine under varying operating conditions for fault diagnosis (korea)/part1')\n",
        "paths.append('/content/drive/MyDrive/tesis USB /Vibration, acoustic, temperature, and motor current dataset of rotating machine under varying operating conditions for fault diagnosis (korea)/part2')\n",
        "paths.append('/content/drive/MyDrive/tesis USB /Vibration, acoustic, temperature, and motor current dataset of rotating machine under varying operating conditions for fault diagnosis (korea)/part3')\n",
        "names.append('vibration')\n",
        "names.append('part1')\n",
        "names.append('part2')\n",
        "names.append('part3')\n",
        "output_file.append('/content/drive/MyDrive/tesis USB /Vibration, acoustic, temperature, and motor current dataset of rotating machine under varying operating conditions for fault diagnosis (korea)/vibration_1/vibration')\n",
        "output_file.append('/content/drive/MyDrive/tesis USB /Vibration, acoustic, temperature, and motor current dataset of rotating machine under varying operating conditions for fault diagnosis (korea)/part1/part1')\n",
        "output_file.append('/content/drive/MyDrive/tesis USB /Vibration, acoustic, temperature, and motor current dataset of rotating machine under varying operating conditions for fault diagnosis (korea)/part2/part2')\n",
        "output_file.append('/content/drive/MyDrive/tesis USB /Vibration, acoustic, temperature, and motor current dataset of rotating machine under varying operating conditions for fault diagnosis (korea)/part3/part3')\n"
      ],
      "metadata": {
        "id": "-ToCAeE_1hll"
      },
      "id": "-ToCAeE_1hll",
      "execution_count": 10,
      "outputs": []
    },
    {
      "cell_type": "markdown",
      "source": [
        "Trabajo con la data almacenada en .vibration, la cual es data a carga variable y velocidad constante "
      ],
      "metadata": {
        "id": "A8DJCb0qUWOg"
      },
      "id": "A8DJCb0qUWOg"
    },
    {
      "cell_type": "code",
      "source": [
        "# unizp de vibration_1 (colocar los unzip de todas la data juntos )\n",
        "unzipmodule.unzip_1(paths[0],names[0]+\".zip\")\n",
        "#creacion de los h5py de vibration 1 \n",
        "unzipmodule.zip_a(paths[0] ,output_file[0])\n",
        "#eliminacion de los .mat para ahorrar espacio \n",
        "unzipmodule.delete_files(paths[0] ,'.mat')"
      ],
      "metadata": {
        "id": "XoxletWGsz3Q"
      },
      "id": "XoxletWGsz3Q",
      "execution_count": null,
      "outputs": []
    },
    {
      "cell_type": "markdown",
      "source": [
        "Trabajo con la data almacenada en .part1, la cual es data a velocidad variable (alguna fue sampleada con un vector de tiempo distinto , recordar)"
      ],
      "metadata": {
        "id": "whflD3c5UxjT"
      },
      "id": "whflD3c5UxjT"
    },
    {
      "cell_type": "code",
      "source": [
        "# unizp de part1  (colocar los unzip de todas la data juntos )\n",
        "unzipmodule.unzip_1(paths[1],names[1]+\".zip\")\n",
        "#creacion de los h5py de part1   \n",
        "unzipmodule.zip_a(paths[1] ,output_file[1])\n",
        "unzipmodule.delete_files(paths[1] ,'.csv')"
      ],
      "metadata": {
        "id": "-BeON8AO0LGq"
      },
      "id": "-BeON8AO0LGq",
      "execution_count": null,
      "outputs": []
    },
    {
      "cell_type": "markdown",
      "source": [
        "Trabajo con la data almacenada en .part2, la cual es data a velocidad variable (alguna fue sampleada con un vector de tiempo distinto , recordar"
      ],
      "metadata": {
        "id": "suZN_KTsnIvY"
      },
      "id": "suZN_KTsnIvY"
    },
    {
      "cell_type": "code",
      "source": [
        "# unizp de part2  (colocar los unzip de todas la data juntos )\n",
        "unzipmodule.unzip_1(paths[2],names[2]+\".zip\")\n",
        "#creacion de los h5py de part2  \n",
        "unzipmodule.zip_a(paths[2] ,output_file[2])\n",
        "unzipmodule.delete_files(paths[2] ,'.csv')"
      ],
      "metadata": {
        "id": "ihSTJHi4nChr"
      },
      "id": "ihSTJHi4nChr",
      "execution_count": 8,
      "outputs": []
    },
    {
      "cell_type": "markdown",
      "source": [
        "Trabajo con la data almacenada en .part3, la cual es data a velocidad variable (alguna fue sampleada con un vector de tiempo distinto , recordar"
      ],
      "metadata": {
        "id": "0WCaUzpOnU1G"
      },
      "id": "0WCaUzpOnU1G"
    },
    {
      "cell_type": "code",
      "source": [
        "# unizp de part3  (colocar los unzip de todas la data juntos )\n",
        "unzipmodule.unzip_1(paths[3],names[3]+\".zip\")\n",
        "#creacion de los h5py de part3\n",
        "unzipmodule.zip_a(paths[3] ,output_file[3])\n",
        "unzipmodule.delete_files(paths[3] ,'.csv')"
      ],
      "metadata": {
        "id": "VPuD6nAGnW4i"
      },
      "id": "VPuD6nAGnW4i",
      "execution_count": null,
      "outputs": []
    },
    {
      "cell_type": "code",
      "source": [
        "\n",
        "# graficos \n",
        "h5py_file = \"/content/drive/MyDrive/tesis USB /Vibration, acoustic, temperature, and motor current dataset of rotating machine under varying operating conditions for fault diagnosis (korea)/vibration_1/vibration\"\n",
        "plot_data_from_h5py(h5py_file)"
      ],
      "metadata": {
        "id": "YDsHPAgf5h51",
        "outputId": "421ff6be-9bb3-4c4e-c456-fdb21c98450d",
        "colab": {
          "base_uri": "https://localhost:8080/"
        }
      },
      "id": "YDsHPAgf5h51",
      "execution_count": 42,
      "outputs": [
        {
          "output_type": "stream",
          "name": "stdout",
          "text": [
            "Available files:\n",
            "1. 0Nm_BPFI_03\n",
            "2. 0Nm_BPFI_10\n",
            "3. 0Nm_BPFI_30\n",
            "4. 0Nm_BPFO_03\n",
            "5. 0Nm_BPFO_10\n",
            "6. 0Nm_BPFO_30\n",
            "7. 0Nm_Misalign_01\n",
            "8. 0Nm_Misalign_03\n",
            "9. 0Nm_Misalign_05\n",
            "10. 0Nm_Normal\n",
            "11. 0Nm_Unbalance_0583mg\n",
            "12. 0Nm_Unbalance_1169mg\n",
            "13. 0Nm_Unbalance_1751mg\n",
            "14. 0Nm_Unbalance_2239mg\n",
            "15. 0Nm_Unbalance_3318mg\n",
            "16. 2Nm_BPFI_03\n",
            "17. 2Nm_BPFI_10\n",
            "18. 2Nm_BPFI_30\n",
            "19. 2Nm_BPFO_03\n",
            "20. 2Nm_BPFO_10\n",
            "21. 2Nm_BPFO_30\n",
            "22. 2Nm_Misalign_01\n",
            "23. 2Nm_Misalign_03\n",
            "24. 2Nm_Misalign_05\n",
            "25. 2Nm_Normal\n",
            "26. 2Nm_Unbalalnce_0583mg\n",
            "27. 2Nm_Unbalalnce_1169mg\n",
            "28. 2Nm_Unbalalnce_1751mg\n",
            "29. 2Nm_Unbalalnce_2239mg\n",
            "30. 2Nm_Unbalalnce_3318mg\n",
            "31. 4Nm_BPFI_03\n",
            "32. 4Nm_BPFI_10\n",
            "33. 4Nm_BPFI_30\n",
            "34. 4Nm_BPFO_03\n",
            "35. 4Nm_BPFO_10\n",
            "36. 4Nm_BPFO_30\n",
            "37. 4Nm_Misalign_01\n",
            "38. 4Nm_Misalign_03\n",
            "39. 4Nm_Misalign_05\n",
            "40. 4Nm_Normal\n",
            "41. 4Nm_Unbalance_0583mg\n",
            "42. 4Nm_Unbalance_1169mg\n",
            "43. 4Nm_Unbalance_1751mg\n",
            "44. 4Nm_Unbalance_2239mg\n",
            "45. 4Nm_Unbalance_3318mg\n",
            "Enter the index of the file you want to plot: 10\n",
            "Do you want an interactive graph? (yes/no): yes\n",
            "Te odio Eduardo\n"
          ]
        }
      ]
    }
  ],
  "metadata": {
    "kernelspec": {
      "display_name": "Python 3 (ipykernel)",
      "language": "python",
      "name": "python3"
    },
    "language_info": {
      "codemirror_mode": {
        "name": "ipython",
        "version": 3
      },
      "file_extension": ".py",
      "mimetype": "text/x-python",
      "name": "python",
      "nbconvert_exporter": "python",
      "pygments_lexer": "ipython3",
      "version": "3.10.11"
    },
    "colab": {
      "provenance": [],
      "include_colab_link": true
    }
  },
  "nbformat": 4,
  "nbformat_minor": 5
}