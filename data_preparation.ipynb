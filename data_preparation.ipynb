{
  "cells": [
    {
      "cell_type": "markdown",
      "metadata": {
        "id": "view-in-github",
        "colab_type": "text"
      },
      "source": [
        "<a href=\"https://colab.research.google.com/github/naldo14/tesis-/blob/slave/data_preparation.ipynb\" target=\"_parent\"><img src=\"https://colab.research.google.com/assets/colab-badge.svg\" alt=\"Open In Colab\"/></a>"
      ]
    },
    {
      "cell_type": "code",
      "execution_count": 1,
      "id": "34945ccd-5325-4038-8d26-5bd2e2a85d7d",
      "metadata": {
        "id": "34945ccd-5325-4038-8d26-5bd2e2a85d7d"
      },
      "outputs": [],
      "source": [
        "import pandas as pd #libreria pandas para hacer los dataframe\n",
        "# import numpy as np\n",
        "# from scipy.io import loadmat  #libreria para cargar los archivos .mat \n",
        "import matplotlib.pyplot as plt\n",
        "# import os  #libreria para obtener los path \n",
        "# from functools import reduce\n",
        "import plotly.graph_objects as go\n",
        "# import h5py #librerua para crear archivos , h5py \n",
        "# import zipfile #libreria para hacer los unzip \n",
        "import sys"
      ]
    },
    {
      "cell_type": "code",
      "source": [
        "import h5py\n",
        "\n",
        "def print_h5py_keys(file_path):\n",
        "    with h5py.File(file_path, 'r') as h5_file:\n",
        "        print(\"Keys in the h5py file:\")\n",
        "        for key in h5_file.keys():\n",
        "            print(key)\n",
        "\n"
      ],
      "metadata": {
        "id": "uqMECOwYUQIT"
      },
      "id": "uqMECOwYUQIT",
      "execution_count": null,
      "outputs": []
    },
    {
      "cell_type": "code",
      "source": [
        "#hacer el mounted de mi cuenta drive \n",
        "from google.colab import drive\n",
        "drive.mount('/content/drive') "
      ],
      "metadata": {
        "colab": {
          "base_uri": "https://localhost:8080/"
        },
        "id": "d0NqtyJs3e_n",
        "outputId": "604597d8-12c1-4d87-9cbf-4597a5d27b2d"
      },
      "id": "d0NqtyJs3e_n",
      "execution_count": 2,
      "outputs": [
        {
          "output_type": "stream",
          "name": "stdout",
          "text": [
            "Mounted at /content/drive\n"
          ]
        }
      ]
    },
    {
      "cell_type": "code",
      "source": [
        "sys.path.insert(0,\"/content/drive/My Drive/Colab Notebooks\")\n",
        "import unzipmodule"
      ],
      "metadata": {
        "id": "Yst40w9VI8A0"
      },
      "id": "Yst40w9VI8A0",
      "execution_count": 3,
      "outputs": []
    },
    {
      "cell_type": "code",
      "source": [
        "#celda para crear la lista con los paths de mi data \n",
        "paths=[] #creo la lista de pahts \n",
        "names=[] #creo la lista de nombres \n",
        "output_file=[]\n",
        "paths.append('/content/drive/MyDrive/tesis USB /Vibration, acoustic, temperature, and motor current dataset of rotating machine under varying operating conditions for fault diagnosis (korea)/vibration_1')\n",
        "paths.append('/content/drive/MyDrive/tesis USB /Vibration, acoustic, temperature, and motor current dataset of rotating machine under varying operating conditions for fault diagnosis (korea)/part1')\n",
        "paths.append('/content/drive/MyDrive/tesis USB /Vibration, acoustic, temperature, and motor current dataset of rotating machine under varying operating conditions for fault diagnosis (korea)/part2')\n",
        "paths.append('/content/drive/MyDrive/tesis USB /Vibration, acoustic, temperature, and motor current dataset of rotating machine under varying operating conditions for fault diagnosis (korea)/part3')\n",
        "names.append('vibration')\n",
        "names.append('part1')\n",
        "names.append('part2')\n",
        "names.append('part3')\n",
        "output_file.append('/content/drive/MyDrive/tesis USB /Vibration, acoustic, temperature, and motor current dataset of rotating machine under varying operating conditions for fault diagnosis (korea)/vibration_1/vibration')\n",
        "output_file.append('/content/drive/MyDrive/tesis USB /Vibration, acoustic, temperature, and motor current dataset of rotating machine under varying operating conditions for fault diagnosis (korea)/part1/part1')\n"
      ],
      "metadata": {
        "id": "-ToCAeE_1hll"
      },
      "id": "-ToCAeE_1hll",
      "execution_count": 4,
      "outputs": []
    },
    {
      "cell_type": "markdown",
      "source": [
        "Trabajo con la data almacenada en .vibration, la cual es data a carga variable y velocidad constante "
      ],
      "metadata": {
        "id": "A8DJCb0qUWOg"
      },
      "id": "A8DJCb0qUWOg"
    },
    {
      "cell_type": "code",
      "source": [
        "# unizp de vibration_1 (colocar los unzip de todas la data juntos )\n",
        "unzipmodule.unzip_1(paths[0],names[0]+\".zip\")\n",
        "#creacion de los h5py de vibration 1 \n",
        "unzipmodule.zip_a(paths[0] ,output_file[0])\n",
        "#eliminacion de los .mat para ahorrar espacio \n",
        "unzipmodule.delete_files(paths[0] ,'.mat')"
      ],
      "metadata": {
        "id": "XoxletWGsz3Q"
      },
      "id": "XoxletWGsz3Q",
      "execution_count": 5,
      "outputs": []
    },
    {
      "cell_type": "markdown",
      "source": [
        "Trabajo con la data almacenada en .vibration, la cual es data a velocidad variable (alguna fue sampleada con un vector de tiempo distinto , recordar)"
      ],
      "metadata": {
        "id": "whflD3c5UxjT"
      },
      "id": "whflD3c5UxjT"
    },
    {
      "cell_type": "code",
      "source": [
        "# unizp de part1  (colocar los unzip de todas la data juntos )\n",
        "unzipmodule.unzip_1(paths[1],names[1]+\".zip\")\n",
        "#creacion de los h5py de part1   \n",
        "unzipmodule.zip_a(paths[1] ,output_file[1])\n",
        "unzipmodule.delete_files(paths[1] ,'.csv')"
      ],
      "metadata": {
        "id": "-BeON8AO0LGq"
      },
      "id": "-BeON8AO0LGq",
      "execution_count": 7,
      "outputs": []
    },
    {
      "cell_type": "code",
      "execution_count": null,
      "id": "96cb37ec-ed90-4740-9c9e-bf3e11257e46",
      "metadata": {
        "id": "96cb37ec-ed90-4740-9c9e-bf3e11257e46"
      },
      "outputs": [],
      "source": [
        "## funcion para obtener las graficas \n",
        "def graficador(all_vibration,all_time,file_paths):\n",
        "    # number_of_graphics= int(input(\"Ingrese la cantidad de experimentos que desea ver, tenga en cuenta que son dos housing de rodamientos y que las medidas son el eje x y y: \"))\n",
        "    name=input('ingrese el nombre del archivo que desea ver')\n",
        "    full_name=\"C:\\\\Users\\\\58424\\\\Downloads\\\\tesis-usb\\\\data set\\\\Vibration, acoustic, temperature, and motor\\\\data under variaty load condition\\\\vibration\\\\\"+name\n",
        "    try:\n",
        "        # Find index of the input string\n",
        "        index = file_paths.index(full_name)\n",
        "        print(\"Index of string\", name, \"in the list:\", index)\n",
        "    except ValueError:\n",
        "        print(\"String\", name ,\"not found in the list.\")\n",
        "    cont= int(input('Ingrese 1  si desea graficos interactivos 0 si no '))\n",
        "    i=index\n",
        "    \n",
        "    if cont==0:\n",
        "        \n",
        "            fig, ax = plt.subplots()\n",
        "            ax.grid(True)\n",
        "            line=ax.plot(all_time[i],all_vibration[i][:,0])\n",
        "            plt.ylabel('g ')\n",
        "            plt.xlabel('[s]')\n",
        "            title='Amplitud de las vibraciones en el eje x (housing A)'+file_paths[i][132:160]\n",
        "            ax.set_title(title)\n",
        "            plt.show()\n",
        "      ######################333      \n",
        "            fig, ax = plt.subplots()\n",
        "            ax.grid(True)\n",
        "            ax.plot(all_time[i],all_vibration[i][:,1])\n",
        "            plt.ylabel('g ')\n",
        "            plt.xlabel('[s]')\n",
        "            title='Amplitud de las vibraciones en el eje y (housing A)'+file_paths[i][132:160]\n",
        "            ax.set_title(title)\n",
        "            plt.show()\n",
        "\n",
        "\n",
        "            fig, ax = plt.subplots()\n",
        "            ax.grid(True)\n",
        "            ax.plot(all_time[i],all_vibration[i][:,2])\n",
        "            plt.ylabel('g ')\n",
        "            plt.xlabel('[s]')\n",
        "            title='Amplitud de las vibraciones en el eje x (housing B)'+file_paths[i][132:160]\n",
        "            ax.set_title(title)\n",
        "            plt.show()\n",
        "\n",
        "\n",
        "            fig, ax = plt.subplots()\n",
        "            ax.grid(True)\n",
        "            ax.plot(all_time[i],all_vibration[i][:,3])\n",
        "            plt.ylabel('g ')\n",
        "            plt.xlabel('[s]')\n",
        "            title='Amplitud de las vibraciones en el eje y (housing B)'+file_paths[i][132:160]\n",
        "            ax.set_title(title)\n",
        "            plt.show()\n",
        "            \n",
        "            \n",
        "    else:\n",
        "            x = all_time[i]\n",
        "            y1 = all_vibration[i][:,0]\n",
        "            y2 = all_vibration[i][:,1]\n",
        "            y3 = all_vibration[i][:,2]\n",
        "            y4 = all_vibration[i][:,3]\n",
        "            #figura 1 \n",
        "            fig1  = go.Figure(data=go.Scatter(x=x, y=y1, mode='lines'))\n",
        "            # Configure the layout\n",
        "            fig1 .update_layout(\n",
        "                title='Amplitud de las vibraciones en el eje x (housing A)'+file_paths[i][132:160],\n",
        "                xaxis_title='[s]',\n",
        "                yaxis_title='g ',\n",
        "                hovermode='closest',\n",
        "                dragmode='zoom',\n",
        "            )\n",
        "            \n",
        "#             #figura 2\n",
        "#             fig2 = go.Figure(data=go.Scatter(x=x, y=y2, mode='lines'))\n",
        "#             # Configure the layout\n",
        "#             fig2.update_layout(\n",
        "#                 title='Amplitud de las vibraciones en el eje y (housing A)'+file_paths[i][132:160],\n",
        "#                 xaxis_title='[s]',\n",
        "#                 yaxis_title='g ',\n",
        "#                 hovermode='closest',\n",
        "#                 dragmode='zoom',\n",
        "#             )\n",
        "            \n",
        "#             #figura 3 \n",
        "#             # Create a line plot\n",
        "#             fig3 = go.Figure(data=go.Scatter(x=x, y=y3 , mode='lines'))\n",
        "#             # Configure the layout\n",
        "#             fig3.update_layout(\n",
        "#                 title='Amplitud de las vibraciones en el eje x (housing B)'+file_paths[i][132:160],\n",
        "#                 xaxis_title='[s]',\n",
        "#                 yaxis_title='g ',\n",
        "#                 hovermode='closest',\n",
        "#                 dragmode='zoom',\n",
        "#             )\n",
        "            \n",
        "#             #figura 4\n",
        "#             # Create a line plot\n",
        "#             fig4 = go.Figure(data=go.Scatter(x=x, y=y4 , mode='lines'))\n",
        "#             # Configure the layout\n",
        "#             fig4.update_layout(\n",
        "#                 title='Amplitud de las vibraciones en el eje y(housing B)'+file_paths[i][132:160],\n",
        "#                 xaxis_title='[s]',\n",
        "#                 yaxis_title='g ',\n",
        "#                 hovermode='closest',\n",
        "#                 dragmode='zoom',\n",
        "#             )\n",
        "            \n",
        "            fig1.show()\n",
        "#             fig2.show()\n",
        "#             fig3.show()\n",
        "#             fig4.show()\n",
        "\n",
        "\n",
        "\n",
        "    # print(\"Numero de elementos del vector vibraciones ((housing A eje X):\",all_vibration[i][:,0].shape)\n",
        "    # print(\"Numero de elementos del vector vibraciones ((housing A eje Y):\",all_vibration[i][:,1].shape)\n",
        "    # print(\"Numero de elementos del vector vibraciones ((housing B eje X):\",all_vibration[i][:,2].shape)\n",
        "    # print(\"Numero de elementos del vector vibraciones ((housing B eje Y):\",all_vibration[i][:,3].shape)\n",
        "    # print(\"Numero de elementos del vector tiempo :\",all_time[i].shape)\n",
        "    return()\n",
        "    \n",
        "    "
      ]
    },
    {
      "cell_type": "code",
      "execution_count": null,
      "id": "1f3e7e65-f0cf-4eb6-9c68-e3367ef5da12",
      "metadata": {
        "id": "1f3e7e65-f0cf-4eb6-9c68-e3367ef5da12"
      },
      "outputs": [],
      "source": []
    }
  ],
  "metadata": {
    "kernelspec": {
      "display_name": "Python 3 (ipykernel)",
      "language": "python",
      "name": "python3"
    },
    "language_info": {
      "codemirror_mode": {
        "name": "ipython",
        "version": 3
      },
      "file_extension": ".py",
      "mimetype": "text/x-python",
      "name": "python",
      "nbconvert_exporter": "python",
      "pygments_lexer": "ipython3",
      "version": "3.10.11"
    },
    "colab": {
      "provenance": [],
      "include_colab_link": true
    }
  },
  "nbformat": 4,
  "nbformat_minor": 5
}