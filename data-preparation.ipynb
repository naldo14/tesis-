{
 "cells": [
  {
   "cell_type": "code",
   "execution_count": 1,
   "id": "e322fb90",
   "metadata": {
    "execution": {
     "iopub.execute_input": "2023-05-15T03:51:19.681940Z",
     "iopub.status.busy": "2023-05-15T03:51:19.681319Z",
     "iopub.status.idle": "2023-05-15T03:51:38.809657Z",
     "shell.execute_reply": "2023-05-15T03:51:38.808687Z"
    },
    "papermill": {
     "duration": 19.135766,
     "end_time": "2023-05-15T03:51:38.812046",
     "exception": false,
     "start_time": "2023-05-15T03:51:19.676280",
     "status": "completed"
    },
    "tags": []
   },
   "outputs": [
    {
     "name": "stdout",
     "output_type": "stream",
     "text": [
      "Collecting mendeley\r\n",
      "  Downloading mendeley-0.3.2-py2.py3-none-any.whl (26 kB)\r\n",
      "Collecting requests-oauthlib==0.4.2\r\n",
      "  Downloading requests_oauthlib-0.4.2-py2.py3-none-any.whl (19 kB)\r\n",
      "Collecting arrow==0.5.0\r\n",
      "  Downloading arrow-0.5.0.tar.gz (78 kB)\r\n",
      "\u001b[2K     \u001b[90m━━━━━━━━━━━━━━━━━━━━━━━━━━━━━━━━━━━━━━━━\u001b[0m \u001b[32m78.9/78.9 kB\u001b[0m \u001b[31m5.3 MB/s\u001b[0m eta \u001b[36m0:00:00\u001b[0m\r\n",
      "\u001b[?25h  Preparing metadata (setup.py) ... \u001b[?25l-\b \bdone\r\n",
      "\u001b[?25hCollecting future==0.14.3\r\n",
      "  Downloading future-0.14.3.tar.gz (1.5 MB)\r\n",
      "\u001b[2K     \u001b[90m━━━━━━━━━━━━━━━━━━━━━━━━━━━━━━━━━━━━━━━━\u001b[0m \u001b[32m1.5/1.5 MB\u001b[0m \u001b[31m54.9 MB/s\u001b[0m eta \u001b[36m0:00:00\u001b[0m\r\n",
      "\u001b[?25h  Preparing metadata (setup.py) ... \u001b[?25l-\b \b\\\b \bdone\r\n",
      "\u001b[?25hCollecting requests==2.5.1\r\n",
      "  Downloading requests-2.5.1-py2.py3-none-any.whl (464 kB)\r\n",
      "\u001b[2K     \u001b[90m━━━━━━━━━━━━━━━━━━━━━━━━━━━━━━━━━━━━━━\u001b[0m \u001b[32m464.4/464.4 kB\u001b[0m \u001b[31m40.4 MB/s\u001b[0m eta \u001b[36m0:00:00\u001b[0m\r\n",
      "\u001b[?25hCollecting oauthlib==0.7.2\r\n",
      "  Downloading oauthlib-0.7.2.tar.gz (106 kB)\r\n",
      "\u001b[2K     \u001b[90m━━━━━━━━━━━━━━━━━━━━━━━━━━━━━━━━━━━━━━\u001b[0m \u001b[32m106.1/106.1 kB\u001b[0m \u001b[31m11.5 MB/s\u001b[0m eta \u001b[36m0:00:00\u001b[0m\r\n",
      "\u001b[?25h  Preparing metadata (setup.py) ... \u001b[?25l-\b \bdone\r\n",
      "\u001b[?25hCollecting memoized-property==1.0.2\r\n",
      "  Downloading memoized-property-1.0.2.tar.gz (4.8 kB)\r\n",
      "  Preparing metadata (setup.py) ... \u001b[?25l-\b \bdone\r\n",
      "\u001b[?25hRequirement already satisfied: python-dateutil in /opt/conda/lib/python3.10/site-packages (from arrow==0.5.0->mendeley) (2.8.2)\r\n",
      "Requirement already satisfied: six>=1.5 in /opt/conda/lib/python3.10/site-packages (from python-dateutil->arrow==0.5.0->mendeley) (1.16.0)\r\n",
      "Building wheels for collected packages: arrow, future, memoized-property, oauthlib\r\n",
      "  Building wheel for arrow (setup.py) ... \u001b[?25l-\b \b\\\b \bdone\r\n",
      "\u001b[?25h  Created wheel for arrow: filename=arrow-0.5.0-py3-none-any.whl size=24314 sha256=e11b153487f9825d51d4926b33ced4c6fbe1ce679a0070562f1bb9fc2d7e1198\r\n",
      "  Stored in directory: /root/.cache/pip/wheels/e1/04/2f/b33bf4ee943afefa84928e7fe71aee3466ca55bb1cd0861a9a\r\n",
      "  Building wheel for future (setup.py) ... \u001b[?25l-\b \b\\\b \b|\b \bdone\r\n",
      "\u001b[?25h  Created wheel for future: filename=future-0.14.3-py3-none-any.whl size=482319 sha256=5bdd446208f4374bf7ad176ea3908429d040a9bb20ca4b0a9aaf5a2434659337\r\n",
      "  Stored in directory: /root/.cache/pip/wheels/8f/39/09/85f7eb3a2a69661ef9b596f054728aa13281e464ccd1040ca2\r\n",
      "  Building wheel for memoized-property (setup.py) ... \u001b[?25l-\b \b\\\b \bdone\r\n",
      "\u001b[?25h  Created wheel for memoized-property: filename=memoized_property-1.0.2-py3-none-any.whl size=3898 sha256=23ce00f771e4d4a24d4070aca762032abeac3cc62e18cab9b282c307e9d8541b\r\n",
      "  Stored in directory: /root/.cache/pip/wheels/e1/43/14/a49072292aae16ecba37069d4634a053f594212e060e00f0af\r\n",
      "  Building wheel for oauthlib (setup.py) ... \u001b[?25l-\b \b\\\b \bdone\r\n",
      "\u001b[?25h  Created wheel for oauthlib: filename=oauthlib-0.7.2-py3-none-any.whl size=108790 sha256=06273d299151ccb992822af0499f42203aa5f005bb69a0ee4ed377e7b092bc92\r\n",
      "  Stored in directory: /root/.cache/pip/wheels/10/b6/22/cd2397736d901d637680626a3a3632ef33e959a189e8d2bad9\r\n",
      "Successfully built arrow future memoized-property oauthlib\r\n",
      "Installing collected packages: requests, oauthlib, memoized-property, future, requests-oauthlib, arrow, mendeley\r\n",
      "  Attempting uninstall: requests\r\n",
      "    Found existing installation: requests 2.28.2\r\n",
      "    Uninstalling requests-2.28.2:\r\n",
      "      Successfully uninstalled requests-2.28.2\r\n",
      "  Attempting uninstall: oauthlib\r\n",
      "    Found existing installation: oauthlib 3.2.2\r\n",
      "    Uninstalling oauthlib-3.2.2:\r\n",
      "      Successfully uninstalled oauthlib-3.2.2\r\n",
      "  Attempting uninstall: future\r\n",
      "    Found existing installation: future 0.18.3\r\n",
      "    Uninstalling future-0.18.3:\r\n",
      "      Successfully uninstalled future-0.18.3\r\n",
      "  Attempting uninstall: requests-oauthlib\r\n",
      "    Found existing installation: requests-oauthlib 1.3.1\r\n",
      "    Uninstalling requests-oauthlib-1.3.1:\r\n",
      "      Successfully uninstalled requests-oauthlib-1.3.1\r\n",
      "  Attempting uninstall: arrow\r\n",
      "    Found existing installation: arrow 1.2.3\r\n",
      "    Uninstalling arrow-1.2.3:\r\n",
      "      Successfully uninstalled arrow-1.2.3\r\n",
      "\u001b[31mERROR: pip's dependency resolver does not currently take into account all the packages that are installed. This behaviour is the source of the following dependency conflicts.\r\n",
      "ydata-profiling 4.1.2 requires requests<2.29,>=2.24.0, but you have requests 2.5.1 which is incompatible.\r\n",
      "wfdb 4.1.0 requires requests<3.0.0,>=2.8.1, but you have requests 2.5.1 which is incompatible.\r\n",
      "vaex-core 4.16.1 requires future>=0.15.2, but you have future 0.14.3 which is incompatible.\r\n",
      "tsfresh 0.20.0 requires requests>=2.9.1, but you have requests 2.5.1 which is incompatible.\r\n",
      "tensorflow-datasets 4.9.0 requires requests>=2.19.0, but you have requests 2.5.1 which is incompatible.\r\n",
      "tensorboard 2.11.2 requires requests<3,>=2.21.0, but you have requests 2.5.1 which is incompatible.\r\n",
      "spacy 3.5.2 requires requests<3.0.0,>=2.13.0, but you have requests 2.5.1 which is incompatible.\r\n",
      "s2sphere 0.2.5 requires future>=0.15, but you have future 0.14.3 which is incompatible.\r\n",
      "quilt3 5.3.0 requires requests>=2.12.4, but you have requests 2.5.1 which is incompatible.\r\n",
      "pooch 1.6.0 requires requests>=2.19.0, but you have requests 2.5.1 which is incompatible.\r\n",
      "pandas-datareader 0.10.0 requires requests>=2.19.0, but you have requests 2.5.1 which is incompatible.\r\n",
      "osmnx 1.1.1 requires requests>=2.25, but you have requests 2.5.1 which is incompatible.\r\n",
      "opentelemetry-exporter-otlp-proto-http 1.17.0 requires requests~=2.7, but you have requests 2.5.1 which is incompatible.\r\n",
      "nilearn 0.10.0 requires requests>=2.25.0, but you have requests 2.5.1 which is incompatible.\r\n",
      "librosa 0.10.0.post2 requires soundfile>=0.12.1, but you have soundfile 0.11.0 which is incompatible.\r\n",
      "kfp 1.8.20 requires google-api-python-client<2,>=1.7.8, but you have google-api-python-client 2.86.0 which is incompatible.\r\n",
      "kfp 1.8.20 requires PyYAML<6,>=5.3, but you have pyyaml 6.0 which is incompatible.\r\n",
      "kaggle-environments 1.12.0 requires requests>=2.25.1, but you have requests 2.5.1 which is incompatible.\r\n",
      "jupyterlab-server 2.22.0 requires requests>=2.28, but you have requests 2.5.1 which is incompatible.\r\n",
      "isoduration 20.11.0 requires arrow>=0.15.0, but you have arrow 0.5.0 which is incompatible.\r\n",
      "hdfs 2.7.0 requires requests>=2.7.0, but you have requests 2.5.1 which is incompatible.\r\n",
      "google-cloud-storage 1.44.0 requires requests<3.0.0dev,>=2.18.0, but you have requests 2.5.1 which is incompatible.\r\n",
      "google-cloud-bigquery 2.34.4 requires requests<3.0.0dev,>=2.18.0, but you have requests 2.5.1 which is incompatible.\r\n",
      "google-auth-oauthlib 0.4.6 requires requests-oauthlib>=0.7.0, but you have requests-oauthlib 0.4.2 which is incompatible.\r\n",
      "google-api-core 1.34.0 requires requests<3.0.0dev,>=2.18.0, but you have requests 2.5.1 which is incompatible.\r\n",
      "gcsfs 2023.3.0 requires fsspec==2023.3.0, but you have fsspec 2023.4.0 which is incompatible.\r\n",
      "docker 6.0.1 requires requests>=2.26.0, but you have requests 2.5.1 which is incompatible.\r\n",
      "datasets 2.1.0 requires requests>=2.19.0, but you have requests 2.5.1 which is incompatible.\r\n",
      "conda 23.3.1 requires requests>=2.20.1, but you have requests 2.5.1 which is incompatible.\r\n",
      "beatrix-jupyterlab 2023.46.184821 requires jupyter-server~=1.16, but you have jupyter-server 2.5.0 which is incompatible.\r\n",
      "beatrix-jupyterlab 2023.46.184821 requires requests>=2.22.0, but you have requests 2.5.1 which is incompatible.\r\n",
      "apache-beam 2.46.0 requires dill<0.3.2,>=0.3.1.1, but you have dill 0.3.6 which is incompatible.\r\n",
      "apache-beam 2.46.0 requires requests<3.0.0,>=2.24.0, but you have requests 2.5.1 which is incompatible.\u001b[0m\u001b[31m\r\n",
      "\u001b[0mSuccessfully installed arrow-0.5.0 future-0.14.3 memoized-property-1.0.2 mendeley-0.3.2 oauthlib-0.7.2 requests-2.5.1 requests-oauthlib-0.4.2\r\n",
      "\u001b[33mWARNING: Running pip as the 'root' user can result in broken permissions and conflicting behaviour with the system package manager. It is recommended to use a virtual environment instead: https://pip.pypa.io/warnings/venv\u001b[0m\u001b[33m\r\n",
      "\u001b[0m"
     ]
    }
   ],
   "source": [
    "!pip install mendeley"
   ]
  },
  {
   "cell_type": "code",
   "execution_count": 2,
   "id": "131cb63c",
   "metadata": {
    "execution": {
     "iopub.execute_input": "2023-05-15T03:51:38.825724Z",
     "iopub.status.busy": "2023-05-15T03:51:38.825334Z",
     "iopub.status.idle": "2023-05-15T03:51:39.575032Z",
     "shell.execute_reply": "2023-05-15T03:51:39.573511Z"
    },
    "papermill": {
     "duration": 0.759069,
     "end_time": "2023-05-15T03:51:39.577199",
     "exception": true,
     "start_time": "2023-05-15T03:51:38.818130",
     "status": "failed"
    },
    "tags": []
   },
   "outputs": [
    {
     "name": "stdout",
     "output_type": "stream",
     "text": [
      "Unexpected exception formatting exception. Falling back to standard exception\n"
     ]
    },
    {
     "name": "stderr",
     "output_type": "stream",
     "text": [
      "Traceback (most recent call last):\n",
      "  File \"/opt/conda/lib/python3.10/site-packages/IPython/core/interactiveshell.py\", line 3505, in run_code\n",
      "    exec(code_obj, self.user_global_ns, self.user_ns)\n",
      "  File \"/tmp/ipykernel_21/2600532985.py\", line 15, in <module>\n",
      "    auth_response = res.headers['Location']\n",
      "  File \"/opt/conda/lib/python3.10/site-packages/requests/structures.py\", line 52, in __getitem__\n",
      "KeyError: 'location'\n",
      "\n",
      "During handling of the above exception, another exception occurred:\n",
      "\n",
      "Traceback (most recent call last):\n",
      "  File \"/opt/conda/lib/python3.10/site-packages/IPython/core/interactiveshell.py\", line 2102, in showtraceback\n",
      "    stb = self.InteractiveTB.structured_traceback(\n",
      "  File \"/opt/conda/lib/python3.10/site-packages/IPython/core/ultratb.py\", line 1310, in structured_traceback\n",
      "    return FormattedTB.structured_traceback(\n",
      "  File \"/opt/conda/lib/python3.10/site-packages/IPython/core/ultratb.py\", line 1199, in structured_traceback\n",
      "    return VerboseTB.structured_traceback(\n",
      "  File \"/opt/conda/lib/python3.10/site-packages/IPython/core/ultratb.py\", line 1052, in structured_traceback\n",
      "    formatted_exception = self.format_exception_as_a_whole(etype, evalue, etb, number_of_lines_of_context,\n",
      "  File \"/opt/conda/lib/python3.10/site-packages/IPython/core/ultratb.py\", line 978, in format_exception_as_a_whole\n",
      "    frames.append(self.format_record(record))\n",
      "  File \"/opt/conda/lib/python3.10/site-packages/IPython/core/ultratb.py\", line 878, in format_record\n",
      "    frame_info.lines, Colors, self.has_colors, lvals\n",
      "  File \"/opt/conda/lib/python3.10/site-packages/IPython/core/ultratb.py\", line 712, in lines\n",
      "    return self._sd.lines\n",
      "  File \"/opt/conda/lib/python3.10/site-packages/stack_data/utils.py\", line 144, in cached_property_wrapper\n",
      "    value = obj.__dict__[self.func.__name__] = self.func(obj)\n",
      "  File \"/opt/conda/lib/python3.10/site-packages/stack_data/core.py\", line 734, in lines\n",
      "    pieces = self.included_pieces\n",
      "  File \"/opt/conda/lib/python3.10/site-packages/stack_data/utils.py\", line 144, in cached_property_wrapper\n",
      "    value = obj.__dict__[self.func.__name__] = self.func(obj)\n",
      "  File \"/opt/conda/lib/python3.10/site-packages/stack_data/core.py\", line 681, in included_pieces\n",
      "    pos = scope_pieces.index(self.executing_piece)\n",
      "  File \"/opt/conda/lib/python3.10/site-packages/stack_data/utils.py\", line 144, in cached_property_wrapper\n",
      "    value = obj.__dict__[self.func.__name__] = self.func(obj)\n",
      "  File \"/opt/conda/lib/python3.10/site-packages/stack_data/core.py\", line 660, in executing_piece\n",
      "    return only(\n",
      "  File \"/opt/conda/lib/python3.10/site-packages/executing/executing.py\", line 190, in only\n",
      "    raise NotOneValueFound('Expected one value, found 0')\n",
      "executing.executing.NotOneValueFound: Expected one value, found 0\n"
     ]
    }
   ],
   "source": [
    "from mendeley import Mendeley\n",
    "# These values should match the ones supplied when registering your application.\n",
    "client_id=15288\n",
    "client_secret=\"MJ3pI7k5qtDUFtfJ\"\n",
    "redirect_uri=\"http://localhost:8080/testing\"\n",
    "mendeley = Mendeley(client_id, client_secret=client_secret, redirect_uri=redirect_uri)\n",
    "auth = mendeley.start_implicit_grant_flow()\n",
    "# The user needs to visit this URL, and log in to Mendeley.\n",
    "login_url = auth.get_login_url()\n",
    "import requests\n",
    "res = requests.post(login_url, allow_redirects = False, data = {\n",
    "    'username': '15-10527@gmail.com',\n",
    "    'password': 'Menta14@'\n",
    "})\n",
    "auth_response = res.headers['Location']\n",
    "auth_response\n",
    "# session = auth.authenticate(auth_response)"
   ]
  },
  {
   "cell_type": "code",
   "execution_count": null,
   "id": "a421245d",
   "metadata": {
    "execution": {
     "iopub.execute_input": "2023-05-15T02:48:50.431705Z",
     "iopub.status.busy": "2023-05-15T02:48:50.431288Z",
     "iopub.status.idle": "2023-05-15T02:49:03.336698Z",
     "shell.execute_reply": "2023-05-15T02:49:03.335428Z",
     "shell.execute_reply.started": "2023-05-15T02:48:50.431672Z"
    },
    "papermill": {
     "duration": null,
     "end_time": null,
     "exception": null,
     "start_time": null,
     "status": "pending"
    },
    "tags": []
   },
   "outputs": [],
   "source": [
    "! pip install requests"
   ]
  },
  {
   "cell_type": "code",
   "execution_count": null,
   "id": "7eea112b",
   "metadata": {
    "execution": {
     "iopub.execute_input": "2023-05-15T02:35:39.081846Z",
     "iopub.status.busy": "2023-05-15T02:35:39.081331Z",
     "iopub.status.idle": "2023-05-15T02:35:39.090124Z",
     "shell.execute_reply": "2023-05-15T02:35:39.088738Z",
     "shell.execute_reply.started": "2023-05-15T02:35:39.081796Z"
    },
    "papermill": {
     "duration": null,
     "end_time": null,
     "exception": null,
     "start_time": null,
     "status": "pending"
    },
    "tags": []
   },
   "outputs": [],
   "source": [
    "def download_file(url):\n",
    "    local_filename = url.split('/')[-1]\n",
    "    # NOTE the stream=True parameter below\n",
    "    with requests.get(url, stream=True) as r:\n",
    "        r.raise_for_status()\n",
    "        with open(local_filename, 'wb') as f:\n",
    "            for chunk in r.iter_content(chunk_size=8192): \n",
    "                # If you have chunk encoded response uncomment if\n",
    "                # and set chunk_size parameter to None.\n",
    "                #if chunk: \n",
    "                f.write(chunk)\n",
    "    return local_filename"
   ]
  },
  {
   "cell_type": "code",
   "execution_count": null,
   "id": "0dcfab29",
   "metadata": {
    "execution": {
     "iopub.execute_input": "2023-05-15T02:35:45.695512Z",
     "iopub.status.busy": "2023-05-15T02:35:45.694158Z",
     "iopub.status.idle": "2023-05-15T02:35:46.083002Z",
     "shell.execute_reply": "2023-05-15T02:35:46.081439Z",
     "shell.execute_reply.started": "2023-05-15T02:35:45.695451Z"
    },
    "papermill": {
     "duration": null,
     "end_time": null,
     "exception": null,
     "start_time": null,
     "status": "pending"
    },
    "tags": []
   },
   "outputs": [],
   "source": [
    "import requests \n",
    "local_filename=download_file(\"https://data.mendeley.com/public-files/datasets/ztmf3m7h5x/files/ee98c5d9-1052-4448-84b2-ed57711b658d/file_downloaded\")"
   ]
  },
  {
   "cell_type": "code",
   "execution_count": null,
   "id": "69a946da",
   "metadata": {
    "papermill": {
     "duration": null,
     "end_time": null,
     "exception": null,
     "start_time": null,
     "status": "pending"
    },
    "tags": []
   },
   "outputs": [],
   "source": [
    "pip install --upgrade scipy"
   ]
  },
  {
   "cell_type": "code",
   "execution_count": null,
   "id": "08708b35",
   "metadata": {
    "papermill": {
     "duration": null,
     "end_time": null,
     "exception": null,
     "start_time": null,
     "status": "pending"
    },
    "tags": []
   },
   "outputs": [],
   "source": [
    "import pandas as pd \n",
    "import numpy as np\n",
    "from scipy.io import loadmat  #libreria para cargar los archivos .mat \n",
    "import matplotlib.pyplot as plt\n",
    "import os  #libreria para obtener los path \n",
    "from functools import reduce\n",
    "import plotly.graph_objects as go"
   ]
  },
  {
   "cell_type": "code",
   "execution_count": null,
   "id": "6541860d",
   "metadata": {
    "papermill": {
     "duration": null,
     "end_time": null,
     "exception": null,
     "start_time": null,
     "status": "pending"
    },
    "tags": []
   },
   "outputs": [],
   "source": [
    "## funcion para obtener los path de los diferentes archivos \n",
    "def get_file_paths(directory):\n",
    "    file_paths = []\n",
    "    for root, directories, files in os.walk(directory):\n",
    "        for filename in files:\n",
    "            filepath = os.path.join(root, filename)\n",
    "            file_paths.append(filepath)\n",
    "    return file_paths"
   ]
  },
  {
   "cell_type": "code",
   "execution_count": null,
   "id": "7dae2a57",
   "metadata": {
    "papermill": {
     "duration": null,
     "end_time": null,
     "exception": null,
     "start_time": null,
     "status": "pending"
    },
    "tags": []
   },
   "outputs": [],
   "source": [
    "## funcion para obtener las vibraciones.Se guardan en una lista \n",
    "def get_vibration_velocities(file_paths):\n",
    "    all_vibration=[]\n",
    "    all_time=[]\n",
    "    for  i,paths in enumerate(file_paths):\n",
    "        annots=loadmat(paths) #cargar el diccionario almacenado en el archivo .mat \n",
    "        indices_vibration=[0,0,1,0,0,0]  #indice asociado al array de las vibraciones \n",
    "        indices_started_time=[0,0,0,0,0,0,0,0] #indice asociado al valor incial a la cual empezo el sampleo \n",
    "        indices_increment=[0,0,0,0,0,1,0,0]#indice asociado al valor de incremento en el tiempo \n",
    "        indices_number_of_samples=[0,0,0,0,0,2,0,0]\n",
    "    ##################################################################################\n",
    "        vibration = reduce(lambda x, i: x[i], indices_vibration, annots['Signal']) #asignacion de los valores del array de vibraciones \n",
    "        started_time= reduce(lambda x, i: x[i], indices_started_time, annots['Signal']) #asignacion del punto de inicio \n",
    "        increment_time=reduce(lambda x, i: x[i], indices_increment, annots['Signal']) # asignacion del valor de incremento \n",
    "        number_of_samples=reduce(lambda x, i: x[i],indices_number_of_samples, annots['Signal'])\n",
    "        final_value =  started_time + (increment_time* (number_of_samples - 1)) #calculo del valor final \n",
    "        time=np.linspace(started_time, final_value,  number_of_samples,endpoint=True) # \n",
    "        all_vibration.append(vibration)\n",
    "        all_time.append(time) \n",
    "    return(all_vibration,all_time)     "
   ]
  },
  {
   "cell_type": "code",
   "execution_count": null,
   "id": "01fcfa9c",
   "metadata": {
    "papermill": {
     "duration": null,
     "end_time": null,
     "exception": null,
     "start_time": null,
     "status": "pending"
    },
    "tags": []
   },
   "outputs": [],
   "source": [
    "## funcion para obtener las graficas \n",
    "def graficador(all_vibration,all_time,file_paths):\n",
    "    # number_of_graphics= int(input(\"Ingrese la cantidad de experimentos que desea ver, tenga en cuenta que son dos housing de rodamientos y que las medidas son el eje x y y: \"))\n",
    "    name=input('ingrese el nombre del archivo que desea ver')\n",
    "    full_name='C:\\\\Users\\\\58424\\\\Downloads\\\\tesis-usb\\\\data set\\\\Vibration, acoustic, temperature, and motor/data under variaty load condition\\\\vibration\\\\'+name\n",
    "    try:\n",
    "        # Find index of the input string\n",
    "        index = file_paths.index(full_name)\n",
    "        print(\"Index of string\", name, \"in the list:\", index)\n",
    "    except ValueError:\n",
    "        print(\"String\", name ,\"not found in the list.\")\n",
    "    cont= int(input('Ingrese 1  si desea graficos interactivos 0 si no '))\n",
    "    i=index\n",
    "    \n",
    "    if cont==0:\n",
    "        \n",
    "            fig, ax = plt.subplots()\n",
    "            ax.grid(True)\n",
    "            line=ax.plot(all_time[i],all_vibration[i][:,0])\n",
    "            plt.ylabel('g ')\n",
    "            plt.xlabel('[s]')\n",
    "            title='Amplitud de las vibraciones en el eje x (housing A)'+file_paths[i][132:160]\n",
    "            ax.set_title(title)\n",
    "            plt.show()\n",
    "      ######################333      \n",
    "            fig, ax = plt.subplots()\n",
    "            ax.grid(True)\n",
    "            ax.plot(all_time[i],all_vibration[i][:,1])\n",
    "            plt.ylabel('g ')\n",
    "            plt.xlabel('[s]')\n",
    "            title='Amplitud de las vibraciones en el eje y (housing A)'+file_paths[i][132:160]\n",
    "            ax.set_title(title)\n",
    "            plt.show()\n",
    "\n",
    "\n",
    "            fig, ax = plt.subplots()\n",
    "            ax.grid(True)\n",
    "            ax.plot(all_time[i],all_vibration[i][:,2])\n",
    "            plt.ylabel('g ')\n",
    "            plt.xlabel('[s]')\n",
    "            title='Amplitud de las vibraciones en el eje x (housing B)'+file_paths[i][132:160]\n",
    "            ax.set_title(title)\n",
    "            plt.show()\n",
    "\n",
    "\n",
    "            fig, ax = plt.subplots()\n",
    "            ax.grid(True)\n",
    "            ax.plot(all_time[i],all_vibration[i][:,3])\n",
    "            plt.ylabel('g ')\n",
    "            plt.xlabel('[s]')\n",
    "            title='Amplitud de las vibraciones en el eje y (housing B)'+file_paths[i][132:160]\n",
    "            ax.set_title(title)\n",
    "            plt.show()\n",
    "            \n",
    "            \n",
    "    else:\n",
    "            x = all_time[i]\n",
    "            y1 = all_vibration[i][:,0]\n",
    "            y2 = all_vibration[i][:,1]\n",
    "            y3 = all_vibration[i][:,2]\n",
    "            y4 = all_vibration[i][:,3]\n",
    "            #figura 1 \n",
    "            fig1  = go.Figure(data=go.Scatter(x=x, y=y1, mode='lines'))\n",
    "            # Configure the layout\n",
    "            fig1 .update_layout(\n",
    "                title='Amplitud de las vibraciones en el eje x (housing A)'+file_paths[i][132:160],\n",
    "                xaxis_title='[s]',\n",
    "                yaxis_title='g ',\n",
    "                hovermode='closest',\n",
    "                dragmode='zoom',\n",
    "            )\n",
    "            \n",
    "            #figura 2\n",
    "            fig2 = go.Figure(data=go.Scatter(x=x, y=y2, mode='lines'))\n",
    "            # Configure the layout\n",
    "            fig2.update_layout(\n",
    "                title='Amplitud de las vibraciones en el eje y (housing A)'+file_paths[i][132:160],\n",
    "                xaxis_title='[s]',\n",
    "                yaxis_title='g ',\n",
    "                hovermode='closest',\n",
    "                dragmode='zoom',\n",
    "            )\n",
    "            \n",
    "            #figura 3 \n",
    "            # Create a line plot\n",
    "            fig3 = go.Figure(data=go.Scatter(x=x, y=y3 , mode='lines'))\n",
    "            # Configure the layout\n",
    "            fig3.update_layout(\n",
    "                title='Amplitud de las vibraciones en el eje x (housing B)'+file_paths[i][132:160],\n",
    "                xaxis_title='[s]',\n",
    "                yaxis_title='g ',\n",
    "                hovermode='closest',\n",
    "                dragmode='zoom',\n",
    "            )\n",
    "            \n",
    "            #figura 4\n",
    "            # Create a line plot\n",
    "            fig4 = go.Figure(data=go.Scatter(x=x, y=y4 , mode='lines'))\n",
    "            # Configure the layout\n",
    "            fig4.update_layout(\n",
    "                title='Amplitud de las vibraciones en el eje y(housing B)'+file_paths[i][132:160],\n",
    "                xaxis_title='[s]',\n",
    "                yaxis_title='g ',\n",
    "                hovermode='closest',\n",
    "                dragmode='zoom',\n",
    "            )\n",
    "            \n",
    "            fig1.show()\n",
    "            fig2.show()\n",
    "            fig3.show()\n",
    "            fig4.show()\n",
    "\n",
    "\n",
    "\n",
    "    print(\"Numero de elementos del vector vibraciones ((housing A eje X):\",all_vibration[i][:,0].shape)\n",
    "    print(\"Numero de elementos del vector vibraciones ((housing A eje Y):\",all_vibration[i][:,1].shape)\n",
    "    print(\"Numero de elementos del vector vibraciones ((housing B eje X):\",all_vibration[i][:,2].shape)\n",
    "    print(\"Numero de elementos del vector vibraciones ((housing B eje Y):\",all_vibration[i][:,3].shape)\n",
    "    print(\"Numero de elementos del vector tiempo :\",all_time[i].shape)\n",
    "    return()\n",
    "    \n",
    "    "
   ]
  },
  {
   "cell_type": "code",
   "execution_count": null,
   "id": "28fe7c69",
   "metadata": {
    "papermill": {
     "duration": null,
     "end_time": null,
     "exception": null,
     "start_time": null,
     "status": "pending"
    },
    "tags": []
   },
   "outputs": [],
   "source": [
    "# directory_path='C:\\\\Users\\\\58424\\\\Downloads\\\\tesis-usb\\\\data set\\\\Vibration, acoustic, temperature, and motor/data under variaty load condition\\\\vibration'\n",
    "directory_path=\"Downloads/tesis-usb/data set/Vibration, acoustic, temperature, and motor/data under variaty load condition/vibration\"\n",
    "file_paths = get_file_paths(directory_path)\n",
    "all_vibration,all_time=get_vibration_velocities(file_paths)"
   ]
  },
  {
   "cell_type": "code",
   "execution_count": null,
   "id": "d785ff3c",
   "metadata": {
    "papermill": {
     "duration": null,
     "end_time": null,
     "exception": null,
     "start_time": null,
     "status": "pending"
    },
    "tags": []
   },
   "outputs": [],
   "source": [
    "file_paths"
   ]
  },
  {
   "cell_type": "code",
   "execution_count": null,
   "id": "6082b7d7",
   "metadata": {
    "papermill": {
     "duration": null,
     "end_time": null,
     "exception": null,
     "start_time": null,
     "status": "pending"
    },
    "tags": []
   },
   "outputs": [],
   "source": [
    "graficador(all_vibration,all_time,file_paths )"
   ]
  },
  {
   "cell_type": "code",
   "execution_count": null,
   "id": "d1134537",
   "metadata": {
    "papermill": {
     "duration": null,
     "end_time": null,
     "exception": null,
     "start_time": null,
     "status": "pending"
    },
    "tags": []
   },
   "outputs": [],
   "source": [
    "# import numpy as np\n",
    "# import matplotlib.pyplot as plt\n",
    "# import pywt\n",
    "\n",
    "# # Generate a sample signal\n",
    "# t = np.linspace(0, 1, num=1000)\n",
    "# signal = np.sin(2 * np.pi * 10 * t) + np.sin(2 * np.pi * 20 * t) + np.sin(2 * np.pi * 30 * t)\n",
    "\n",
    "# # Define the wavelet and its parameters\n",
    "# wavelet = 'morl'\n",
    "# level = 5\n",
    "\n",
    "# # Apply the CWT\n",
    "# coefficients, frequencies = pywt.cwt(signal, np.arange(1, level + 1), wavelet)\n",
    "\n",
    "# # Create a meshgrid for plotting\n",
    "# t_mesh, f_mesh = np.meshgrid(t, frequencies)\n",
    "\n",
    "# # Plot the CWT coefficients as a contour plot\n",
    "# plt.contourf(t_mesh, f_mesh, np.abs(coefficients), cmap='coolwarm')\n",
    "# plt.colorbar(label='CWT Coefficients')\n",
    "# plt.xlabel('Time')\n",
    "# plt.ylabel('Scale')\n",
    "# plt.title('Continuous Wavelet Transform')\n",
    "# plt.show()"
   ]
  }
 ],
 "metadata": {
  "kernelspec": {
   "display_name": "Python 3",
   "language": "python",
   "name": "python3"
  },
  "language_info": {
   "codemirror_mode": {
    "name": "ipython",
    "version": 3
   },
   "file_extension": ".py",
   "mimetype": "text/x-python",
   "name": "python",
   "nbconvert_exporter": "python",
   "pygments_lexer": "ipython3",
   "version": "3.10.10"
  },
  "papermill": {
   "default_parameters": {},
   "duration": 28.937468,
   "end_time": "2023-05-15T03:51:40.402031",
   "environment_variables": {},
   "exception": true,
   "input_path": "__notebook__.ipynb",
   "output_path": "__notebook__.ipynb",
   "parameters": {},
   "start_time": "2023-05-15T03:51:11.464563",
   "version": "2.4.0"
  }
 },
 "nbformat": 4,
 "nbformat_minor": 5
}
